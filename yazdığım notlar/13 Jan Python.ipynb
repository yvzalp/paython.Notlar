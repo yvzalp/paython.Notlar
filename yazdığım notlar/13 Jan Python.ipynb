{
 "cells": [
  {
   "cell_type": "code",
   "execution_count": 1,
   "id": "eaa74832-9d10-4954-bed2-f7c218b0e859",
   "metadata": {},
   "outputs": [
    {
     "name": "stdout",
     "output_type": "stream",
     "text": [
      "Hello World!\n"
     ]
    }
   ],
   "source": [
    "print(\"Hello World!\")"
   ]
  },
  {
   "cell_type": "code",
   "execution_count": 2,
   "id": "461d8f1d-94cc-4f45-842d-ad9a6f1bb5c8",
   "metadata": {},
   "outputs": [
    {
     "name": "stdout",
     "output_type": "stream",
     "text": [
      "Hello \n",
      "      world\n"
     ]
    }
   ],
   "source": [
    "print(\"\"\"Hello \n",
    "      world\"\"\")"
   ]
  },
  {
   "cell_type": "code",
   "execution_count": 3,
   "id": "9d42d9c2-e50d-4ecf-a8e9-4b66df91bb25",
   "metadata": {},
   "outputs": [
    {
     "name": "stdout",
     "output_type": "stream",
     "text": [
      "41\n"
     ]
    }
   ],
   "source": [
    "print(41)"
   ]
  },
  {
   "cell_type": "code",
   "execution_count": 4,
   "id": "5237ba18-7e28-4eeb-be56-4b4fc8b8be7f",
   "metadata": {},
   "outputs": [
    {
     "name": "stdout",
     "output_type": "stream",
     "text": [
      "sizi çok seviyorum\n"
     ]
    }
   ],
   "source": [
    "print(\"\"\"sizi çok seviyorum\"\"\")"
   ]
  },
  {
   "cell_type": "code",
   "execution_count": 5,
   "id": "81a8534a-eee2-42f8-bc3e-164e4c811fe9",
   "metadata": {},
   "outputs": [
    {
     "name": "stdout",
     "output_type": "stream",
     "text": [
      "'We should have enough time for our family\"\n"
     ]
    }
   ],
   "source": [
    "print(''''We should have enough time for our family\"''')"
   ]
  },
  {
   "cell_type": "code",
   "execution_count": 11,
   "id": "baaa97d3-8284-4b81-90ee-b2c405e87d99",
   "metadata": {},
   "outputs": [
    {
     "name": "stdout",
     "output_type": "stream",
     "text": [
      "3 4 11.4 ali veli deli\n"
     ]
    }
   ],
   "source": [
    "print(3, 4, 11.4, \"ali\", \"veli\", \"deli\" )"
   ]
  },
  {
   "cell_type": "code",
   "execution_count": 12,
   "id": "27893025-0749-4148-ae48-ca44b8c1f4c5",
   "metadata": {},
   "outputs": [
    {
     "ename": "SyntaxError",
     "evalue": "EOF while scanning triple-quoted string literal (<ipython-input-12-4b777b03c816>, line 1)",
     "output_type": "error",
     "traceback": [
      "\u001b[1;36m  File \u001b[1;32m\"<ipython-input-12-4b777b03c816>\"\u001b[1;36m, line \u001b[1;32m1\u001b[0m\n\u001b[1;33m    print('''')\u001b[0m\n\u001b[1;37m               ^\u001b[0m\n\u001b[1;31mSyntaxError\u001b[0m\u001b[1;31m:\u001b[0m EOF while scanning triple-quoted string literal\n"
     ]
    }
   ],
   "source": [
    "print('''')"
   ]
  },
  {
   "cell_type": "code",
   "execution_count": 13,
   "id": "222f8277-83b6-4165-85b3-030bc205f698",
   "metadata": {},
   "outputs": [
    {
     "name": "stdout",
     "output_type": "stream",
     "text": [
      "açıklama\n"
     ]
    }
   ],
   "source": [
    "print(\"açıklama\")  #yorum"
   ]
  },
  {
   "cell_type": "code",
   "execution_count": 19,
   "id": "92ed59cc-5bee-41ab-80ab-237c5a5395b0",
   "metadata": {},
   "outputs": [
    {
     "name": "stdout",
     "output_type": "stream",
     "text": [
      " # açıkl)ama satırı  devam edermi\n"
     ]
    }
   ],
   "source": [
    "print(\" # açıklama satırı \\\n",
    " devam edermi\" )"
   ]
  },
  {
   "cell_type": "code",
   "execution_count": null,
   "id": "d69a55eb-cc62-459e-a619-5479ad9465d9",
   "metadata": {},
   "outputs": [],
   "source": [
    "a=5\n",
    "b=4\n",
    "c=2\n",
    "print(a, b, c)"
   ]
  }
 ],
 "metadata": {
  "kernelspec": {
   "display_name": "Python 3",
   "language": "python",
   "name": "python3"
  },
  "language_info": {
   "codemirror_mode": {
    "name": "ipython",
    "version": 3
   },
   "file_extension": ".py",
   "mimetype": "text/x-python",
   "name": "python",
   "nbconvert_exporter": "python",
   "pygments_lexer": "ipython3",
   "version": "3.8.8"
  }
 },
 "nbformat": 4,
 "nbformat_minor": 5
}
