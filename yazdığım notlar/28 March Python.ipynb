{
 "cells": [
  {
   "cell_type": "markdown",
   "id": "2b97f051",
   "metadata": {},
   "source": [
    "# Robotlara komut verme "
   ]
  },
  {
   "cell_type": "code",
   "execution_count": 13,
   "id": "c92cdf87",
   "metadata": {},
   "outputs": [],
   "source": [
    "command = [\"right 20\", \"right 30\", \"left 50\", \"up 10\", \"down 20\"]"
   ]
  },
  {
   "cell_type": "code",
   "execution_count": 2,
   "id": "009e2313",
   "metadata": {},
   "outputs": [
    {
     "data": {
      "text/plain": [
       "['right 20', 'right 30', 'left 50', 'up 10', 'down 20']"
      ]
     },
     "execution_count": 2,
     "metadata": {},
     "output_type": "execute_result"
    }
   ],
   "source": [
    "command"
   ]
  },
  {
   "cell_type": "code",
   "execution_count": 16,
   "id": "0a9ff5bc",
   "metadata": {},
   "outputs": [],
   "source": [
    "x = y = 0"
   ]
  },
  {
   "cell_type": "code",
   "execution_count": 5,
   "id": "05c6403c",
   "metadata": {},
   "outputs": [
    {
     "data": {
      "text/plain": [
       "'down 20'"
      ]
     },
     "execution_count": 5,
     "metadata": {},
     "output_type": "execute_result"
    }
   ],
   "source": [
    "command[-1]"
   ]
  },
  {
   "cell_type": "code",
   "execution_count": 6,
   "id": "6d5c4db1",
   "metadata": {},
   "outputs": [
    {
     "data": {
      "text/plain": [
       "['down', '20']"
      ]
     },
     "execution_count": 6,
     "metadata": {},
     "output_type": "execute_result"
    }
   ],
   "source": [
    "command[-1].split()"
   ]
  },
  {
   "cell_type": "code",
   "execution_count": 7,
   "id": "f21aa1b0",
   "metadata": {},
   "outputs": [
    {
     "data": {
      "text/plain": [
       "'down'"
      ]
     },
     "execution_count": 7,
     "metadata": {},
     "output_type": "execute_result"
    }
   ],
   "source": [
    "command[-1].split()[0]"
   ]
  },
  {
   "cell_type": "code",
   "execution_count": 8,
   "id": "f493bc04",
   "metadata": {},
   "outputs": [
    {
     "data": {
      "text/plain": [
       "'20'"
      ]
     },
     "execution_count": 8,
     "metadata": {},
     "output_type": "execute_result"
    }
   ],
   "source": [
    "command[-1].split()[1]"
   ]
  },
  {
   "cell_type": "code",
   "execution_count": 17,
   "id": "02053ef4",
   "metadata": {},
   "outputs": [
    {
     "data": {
      "text/plain": [
       "[0, -10]"
      ]
     },
     "execution_count": 17,
     "metadata": {},
     "output_type": "execute_result"
    }
   ],
   "source": [
    "for i in range(len(command)) :\n",
    "    if command[i].startswith(\"r\") : x += int(command[i].split()[1])\n",
    "    \n",
    "    elif command[i].startswith(\"l\") : x -= int(command[i].split()[1])\n",
    "        \n",
    "    elif command[i].startswith(\"u\") : y += int(command[i].split()[1])\n",
    "        \n",
    "    elif command[i].startswith(\"d\") : y-= int(command[i].split()[1])\n",
    "\n",
    "[x, y]"
   ]
  },
  {
   "cell_type": "markdown",
   "id": "9a5e9531",
   "metadata": {},
   "source": [
    "# Valid Paranthesis\n",
    "\n",
    "   Input      Output\n",
    "   -------    ------\n",
    "   \"()\"        True\n",
    "   \"()[]{}\"    True\n",
    "   \"(]\"        False\n",
    "   \"([)]\"      False\n",
    "   \"{[]}\"      True\n",
    "   \"\"          True\n",
    "- Önemli olan koda geçmeden önce algoritma üzerine çalışmaktır."
   ]
  },
  {
   "cell_type": "code",
   "execution_count": null,
   "id": "48e74813",
   "metadata": {},
   "outputs": [],
   "source": [
    "\"([{({})}]({}))\""
   ]
  },
  {
   "cell_type": "code",
   "execution_count": null,
   "id": "ad467777",
   "metadata": {},
   "outputs": [],
   "source": [
    "\"([{()}]())\""
   ]
  },
  {
   "cell_type": "code",
   "execution_count": null,
   "id": "b6af04f8",
   "metadata": {},
   "outputs": [],
   "source": [
    "\"([{}])\""
   ]
  },
  {
   "cell_type": "code",
   "execution_count": null,
   "id": "4ec243f6",
   "metadata": {},
   "outputs": [],
   "source": [
    "\"([])\""
   ]
  },
  {
   "cell_type": "code",
   "execution_count": null,
   "id": "74ffb0d5",
   "metadata": {},
   "outputs": [],
   "source": [
    "\"()\""
   ]
  },
  {
   "cell_type": "code",
   "execution_count": null,
   "id": "d58228da",
   "metadata": {},
   "outputs": [],
   "source": [
    "\"\""
   ]
  },
  {
   "cell_type": "code",
   "execution_count": null,
   "id": "4efe8408",
   "metadata": {},
   "outputs": [],
   "source": [
    "\"[([{({})}]({}))\""
   ]
  },
  {
   "cell_type": "code",
   "execution_count": null,
   "id": "e8bf3f79",
   "metadata": {},
   "outputs": [],
   "source": [
    "\"[([{()}]())\""
   ]
  },
  {
   "cell_type": "code",
   "execution_count": null,
   "id": "94f39d82",
   "metadata": {},
   "outputs": [],
   "source": [
    "\"[([{}])\""
   ]
  },
  {
   "cell_type": "code",
   "execution_count": null,
   "id": "2688bbff",
   "metadata": {},
   "outputs": [],
   "source": [
    "\"[([])\""
   ]
  },
  {
   "cell_type": "code",
   "execution_count": null,
   "id": "334d8417",
   "metadata": {},
   "outputs": [],
   "source": [
    "\"[()\""
   ]
  },
  {
   "cell_type": "code",
   "execution_count": null,
   "id": "c9abf469",
   "metadata": {},
   "outputs": [],
   "source": [
    "\"[\"  => valid değil"
   ]
  },
  {
   "cell_type": "code",
   "execution_count": 19,
   "id": "e5659713",
   "metadata": {},
   "outputs": [
    {
     "data": {
      "text/plain": [
       "'ali+deli+veli'"
      ]
     },
     "execution_count": 19,
     "metadata": {},
     "output_type": "execute_result"
    }
   ],
   "source": [
    "\"ali-deli-veli\".replace(\"-\", \"+\")   # replace methodu bize string döndürür"
   ]
  },
  {
   "cell_type": "code",
   "execution_count": 20,
   "id": "279bde9b",
   "metadata": {},
   "outputs": [
    {
     "data": {
      "text/plain": [
       "'alivelideli'"
      ]
     },
     "execution_count": 20,
     "metadata": {},
     "output_type": "execute_result"
    }
   ],
   "source": [
    "\"ali-veli-deli\".replace(\"-\", \"\")"
   ]
  },
  {
   "cell_type": "code",
   "execution_count": 21,
   "id": "697e638e",
   "metadata": {},
   "outputs": [
    {
     "data": {
      "text/plain": [
       "'ldelvel'"
      ]
     },
     "execution_count": 21,
     "metadata": {},
     "output_type": "execute_result"
    }
   ],
   "source": [
    "\"ali-deli-veli\".replace(\"-\", \"\").replace(\"a\", \"\").replace(\"i\", \"\")"
   ]
  },
  {
   "cell_type": "code",
   "execution_count": 18,
   "id": "762cd508",
   "metadata": {},
   "outputs": [],
   "source": [
    "x = \"[([{({})}]({}))\""
   ]
  },
  {
   "cell_type": "code",
   "execution_count": 22,
   "id": "2562aafd",
   "metadata": {},
   "outputs": [],
   "source": [
    "def isValid(s) :\n",
    "    while \"()\" in s or \"[]\" in s or \"{}\" in s :\n",
    "        s = s.replace(\"()\", \"\").replace(\"[]\",\"\").replace(\"{}\", \"\")\n",
    "    return s == \"\""
   ]
  },
  {
   "cell_type": "code",
   "execution_count": 23,
   "id": "1b4d953e",
   "metadata": {},
   "outputs": [
    {
     "data": {
      "text/plain": [
       "False"
      ]
     },
     "execution_count": 23,
     "metadata": {},
     "output_type": "execute_result"
    }
   ],
   "source": [
    "isValid(x)"
   ]
  },
  {
   "cell_type": "code",
   "execution_count": 24,
   "id": "6b67272d",
   "metadata": {},
   "outputs": [],
   "source": [
    "y = \"([{({})}]({}))\""
   ]
  },
  {
   "cell_type": "code",
   "execution_count": 25,
   "id": "9afca290",
   "metadata": {},
   "outputs": [
    {
     "data": {
      "text/plain": [
       "True"
      ]
     },
     "execution_count": 25,
     "metadata": {},
     "output_type": "execute_result"
    }
   ],
   "source": [
    "isValid(y)"
   ]
  },
  {
   "cell_type": "markdown",
   "id": "76000c5d",
   "metadata": {},
   "source": [
    "# Building a Calculator using dict with lambda Expression"
   ]
  },
  {
   "cell_type": "code",
   "execution_count": null,
   "id": "85ef851e",
   "metadata": {},
   "outputs": [],
   "source": [
    "# calculator [\"+\"](4, 5) => 9"
   ]
  },
  {
   "cell_type": "code",
   "execution_count": 26,
   "id": "e4615a0f",
   "metadata": {},
   "outputs": [
    {
     "data": {
      "text/plain": [
       "9"
      ]
     },
     "execution_count": 26,
     "metadata": {},
     "output_type": "execute_result"
    }
   ],
   "source": [
    "calculator = {\n",
    "    \"+\" : (lambda x,y : x + y),\n",
    "    \"-\" : (lambda x,y : x - y),\n",
    "    \"*\" : (lambda x,y : x * y),\n",
    "    \"/\" : (lambda x,y : x / y),\n",
    "}\n",
    "calculator[\"+\"](4,5)"
   ]
  },
  {
   "cell_type": "code",
   "execution_count": 27,
   "id": "9b9994f8",
   "metadata": {},
   "outputs": [
    {
     "data": {
      "text/plain": [
       "9"
      ]
     },
     "execution_count": 27,
     "metadata": {},
     "output_type": "execute_result"
    }
   ],
   "source": [
    "(lambda x, y : x + y)(4, 5)"
   ]
  },
  {
   "cell_type": "code",
   "execution_count": 28,
   "id": "72462edc",
   "metadata": {},
   "outputs": [],
   "source": [
    "sözlük = {\n",
    "    \"bir\" : 44,\n",
    "    \"iki\" : [\"ali\", \"deli\", \"veli\"]\n",
    "}"
   ]
  },
  {
   "cell_type": "code",
   "execution_count": 29,
   "id": "b6062af5",
   "metadata": {},
   "outputs": [
    {
     "data": {
      "text/plain": [
       "44"
      ]
     },
     "execution_count": 29,
     "metadata": {},
     "output_type": "execute_result"
    }
   ],
   "source": [
    "sözlük[\"bir\"]"
   ]
  },
  {
   "cell_type": "code",
   "execution_count": 30,
   "id": "366694bc",
   "metadata": {},
   "outputs": [
    {
     "data": {
      "text/plain": [
       "['ali', 'deli', 'veli']"
      ]
     },
     "execution_count": 30,
     "metadata": {},
     "output_type": "execute_result"
    }
   ],
   "source": [
    "sözlük[\"iki\"]"
   ]
  },
  {
   "cell_type": "code",
   "execution_count": 31,
   "id": "ada77624",
   "metadata": {},
   "outputs": [
    {
     "data": {
      "text/plain": [
       "list"
      ]
     },
     "execution_count": 31,
     "metadata": {},
     "output_type": "execute_result"
    }
   ],
   "source": [
    "type(sözlük[\"iki\"])"
   ]
  },
  {
   "cell_type": "code",
   "execution_count": 32,
   "id": "458d18d5",
   "metadata": {},
   "outputs": [],
   "source": [
    "calculator = {\n",
    "    \"+\" : (lambda x, y : x + y),\n",
    "    \"-\" : (lambda x, y : x - y),\n",
    "    \"*\" : (lambda x, y : x * y),\n",
    "    \"/\" : (lambda x, y : x / y),\n",
    "}"
   ]
  },
  {
   "cell_type": "code",
   "execution_count": 33,
   "id": "979dde0b",
   "metadata": {},
   "outputs": [
    {
     "data": {
      "text/plain": [
       "<function __main__.<lambda>(x, y)>"
      ]
     },
     "execution_count": 33,
     "metadata": {},
     "output_type": "execute_result"
    }
   ],
   "source": [
    "calculator[\"/\"]   # lambda object sonuç verir."
   ]
  },
  {
   "cell_type": "code",
   "execution_count": 34,
   "id": "6f6175d0",
   "metadata": {},
   "outputs": [
    {
     "data": {
      "text/plain": [
       "2.0"
      ]
     },
     "execution_count": 34,
     "metadata": {},
     "output_type": "execute_result"
    }
   ],
   "source": [
    "calculator[\"/\"](6, 3)"
   ]
  },
  {
   "cell_type": "markdown",
   "id": "8d89cd87",
   "metadata": {},
   "source": [
    "## password generator"
   ]
  },
  {
   "cell_type": "code",
   "execution_count": 35,
   "id": "2d690dfc",
   "metadata": {},
   "outputs": [],
   "source": [
    "import random"
   ]
  },
  {
   "cell_type": "code",
   "execution_count": 36,
   "id": "5e2cc82a",
   "metadata": {},
   "outputs": [
    {
     "data": {
      "text/plain": [
       "16"
      ]
     },
     "execution_count": 36,
     "metadata": {},
     "output_type": "execute_result"
    }
   ],
   "source": [
    "random.randint(10, 30)"
   ]
  },
  {
   "cell_type": "code",
   "execution_count": 37,
   "id": "114accf9",
   "metadata": {},
   "outputs": [
    {
     "data": {
      "text/plain": [
       "'o'"
      ]
     },
     "execution_count": 37,
     "metadata": {},
     "output_type": "execute_result"
    }
   ],
   "source": [
    "chr(111)   # ASCII kod karşılığını verir."
   ]
  },
  {
   "cell_type": "code",
   "execution_count": 38,
   "id": "f3794ffa",
   "metadata": {},
   "outputs": [
    {
     "data": {
      "text/plain": [
       "'m'"
      ]
     },
     "execution_count": 38,
     "metadata": {},
     "output_type": "execute_result"
    }
   ],
   "source": [
    "chr(random.randint(97, 127))   # küçük harflerin aralığından seçer"
   ]
  },
  {
   "cell_type": "code",
   "execution_count": 39,
   "id": "251cccaf",
   "metadata": {},
   "outputs": [
    {
     "data": {
      "text/plain": [
       "'O'"
      ]
     },
     "execution_count": 39,
     "metadata": {},
     "output_type": "execute_result"
    }
   ],
   "source": [
    "chr(random.randint(65, 90))    # büyük harflerin aralığından seçer"
   ]
  },
  {
   "cell_type": "code",
   "execution_count": 40,
   "id": "948023a4",
   "metadata": {},
   "outputs": [
    {
     "data": {
      "text/plain": [
       "'8'"
      ]
     },
     "execution_count": 40,
     "metadata": {},
     "output_type": "execute_result"
    }
   ],
   "source": [
    "chr(random.randint(48, 57))    # sayılar için"
   ]
  },
  {
   "cell_type": "code",
   "execution_count": 41,
   "id": "5c081f7a",
   "metadata": {},
   "outputs": [
    {
     "data": {
      "text/plain": [
       "\"'\""
      ]
     },
     "execution_count": 41,
     "metadata": {},
     "output_type": "execute_result"
    }
   ],
   "source": [
    "chr(random.randint(33, 47))     # özel karakterler için 33-47 58-64"
   ]
  },
  {
   "cell_type": "code",
   "execution_count": 42,
   "id": "dc85b5c5",
   "metadata": {},
   "outputs": [
    {
     "data": {
      "text/plain": [
       "'<'"
      ]
     },
     "execution_count": 42,
     "metadata": {},
     "output_type": "execute_result"
    }
   ],
   "source": [
    "chr(random.randint(58, 64)) "
   ]
  },
  {
   "cell_type": "code",
   "execution_count": null,
   "id": "fd5f6178",
   "metadata": {},
   "outputs": [],
   "source": [
    "uppers = [BUYUK-HARFLER for in range(3)]"
   ]
  },
  {
   "cell_type": "code",
   "execution_count": 46,
   "id": "3acc2bb0",
   "metadata": {},
   "outputs": [
    {
     "data": {
      "text/plain": [
       "['Y', 'C', 'Y']"
      ]
     },
     "execution_count": 46,
     "metadata": {},
     "output_type": "execute_result"
    }
   ],
   "source": [
    "uppers = [chr(random.randint(65, 90)) for i in range(3)]\n",
    "uppers"
   ]
  },
  {
   "cell_type": "code",
   "execution_count": 47,
   "id": "10afe4e8",
   "metadata": {},
   "outputs": [
    {
     "data": {
      "text/plain": [
       "['h', 'n', 'u']"
      ]
     },
     "execution_count": 47,
     "metadata": {},
     "output_type": "execute_result"
    }
   ],
   "source": [
    "lowers = [chr(random.randint(97, 127)) for i in range(3)]\n",
    "lowers"
   ]
  },
  {
   "cell_type": "code",
   "execution_count": 48,
   "id": "e9cf5361",
   "metadata": {},
   "outputs": [
    {
     "data": {
      "text/plain": [
       "['1', '2', '0']"
      ]
     },
     "execution_count": 48,
     "metadata": {},
     "output_type": "execute_result"
    }
   ],
   "source": [
    "numbers =[chr(random.randint(48, 57)) for i in range(3)]\n",
    "numbers"
   ]
  },
  {
   "cell_type": "code",
   "execution_count": 49,
   "id": "f2af2743",
   "metadata": {},
   "outputs": [
    {
     "data": {
      "text/plain": [
       "'#<'"
      ]
     },
     "execution_count": 49,
     "metadata": {},
     "output_type": "execute_result"
    }
   ],
   "source": [
    "chars = chr(random.randint(33, 47)) + chr(random.randint(58, 64)) \n",
    "chars"
   ]
  },
  {
   "cell_type": "code",
   "execution_count": 50,
   "id": "6d323803",
   "metadata": {},
   "outputs": [
    {
     "data": {
      "text/plain": [
       "'1-2-0'"
      ]
     },
     "execution_count": 50,
     "metadata": {},
     "output_type": "execute_result"
    }
   ],
   "source": [
    "\"-\".join(numbers)     # aralara - koyup liste elemanlarını stringe çeviriyor."
   ]
  },
  {
   "cell_type": "code",
   "execution_count": 51,
   "id": "fa8ba53c",
   "metadata": {},
   "outputs": [
    {
     "data": {
      "text/plain": [
       "'120'"
      ]
     },
     "execution_count": 51,
     "metadata": {},
     "output_type": "execute_result"
    }
   ],
   "source": [
    "\"\".join(numbers)"
   ]
  },
  {
   "cell_type": "markdown",
   "id": "9206f1c5",
   "metadata": {},
   "source": [
    "- Join() metodu iterable- üyelerini birer birer döndürebilen nesneler alır. Örnek: List, Tuple, String, Dictionary ve Set ve iterable öğeleriyle birleştirilmiş bir string döndürür. eğer iterable string olmayan bir değer içeriyorsa TypeError exception verir."
   ]
  },
  {
   "cell_type": "code",
   "execution_count": 52,
   "id": "cdea003d",
   "metadata": {},
   "outputs": [
    {
     "data": {
      "text/plain": [
       "'YCYhnu120#<'"
      ]
     },
     "execution_count": 52,
     "metadata": {},
     "output_type": "execute_result"
    }
   ],
   "source": [
    "passw = \"\".join(uppers) + \"\".join(lowers) + \"\".join(numbers) + chars\n",
    "passw"
   ]
  },
  {
   "cell_type": "markdown",
   "id": "faa859b3",
   "metadata": {},
   "source": [
    "random.shuffle()  # içerisine yazılan listeyi karıştırır. \n",
    "- shuffle() metodu, liste gibi bir sıra alır ve öğelerin sırasını yeniden düzenler.\n",
    "- Bu metod orijinal listeyi değiştirir, yeni bir liste döndürmez."
   ]
  },
  {
   "cell_type": "code",
   "execution_count": 54,
   "id": "9653367c",
   "metadata": {},
   "outputs": [
    {
     "data": {
      "text/plain": [
       "['Y', 'C', 'Y', 'h', 'n', 'u', '1', '2', '0', '#', '<']"
      ]
     },
     "execution_count": 54,
     "metadata": {},
     "output_type": "execute_result"
    }
   ],
   "source": [
    "pass_list = list(passw)\n",
    "pass_list"
   ]
  },
  {
   "cell_type": "code",
   "execution_count": 55,
   "id": "cada78fc",
   "metadata": {},
   "outputs": [],
   "source": [
    "random.shuffle(pass_list)"
   ]
  },
  {
   "cell_type": "code",
   "execution_count": 56,
   "id": "d815148a",
   "metadata": {},
   "outputs": [
    {
     "data": {
      "text/plain": [
       "['<', 'n', 'h', 'Y', '#', 'Y', '2', 'u', '0', '1', 'C']"
      ]
     },
     "execution_count": 56,
     "metadata": {},
     "output_type": "execute_result"
    }
   ],
   "source": [
    "pass_list"
   ]
  },
  {
   "cell_type": "code",
   "execution_count": 57,
   "id": "2dca6a7a",
   "metadata": {},
   "outputs": [
    {
     "data": {
      "text/plain": [
       "'<nhY#Y2u01C'"
      ]
     },
     "execution_count": 57,
     "metadata": {},
     "output_type": "execute_result"
    }
   ],
   "source": [
    "\"\".join(pass_list)"
   ]
  },
  {
   "cell_type": "code",
   "execution_count": 58,
   "id": "05e91e7c",
   "metadata": {},
   "outputs": [],
   "source": [
    "def karıştır(password) :\n",
    "    templist = list(password)\n",
    "    random.shuffle(templist)\n",
    "    return \"\".join(templist)"
   ]
  },
  {
   "cell_type": "code",
   "execution_count": 59,
   "id": "fd864d9b",
   "metadata": {},
   "outputs": [
    {
     "name": "stdout",
     "output_type": "stream",
     "text": [
      "<#C20Y1uhYn\n"
     ]
    }
   ],
   "source": [
    "print(karıştır(passw))"
   ]
  },
  {
   "cell_type": "code",
   "execution_count": 43,
   "id": "c7aa4a2e",
   "metadata": {},
   "outputs": [
    {
     "name": "stdout",
     "output_type": "stream",
     "text": [
      "Ks1Yi4Hy5\n"
     ]
    }
   ],
   "source": [
    "import random, string       # F1478 Samet hocamın çözümü...\n",
    "a = \"\"\n",
    "\n",
    "for i in range(3):\n",
    "    a += random.choice(string.ascii_uppercase)\n",
    "    a += random.choice(string.ascii_lowercase)\n",
    "    a += random.choice(string.digits)\n",
    "print(a)"
   ]
  },
  {
   "cell_type": "code",
   "execution_count": null,
   "id": "8614b3e2",
   "metadata": {},
   "outputs": [],
   "source": []
  },
  {
   "cell_type": "markdown",
   "id": "57d3b952",
   "metadata": {},
   "source": [
    "- timeit(), verilen kod parçacığı tarafından alınan yürütme süresini (execution time) ölçmek için Python kitaplığında bir metotdur. Python kitaplığı, kod ifadesini 1 milyon kez çalıştırır ve verilen kod parçacıkları kümesinden alınan minimum süreyi sağlar.  timeit(), kodun performansını kontrol etmeye yardımcı olan kullanışlı bir yöntemdir.\n",
    "- timeit() Parametreleri:\n",
    "1. stmt: Bu, yürütme süresini ölçmek istediğiniz kodu alacaktır. Varsayılan değer 'pass'dir.\n",
    "2. setup: Bu, stmt'den önce yürütülmesi gereken kurulum ayrıntılarına sahip olacaktır. Varsayılan değer 'pass'dir.\n",
    "3. timer: Bu, timer değerine sahip olacak, timeit() zaten bir varsayılan değere sahiptir.\n",
    "4. number: stmt burada verilen sayıya göre çalışacaktır. Varsayılan değer 1 milyondur."
   ]
  },
  {
   "cell_type": "code",
   "execution_count": 60,
   "id": "541549df",
   "metadata": {},
   "outputs": [],
   "source": [
    "import timeit"
   ]
  },
  {
   "cell_type": "code",
   "execution_count": 61,
   "id": "e8e0a5e1",
   "metadata": {},
   "outputs": [],
   "source": [
    "from timeit import timeit"
   ]
  },
  {
   "cell_type": "code",
   "execution_count": null,
   "id": "33a46d94",
   "metadata": {},
   "outputs": [],
   "source": [
    "timeit()"
   ]
  },
  {
   "cell_type": "code",
   "execution_count": 62,
   "id": "a1ddc379",
   "metadata": {},
   "outputs": [],
   "source": [
    "def for_loop() :\n",
    "    \n",
    "    result = []\n",
    "    \n",
    "    for i in range(1000000) :\n",
    "        result.append(i)\n",
    "    return result"
   ]
  },
  {
   "cell_type": "code",
   "execution_count": 63,
   "id": "3b91ab0e",
   "metadata": {},
   "outputs": [],
   "source": [
    "def list_comp() :\n",
    "    \n",
    "    return [i for i in range(1000000)]"
   ]
  },
  {
   "cell_type": "code",
   "execution_count": 65,
   "id": "70a15c41",
   "metadata": {},
   "outputs": [],
   "source": [
    "time_for = timeit(for_loop, number=100)\n",
    "time_list_comp = timeit(list_comp, number=100)"
   ]
  },
  {
   "cell_type": "code",
   "execution_count": 66,
   "id": "d9e07c4f",
   "metadata": {},
   "outputs": [
    {
     "name": "stdout",
     "output_type": "stream",
     "text": [
      "List Comp. is 2times faster than For_loop.\n"
     ]
    }
   ],
   "source": [
    "print(f\"List Comp. is {round(time_for/time_list_comp)}times faster than For_loop.\")"
   ]
  },
  {
   "cell_type": "markdown",
   "id": "4a5ed1ae",
   "metadata": {},
   "source": [
    "# Errors \n",
    "## Syntax Error\n",
    "- SyntaxError => genellikle yazım hatası ile hatalardır. Tırkak işaretleri, Parantezlerin yanlış kullanımı, Yazım hataları, Girinti hataları\n",
    "- Traceback => built-in bir modüldür. Hataları yönetir. Arka planda sürekli hata kontrolü yapar.\n",
    "- Hata mesajından sonra hatanın açıklaması vardır. \n",
    "- NameError hatası tanımlanmamış bir değişken kullanılmaya çalışırsa ortaya çıkan hata kodudur.\n"
   ]
  },
  {
   "cell_type": "markdown",
   "id": "e2fd7a25",
   "metadata": {},
   "source": [
    "## Exception Error\n",
    "- Kod çalışma esnasında ortaya çıkan hatalardır. Hatanın oluşacağı yere kadar çalışır.\n",
    "- ValueError => balığı sırf yumurtluyor diye tavuk kümesine koyulamaz. int(\"ten\") gibi..\n",
    "- TypeError  => örnek : 5+ \"5\" TypeError, birkaç standart Python exception'ından biridir. TypeError, yanlış/desteklenmeyen bir nesne (object) tipinde bir işlem gerçekleştirildiğinde ortaya çıkar. Örneğin, + (toplama) operatörünün bir string ve integer ile birlikte kullanılması TypeError'ı yükseltir. \n",
    "- NameError => tanımlanmamış tüm değişkenler bu hatayı verir. En kolay çözülebilen hata türüdür."
   ]
  },
  {
   "attachments": {
    "image.png": {
     "image/png": "[encoded data removed]"
    }
   },
   "cell_type": "markdown",
   "id": "51931fb0",
   "metadata": {},
   "source": [
    "![image.png](attachment:image.png)"
   ]
  },
  {
   "cell_type": "code",
   "execution_count": 67,
   "id": "e4f7d1f8",
   "metadata": {},
   "outputs": [
    {
     "ename": "ValueError",
     "evalue": "invalid literal for int() with base 10: 'on'",
     "output_type": "error",
     "traceback": [
      "\u001b[1;31m---------------------------------------------------------------------------\u001b[0m",
      "\u001b[1;31mValueError\u001b[0m                                Traceback (most recent call last)",
      "\u001b[1;32m<ipython-input-67-9db2c1f25cfb>\u001b[0m in \u001b[0;36m<module>\u001b[1;34m\u001b[0m\n\u001b[1;32m----> 1\u001b[1;33m \u001b[0mint\u001b[0m\u001b[1;33m(\u001b[0m\u001b[1;34m\"on\"\u001b[0m\u001b[1;33m)\u001b[0m\u001b[1;33m\u001b[0m\u001b[1;33m\u001b[0m\u001b[0m\n\u001b[0m",
      "\u001b[1;31mValueError\u001b[0m: invalid literal for int() with base 10: 'on'"
     ]
    }
   ],
   "source": [
    "int(\"on\") # tipi string ama değeri digit olması gerekir."
   ]
  },
  {
   "cell_type": "code",
   "execution_count": 68,
   "id": "b889aff7",
   "metadata": {},
   "outputs": [
    {
     "data": {
      "text/plain": [
       "10"
      ]
     },
     "execution_count": 68,
     "metadata": {},
     "output_type": "execute_result"
    }
   ],
   "source": [
    "int(10)"
   ]
  },
  {
   "cell_type": "code",
   "execution_count": 69,
   "id": "63f81238",
   "metadata": {},
   "outputs": [],
   "source": [
    "import math"
   ]
  },
  {
   "cell_type": "code",
   "execution_count": 70,
   "id": "7f5ba5a7",
   "metadata": {},
   "outputs": [
    {
     "ename": "ValueError",
     "evalue": "factorial() not defined for negative values",
     "output_type": "error",
     "traceback": [
      "\u001b[1;31m---------------------------------------------------------------------------\u001b[0m",
      "\u001b[1;31mValueError\u001b[0m                                Traceback (most recent call last)",
      "\u001b[1;32m<ipython-input-70-1d2c9f633c25>\u001b[0m in \u001b[0;36m<module>\u001b[1;34m\u001b[0m\n\u001b[1;32m----> 1\u001b[1;33m \u001b[0mmath\u001b[0m\u001b[1;33m.\u001b[0m\u001b[0mfactorial\u001b[0m\u001b[1;33m(\u001b[0m\u001b[1;33m-\u001b[0m\u001b[1;36m1\u001b[0m\u001b[1;33m)\u001b[0m\u001b[1;33m\u001b[0m\u001b[1;33m\u001b[0m\u001b[0m\n\u001b[0m",
      "\u001b[1;31mValueError\u001b[0m: factorial() not defined for negative values"
     ]
    }
   ],
   "source": [
    "math.factorial(-1)"
   ]
  },
  {
   "cell_type": "code",
   "execution_count": 71,
   "id": "38c5727e",
   "metadata": {},
   "outputs": [
    {
     "ename": "ValueError",
     "evalue": "math domain error",
     "output_type": "error",
     "traceback": [
      "\u001b[1;31m---------------------------------------------------------------------------\u001b[0m",
      "\u001b[1;31mValueError\u001b[0m                                Traceback (most recent call last)",
      "\u001b[1;32m<ipython-input-71-d80dea1ee982>\u001b[0m in \u001b[0;36m<module>\u001b[1;34m\u001b[0m\n\u001b[1;32m----> 1\u001b[1;33m \u001b[0mmath\u001b[0m\u001b[1;33m.\u001b[0m\u001b[0msqrt\u001b[0m\u001b[1;33m(\u001b[0m\u001b[1;33m-\u001b[0m\u001b[1;36m25\u001b[0m\u001b[1;33m)\u001b[0m\u001b[1;33m\u001b[0m\u001b[1;33m\u001b[0m\u001b[0m\n\u001b[0m",
      "\u001b[1;31mValueError\u001b[0m: math domain error"
     ]
    }
   ],
   "source": [
    "math.sqrt(-25)"
   ]
  },
  {
   "cell_type": "code",
   "execution_count": null,
   "id": "0f1b2481",
   "metadata": {},
   "outputs": [],
   "source": []
  },
  {
   "cell_type": "code",
   "execution_count": null,
   "id": "5610f3f3",
   "metadata": {},
   "outputs": [],
   "source": []
  },
  {
   "cell_type": "code",
   "execution_count": null,
   "id": "cd9342d8",
   "metadata": {},
   "outputs": [],
   "source": []
  },
  {
   "cell_type": "code",
   "execution_count": null,
   "id": "e4d829cd",
   "metadata": {},
   "outputs": [],
   "source": []
  }
 ],
 "metadata": {
  "kernelspec": {
   "display_name": "Python 3",
   "language": "python",
   "name": "python3"
  },
  "language_info": {
   "codemirror_mode": {
    "name": "ipython",
    "version": 3
   },
   "file_extension": ".py",
   "mimetype": "text/x-python",
   "name": "python",
   "nbconvert_exporter": "python",
   "pygments_lexer": "ipython3",
   "version": "3.8.8"
  }
 },
 "nbformat": 4,
 "nbformat_minor": 5
}
