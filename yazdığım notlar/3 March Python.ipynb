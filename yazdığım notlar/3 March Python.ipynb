{
 "cells": [
  {
   "cell_type": "markdown",
   "id": "e2663de2",
   "metadata": {},
   "source": [
    "- for dan sonra birden fazla değişken yazılabilir eğer iterable buna uygun ise..."
   ]
  },
  {
   "cell_type": "code",
   "execution_count": 2,
   "id": "94bb5e93",
   "metadata": {},
   "outputs": [
    {
     "name": "stdout",
     "output_type": "stream",
     "text": [
      "while calisti\n"
     ]
    }
   ],
   "source": [
    "#alp \n",
    "kosul=True\n",
    "while kosul:\n",
    "    print(\"while calisti\")\n",
    "    kosul=False"
   ]
  },
  {
   "cell_type": "code",
   "execution_count": 1,
   "id": "342bf9e6",
   "metadata": {},
   "outputs": [
    {
     "name": "stdout",
     "output_type": "stream",
     "text": [
      "name\n",
      "surname\n",
      "age\n"
     ]
    }
   ],
   "source": [
    "user = {\n",
    "    \"name\": \"Daniel\",\n",
    "    \"surname\": \"Smith\",\n",
    "    \"age\" : 35\n",
    "}\n",
    "\n",
    "for attribute in user:    # key'ler dolanır.\n",
    "    print(attribute)"
   ]
  },
  {
   "cell_type": "code",
   "execution_count": 14,
   "id": "530366c2",
   "metadata": {},
   "outputs": [
    {
     "name": "stdout",
     "output_type": "stream",
     "text": [
      "name Daniel\n",
      "surname Smith\n",
      "age 35\n"
     ]
    }
   ],
   "source": [
    "#alp\n",
    "user = {\n",
    "    \"name\": \"Daniel\",\n",
    "    \"surname\": \"Smith\",\n",
    "    \"age\" : 35\n",
    "}\n",
    "for key,value in user.items():\n",
    "    print(key,value)"
   ]
  },
  {
   "cell_type": "code",
   "execution_count": 5,
   "id": "362c65c9",
   "metadata": {},
   "outputs": [
    {
     "name": "stdout",
     "output_type": "stream",
     "text": [
      "Daniel Smith 35 "
     ]
    }
   ],
   "source": [
    "user = {\n",
    "    \"name\": \"Daniel\",\n",
    "    \"surname\": \"Smith\",\n",
    "    \"age\" : 35\n",
    "}\n",
    "for i in user.values():\n",
    "    print(i, end=\" \")"
   ]
  },
  {
   "cell_type": "code",
   "execution_count": 6,
   "id": "a4ce1f85",
   "metadata": {},
   "outputs": [
    {
     "name": "stdout",
     "output_type": "stream",
     "text": [
      "hello\n",
      "hello\n",
      "hello\n"
     ]
    }
   ],
   "source": [
    "for i in \"abc\":    # kullanılan değişken burada i döngü içinde kullanılması zorunlu değildir.\n",
    "    print(\"hello\")"
   ]
  },
  {
   "cell_type": "code",
   "execution_count": 15,
   "id": "76b10c31",
   "metadata": {},
   "outputs": [
    {
     "name": "stdout",
     "output_type": "stream",
     "text": [
      "alp deneme\n",
      "alp deneme\n",
      "alp deneme\n",
      "alp deneme\n"
     ]
    }
   ],
   "source": [
    "#alp\n",
    "for i in \"uıtd\":\n",
    "    print(\"alp deneme\")"
   ]
  },
  {
   "cell_type": "code",
   "execution_count": 7,
   "id": "a0bb375b",
   "metadata": {},
   "outputs": [
    {
     "name": "stdout",
     "output_type": "stream",
     "text": [
      "name : Daniel\n",
      "surname : Smith\n",
      "age : 35\n"
     ]
    }
   ],
   "source": [
    "user = {\n",
    "    \"name\": \"Daniel\",\n",
    "    \"surname\": \"Smith\",\n",
    "    \"age\" : 35\n",
    "}\n",
    "for key, value in user.items():    # key,value olarak iki değişken kullanılabilir.\n",
    "    print(key, \":\", value)"
   ]
  },
  {
   "cell_type": "code",
   "execution_count": 12,
   "id": "f6f1c80d",
   "metadata": {},
   "outputs": [],
   "source": [
    "test = [(1,2), (3,4), (5,6)]"
   ]
  },
  {
   "cell_type": "code",
   "execution_count": 13,
   "id": "b7e4d42d",
   "metadata": {},
   "outputs": [
    {
     "name": "stdout",
     "output_type": "stream",
     "text": [
      "1 2\n",
      "3 4\n",
      "5 6\n"
     ]
    }
   ],
   "source": [
    "for i, j in test:\n",
    "    print(i, j)"
   ]
  },
  {
   "cell_type": "code",
   "execution_count": 17,
   "id": "dad60d6f",
   "metadata": {},
   "outputs": [
    {
     "name": "stdout",
     "output_type": "stream",
     "text": [
      "1 2\n",
      "4 8\n",
      "56 89\n",
      "55 45\n"
     ]
    }
   ],
   "source": [
    "#alp\n",
    "tst=[(1,2),(4,8),(56,89),(55,45)]\n",
    "for i,j in tst:\n",
    "    print(i,j)"
   ]
  },
  {
   "cell_type": "code",
   "execution_count": 14,
   "id": "5a5009a5",
   "metadata": {},
   "outputs": [],
   "source": [
    "test2 = [(1,2,11), (3,4,22), (5,6,33)]"
   ]
  },
  {
   "cell_type": "code",
   "execution_count": 16,
   "id": "8eb04666",
   "metadata": {},
   "outputs": [
    {
     "name": "stdout",
     "output_type": "stream",
     "text": [
      "1 2 11\n",
      "3 4 22\n",
      "5 6 33\n"
     ]
    }
   ],
   "source": [
    "for i, j, t in test2 :    # aslında sırasıyla atama yapıyor döngüde o değerler ile dönüyor.\n",
    "    print(i, j, t)"
   ]
  },
  {
   "cell_type": "code",
   "execution_count": 17,
   "id": "0d0b4f7f",
   "metadata": {},
   "outputs": [
    {
     "name": "stdout",
     "output_type": "stream",
     "text": [
      "(1, 2, 11)\n",
      "(3, 4, 22)\n",
      "(5, 6, 33)\n"
     ]
    }
   ],
   "source": [
    "for i in test2 :\n",
    "    print(i)"
   ]
  },
  {
   "cell_type": "code",
   "execution_count": 19,
   "id": "446e0fa7",
   "metadata": {},
   "outputs": [
    {
     "name": "stdout",
     "output_type": "stream",
     "text": [
      "How many times should I say 'I love you'3\n",
      "I love you\n",
      "I love you\n",
      "I love you\n"
     ]
    }
   ],
   "source": [
    "times = int(input(\"How many times should I say 'I love you'\"))\n",
    "\n",
    "for i in range(times):\n",
    "    print('I love you')"
   ]
  },
  {
   "cell_type": "code",
   "execution_count": 21,
   "id": "b4517354",
   "metadata": {},
   "outputs": [
    {
     "name": "stdout",
     "output_type": "stream",
     "text": [
      "Enter your number5\n",
      "5 x 0  =  0\n",
      "5 x 1  =  5\n",
      "5 x 2  =  10\n",
      "5 x 3  =  15\n",
      "5 x 4  =  20\n",
      "5 x 5  =  25\n",
      "5 x 6  =  30\n",
      "5 x 7  =  35\n",
      "5 x 8  =  40\n",
      "5 x 9  =  45\n",
      "5 x 10  =  50\n"
     ]
    }
   ],
   "source": [
    "a = int(input(\"Enter your number\"))\n",
    "\n",
    "for i in range(11):\n",
    "    k = a * i\n",
    "    print(a, \"x\", i, \" = \", k)"
   ]
  },
  {
   "cell_type": "code",
   "execution_count": 23,
   "id": "1822e57c",
   "metadata": {},
   "outputs": [
    {
     "name": "stdout",
     "output_type": "stream",
     "text": [
      "Enter a number between 1-9 :8\n",
      "8x0 = 0\n",
      "8x1 = 8\n",
      "8x2 = 16\n",
      "8x3 = 24\n",
      "8x4 = 32\n",
      "8x5 = 40\n",
      "8x6 = 48\n",
      "8x7 = 56\n",
      "8x8 = 64\n",
      "8x9 = 72\n",
      "8x10 = 80\n"
     ]
    }
   ],
   "source": [
    "number = int(input(\"Enter a number between 1-9 :\"))\n",
    "\n",
    "for i in range(11):    # range(start,strop,step)\n",
    "    print(f\"{number}x{i} = {number * i}\")    "
   ]
  },
  {
   "cell_type": "code",
   "execution_count": 26,
   "id": "060b7318",
   "metadata": {},
   "outputs": [
    {
     "name": "stdout",
     "output_type": "stream",
     "text": [
      "range(10, 1)\n"
     ]
    }
   ],
   "source": [
    "print(range(10, 1))"
   ]
  },
  {
   "cell_type": "code",
   "execution_count": 27,
   "id": "f6a4370a",
   "metadata": {},
   "outputs": [
    {
     "name": "stdout",
     "output_type": "stream",
     "text": [
      "10 9 8 7 6 5 4 3 2\n"
     ]
    }
   ],
   "source": [
    "print(*range(10, 1, -1))   # * iterate işareti. görünür hale getiriyor."
   ]
  },
  {
   "cell_type": "code",
   "execution_count": 28,
   "id": "d254a2b9",
   "metadata": {},
   "outputs": [
    {
     "name": "stdout",
     "output_type": "stream",
     "text": [
      "j o s e p h\n"
     ]
    }
   ],
   "source": [
    "print(* \"joseph\")  # * iterate ediyor parçalıyor."
   ]
  },
  {
   "cell_type": "code",
   "execution_count": 18,
   "id": "9ac31fc9",
   "metadata": {},
   "outputs": [
    {
     "name": "stdout",
     "output_type": "stream",
     "text": [
      "m e r h a b a   y e n i   d ü n y a\n"
     ]
    }
   ],
   "source": [
    "#alp\n",
    "print(*\"merhaba yeni dünya\")"
   ]
  },
  {
   "cell_type": "code",
   "execution_count": 23,
   "id": "b56292a7",
   "metadata": {},
   "outputs": [
    {
     "name": "stdout",
     "output_type": "stream",
     "text": [
      "amridzay netsret\n"
     ]
    }
   ],
   "source": [
    "#alp\n",
    "print(\"tersten yazdirma\"[::-1])"
   ]
  },
  {
   "cell_type": "code",
   "execution_count": 35,
   "id": "93ff7968",
   "metadata": {},
   "outputs": [
    {
     "name": "stdout",
     "output_type": "stream",
     "text": [
      "\n",
      "1\n",
      "22\n",
      "333\n",
      "4444\n",
      "55555\n",
      "666666\n",
      "7777777\n",
      "88888888\n",
      "999999999\n"
     ]
    }
   ],
   "source": [
    "for i in range(10):       # benim çözümüm...\n",
    "    for j in range(i):\n",
    "        print(i, end=\"\")\n",
    "    print()"
   ]
  },
  {
   "cell_type": "code",
   "execution_count": 36,
   "id": "ba778ab5",
   "metadata": {},
   "outputs": [
    {
     "name": "stdout",
     "output_type": "stream",
     "text": [
      "\n",
      "1\n",
      "22\n",
      "333\n",
      "4444\n",
      "55555\n",
      "666666\n",
      "7777777\n",
      "88888888\n",
      "999999999\n"
     ]
    }
   ],
   "source": [
    "for i in range(10):\n",
    "    print(str(i) * i)"
   ]
  },
  {
   "cell_type": "code",
   "execution_count": 37,
   "id": "937ea6e8",
   "metadata": {},
   "outputs": [
    {
     "name": "stdout",
     "output_type": "stream",
     "text": [
      "[0, 1, 2, 3, 4, 5, 6, 7, 8, 9]\n"
     ]
    }
   ],
   "source": [
    "b = list(range(10))\n",
    "print(b)"
   ]
  },
  {
   "cell_type": "code",
   "execution_count": 38,
   "id": "768177c2",
   "metadata": {},
   "outputs": [
    {
     "data": {
      "text/plain": [
       "[0, 1, 2, 3, 4, 5, 6, 7, 8, 9, 10]"
      ]
     },
     "execution_count": 38,
     "metadata": {},
     "output_type": "execute_result"
    }
   ],
   "source": [
    "list(range(11))   # range fonksiyonunu list tuple veya sete dönüştürebiliriz."
   ]
  },
  {
   "cell_type": "code",
   "execution_count": 40,
   "id": "26a32443",
   "metadata": {},
   "outputs": [
    {
     "name": "stdout",
     "output_type": "stream",
     "text": [
      "<class 'list'>\n",
      "<class 'tuple'>\n"
     ]
    }
   ],
   "source": [
    "#alp\n",
    "\n",
    "x=list(range(11))\n",
    "print(type(x))\n",
    "\n",
    "y=tuple(x)\n",
    "\n",
    "print(type(y))"
   ]
  },
  {
   "cell_type": "code",
   "execution_count": 39,
   "id": "20fa8436",
   "metadata": {},
   "outputs": [
    {
     "data": {
      "text/plain": [
       "(0, 1, 2, 3, 4, 5, 6, 7, 8, 9, 10)"
      ]
     },
     "execution_count": 39,
     "metadata": {},
     "output_type": "execute_result"
    }
   ],
   "source": [
    "tuple(range(11))"
   ]
  },
  {
   "cell_type": "code",
   "execution_count": 41,
   "id": "502682b0",
   "metadata": {},
   "outputs": [
    {
     "data": {
      "text/plain": [
       "{0, 1, 2, 3, 4, 5, 6, 7, 8, 9, 10}"
      ]
     },
     "execution_count": 41,
     "metadata": {},
     "output_type": "execute_result"
    }
   ],
   "source": [
    "set(range(11))"
   ]
  },
  {
   "cell_type": "code",
   "execution_count": 46,
   "id": "68aa9094",
   "metadata": {},
   "outputs": [
    {
     "data": {
      "text/plain": [
       "[0, 1, 2, 3, 4, 5, 6, 7, 8, 9, 10]"
      ]
     },
     "execution_count": 46,
     "metadata": {},
     "output_type": "execute_result"
    }
   ],
   "source": [
    "#alp\n",
    "list(range(11))"
   ]
  },
  {
   "cell_type": "code",
   "execution_count": 41,
   "id": "bd90b946",
   "metadata": {},
   "outputs": [
    {
     "name": "stdout",
     "output_type": "stream",
     "text": [
      "0 1 2 3 4 5 6 7 8 9 10\n"
     ]
    }
   ],
   "source": [
    "print(* range(11))"
   ]
  },
  {
   "cell_type": "code",
   "execution_count": 52,
   "id": "8e4e3bf6",
   "metadata": {},
   "outputs": [
    {
     "name": "stdout",
     "output_type": "stream",
     "text": [
      "range(0, 11)\n"
     ]
    }
   ],
   "source": [
    "print(range(11))   # kullanışlı bir çıktı örneği değil"
   ]
  },
  {
   "cell_type": "code",
   "execution_count": 50,
   "id": "07dfb28b",
   "metadata": {},
   "outputs": [
    {
     "name": "stdout",
     "output_type": "stream",
     "text": [
      "49 52 55 58 61 64 67 70 73\n"
     ]
    }
   ],
   "source": [
    "print(* range(49, 75, 3))"
   ]
  },
  {
   "cell_type": "code",
   "execution_count": 44,
   "id": "92b7a375",
   "metadata": {},
   "outputs": [
    {
     "name": "stdout",
     "output_type": "stream",
     "text": [
      "10 8 6 4 2\n"
     ]
    }
   ],
   "source": [
    "print(* range(10, 0, -2))"
   ]
  },
  {
   "cell_type": "code",
   "execution_count": 46,
   "id": "7803f801",
   "metadata": {},
   "outputs": [
    {
     "name": "stdout",
     "output_type": "stream",
     "text": [
      "one : 1\n",
      "two : 2\n",
      "three : 3\n",
      "four : 4\n",
      "five : 5\n"
     ]
    }
   ],
   "source": [
    "text = [\"one\", \"two\", \"three\", \"four\", \"five\"]\n",
    "numbers = [1, 2, 3, 4, 5]\n",
    "for x, y in zip(text, numbers):          # zip fonksiyonu eşit eleman sayısındaki listeleri birleştirir.\n",
    "    print(x, ':', y)"
   ]
  },
  {
   "cell_type": "code",
   "execution_count": 48,
   "id": "fc671ff6",
   "metadata": {},
   "outputs": [
    {
     "name": "stdout",
     "output_type": "stream",
     "text": [
      "one : 1\n",
      "two : 2\n",
      "three : 3\n",
      "four : 4\n",
      "five : 5\n"
     ]
    }
   ],
   "source": [
    "text1 = (\"one\", \"two\", \"three\", \"four\", \"five\")\n",
    "numbers1 = (1, 2, 3, 4, 5)\n",
    "for x, y in zip(text1, numbers1):          # zip fonksiyonu eşit eleman sayısındaki başka türleride birleştirebiliyormuş.\n",
    "    print(x, ':', y)"
   ]
  },
  {
   "cell_type": "code",
   "execution_count": 49,
   "id": "265292bc",
   "metadata": {},
   "outputs": [
    {
     "data": {
      "text/plain": [
       "<zip at 0x1e571447640>"
      ]
     },
     "execution_count": 49,
     "metadata": {},
     "output_type": "execute_result"
    }
   ],
   "source": [
    "text1 = (\"one\", \"two\", \"three\", \"four\", \"five\")\n",
    "numbers1 = (1, 2, 3, 4, 5)\n",
    "zipped = zip(text1, numbers1)    # adresini gösterir. yazdırmak istersek * veya for döngüsü kullanılabilir.\n",
    "zipped"
   ]
  },
  {
   "cell_type": "code",
   "execution_count": 50,
   "id": "b919b31b",
   "metadata": {},
   "outputs": [
    {
     "name": "stdout",
     "output_type": "stream",
     "text": [
      "('one', 1) ('two', 2) ('three', 3) ('four', 4) ('five', 5)\n"
     ]
    }
   ],
   "source": [
    "# zip index numaralarına göre eşleştirir ve tuple yapar.\n",
    "print(* zipped)"
   ]
  },
  {
   "cell_type": "code",
   "execution_count": 52,
   "id": "a0db4241",
   "metadata": {},
   "outputs": [
    {
     "data": {
      "text/plain": [
       "[]"
      ]
     },
     "execution_count": 52,
     "metadata": {},
     "output_type": "execute_result"
    }
   ],
   "source": [
    "list(zipped)   # zip object bir iterator oluştuyor ve tekrar doldurmak gerekiyor tek kullanımlık."
   ]
  },
  {
   "cell_type": "code",
   "execution_count": 53,
   "id": "45d63d94",
   "metadata": {},
   "outputs": [
    {
     "name": "stdout",
     "output_type": "stream",
     "text": [
      "\n"
     ]
    }
   ],
   "source": [
    "print(* zipped)"
   ]
  },
  {
   "cell_type": "code",
   "execution_count": 54,
   "id": "4b57f9da",
   "metadata": {},
   "outputs": [],
   "source": [
    "zipped = zip(text1, numbers1)"
   ]
  },
  {
   "cell_type": "code",
   "execution_count": 55,
   "id": "1774ef8d",
   "metadata": {},
   "outputs": [
    {
     "data": {
      "text/plain": [
       "[('one', 1), ('two', 2), ('three', 3), ('four', 4), ('five', 5)]"
      ]
     },
     "execution_count": 55,
     "metadata": {},
     "output_type": "execute_result"
    }
   ],
   "source": [
    "list(zipped)   # tekrar tanımlayınca çalışıyor. tek kullanılık..."
   ]
  },
  {
   "cell_type": "code",
   "execution_count": 57,
   "id": "2b38b0c0",
   "metadata": {},
   "outputs": [
    {
     "name": "stdout",
     "output_type": "stream",
     "text": [
      "one : 1\n",
      "two : 2\n",
      "three : 3\n",
      "four : 4\n",
      "five : 5\n"
     ]
    }
   ],
   "source": [
    "zipped = zip(text1, numbers1)\n",
    "for x, y in zipped :\n",
    "    print(x, \":\", y)"
   ]
  },
  {
   "cell_type": "code",
   "execution_count": 58,
   "id": "bcd7af55",
   "metadata": {},
   "outputs": [
    {
     "data": {
      "text/plain": [
       "[]"
      ]
     },
     "execution_count": 58,
     "metadata": {},
     "output_type": "execute_result"
    }
   ],
   "source": [
    "list(zipped)   # tekrar zip fonksiyonu kullanılarak tanımlanmazsa çıktı vermez..."
   ]
  },
  {
   "cell_type": "code",
   "execution_count": 59,
   "id": "6646c552",
   "metadata": {},
   "outputs": [],
   "source": [
    "zipped = zip(text1, numbers1)"
   ]
  },
  {
   "cell_type": "code",
   "execution_count": 60,
   "id": "d93ec29a",
   "metadata": {},
   "outputs": [
    {
     "data": {
      "text/plain": [
       "{'one': 1, 'two': 2, 'three': 3, 'four': 4, 'five': 5}"
      ]
     },
     "execution_count": 60,
     "metadata": {},
     "output_type": "execute_result"
    }
   ],
   "source": [
    "dict(zipped)   # direk dict' e dönüştürebiliyor..."
   ]
  },
  {
   "cell_type": "code",
   "execution_count": 62,
   "id": "a8da59ab",
   "metadata": {},
   "outputs": [
    {
     "name": "stdout",
     "output_type": "stream",
     "text": [
      "('one', 1, 4) ('two', 2, 5) ('three', 3, 6)\n"
     ]
    }
   ],
   "source": [
    "text2 = (\"one\", \"two\", \"three\", \"four\", \"five\")\n",
    "numbers2 = (1, 2, 3)\n",
    "num3 = (4, 5, 6, 7)\n",
    "a = zip(text2, numbers2, num3)\n",
    "print(* a)"
   ]
  },
  {
   "cell_type": "code",
   "execution_count": 66,
   "id": "9d06cee6",
   "metadata": {},
   "outputs": [
    {
     "name": "stdout",
     "output_type": "stream",
     "text": [
      "evens : [0, 2, 4, 6, 8, 10]\n",
      "odds : [1, 3, 5, 7, 9]\n"
     ]
    }
   ],
   "source": [
    "evens = []    # benim çözüm...\n",
    "odds = []\n",
    "for i in range(11):\n",
    "    if i % 2 == 0:\n",
    "        evens.append(i)\n",
    "    else:\n",
    "        odds.append(i)\n",
    "print(f\"evens : {evens}\")\n",
    "print(f\"odds : {odds}\")"
   ]
  },
  {
   "cell_type": "code",
   "execution_count": 68,
   "id": "f3d6d016",
   "metadata": {},
   "outputs": [
    {
     "name": "stdout",
     "output_type": "stream",
     "text": [
      "odds:  [0, 2, 4, 6, 8, 10]\n",
      "evens:  [1, 3, 5, 7, 9]\n"
     ]
    }
   ],
   "source": [
    "print(\"odds: \", list(range(0, 11, 2)))\n",
    "print(\"evens: \", list(range(1, 11, 2)))"
   ]
  },
  {
   "cell_type": "code",
   "execution_count": 69,
   "id": "c03d536a",
   "metadata": {},
   "outputs": [
    {
     "name": "stdout",
     "output_type": "stream",
     "text": [
      "evens : [0, 2, 4, 6, 8, 10]\n",
      "odds : [1, 3, 5, 7, 9]\n"
     ]
    }
   ],
   "source": [
    "evens = []    # hocanın çözüm...\n",
    "odds = []\n",
    "for i in range(11):\n",
    "    if i % 2 == 0:\n",
    "        evens.append(i)\n",
    "    else:\n",
    "        odds.append(i)\n",
    "print(\"evens :\", evens)\n",
    "print(\"odds :\", odds)"
   ]
  },
  {
   "cell_type": "code",
   "execution_count": 72,
   "id": "e4f8cf34",
   "metadata": {},
   "outputs": [
    {
     "name": "stdout",
     "output_type": "stream",
     "text": [
      "The number of even numbers:  3\n",
      "The number of odd numbers: 4\n"
     ]
    }
   ],
   "source": [
    "example_list = [11, 2, 24, 61, 48, 33, 3]     # benim çözüm...\n",
    "evens = [] \n",
    "odds = []\n",
    "for i in example_list :\n",
    "    if i % 2 == 0:\n",
    "        evens.append(i)\n",
    "    else:\n",
    "        odds.append(i)\n",
    "\n",
    "print(\"The number of even numbers: \", len(evens))\n",
    "print(\"The number of odd numbers:\", len(odds))"
   ]
  },
  {
   "cell_type": "code",
   "execution_count": 73,
   "id": "c134358a",
   "metadata": {},
   "outputs": [
    {
     "name": "stdout",
     "output_type": "stream",
     "text": [
      "The number of even numbers:  3\n",
      "The number of odd numbers: 4\n"
     ]
    }
   ],
   "source": [
    "example_list = [11, 2, 24, 61, 48, 33, 3]     # diğer çözümüm...\n",
    "counter_odds = 0\n",
    "counter_evens = 0\n",
    "for i in example_list :\n",
    "    if i % 2 == 0:\n",
    "        counter_evens += 1\n",
    "    else:\n",
    "        counter_odds += 1\n",
    "\n",
    "print(\"The number of even numbers: \", counter_evens)\n",
    "print(\"The number of odd numbers:\", counter_odds)"
   ]
  },
  {
   "cell_type": "code",
   "execution_count": 77,
   "id": "2a1bc635",
   "metadata": {},
   "outputs": [
    {
     "name": "stdout",
     "output_type": "stream",
     "text": [
      "Evens count:  5\n",
      "Odds count: 4\n"
     ]
    }
   ],
   "source": [
    "numbers = [11, 36, 33, 66, 89, 21, 32, 16, 10]           # hocanın çözümü \n",
    "evens = 0                                                # sayaçla yaparsak daha az bellek kullanmış oluruz. listeye göre.\n",
    "odds = 0\n",
    "\n",
    "for i in numbers :\n",
    "    \n",
    "    if i % 2 == 0 :\n",
    "        evens += 1\n",
    "    else:\n",
    "        odds += 1\n",
    "print(\"Evens count: \", evens)\n",
    "print(\"Odds count:\", odds)"
   ]
  },
  {
   "cell_type": "code",
   "execution_count": 79,
   "id": "0c8880b9",
   "metadata": {},
   "outputs": [
    {
     "name": "stdout",
     "output_type": "stream",
     "text": [
      "2775\n"
     ]
    }
   ],
   "source": [
    "a = 0                                # benim çözüm...\n",
    "for i in range(1, 75) : \n",
    "    a += i\n",
    "    \n",
    "print(a)"
   ]
  },
  {
   "cell_type": "markdown",
   "id": "df9502f5",
   "metadata": {},
   "source": [
    "*********** Nested for Loop ***********\n",
    "\n",
    "for variable1 in iterable1:\n",
    "    for variable2 in iterable2:\n",
    "        body"
   ]
  },
  {
   "cell_type": "code",
   "execution_count": 82,
   "id": "728ffb51",
   "metadata": {},
   "outputs": [
    {
     "name": "stdout",
     "output_type": "stream",
     "text": [
      "I am happy\n",
      "I am confident\n",
      "You are happy\n",
      "You are confident\n"
     ]
    }
   ],
   "source": [
    "who = [\"I am \", \"You are \"]\n",
    "mood = [\"happy\", \"confident\"]\n",
    "\n",
    "for i in who:                # i geliyor içteki for döngüsü bitene kadar devam ediyor içteki bitince değer değiştiriyor.\n",
    "    for ii in mood:\n",
    "        print(i + ii)"
   ]
  },
  {
   "cell_type": "code",
   "execution_count": 84,
   "id": "a510d4a0",
   "metadata": {},
   "outputs": [
    {
     "name": "stdout",
     "output_type": "stream",
     "text": [
      "susan is happy\n",
      "susan is sad\n",
      "tom is happy\n",
      "tom is sad\n",
      "edward is happy\n",
      "edward is sad\n"
     ]
    }
   ],
   "source": [
    "names = [\"susan\", \"tom\", \"edward\"]       # benim çözüm...\n",
    "mood = [\"happy\", \"sad\"]\n",
    "for i in names :\n",
    "    for j in mood:\n",
    "        print(i + \" is \" + j)"
   ]
  },
  {
   "cell_type": "code",
   "execution_count": 88,
   "id": "6c1b54ce",
   "metadata": {
    "scrolled": true
   },
   "outputs": [
    {
     "name": "stdout",
     "output_type": "stream",
     "text": [
      "susan is happy\n",
      "susan is sad\n",
      "tom is happy\n",
      "tom is sad\n",
      "edward is happy\n",
      "edward is sad\n"
     ]
    }
   ],
   "source": [
    "names = [\"susan\", \"tom\", \"edward\"]       # bu da 3lü for döngüsü...\n",
    "mood = [\"happy\", \"sad\"]\n",
    "be = [\" is \"]\n",
    "\n",
    "for i in names :\n",
    "    for j in be:\n",
    "        for k in mood:\n",
    "            print(i + j + k)"
   ]
  },
  {
   "cell_type": "code",
   "execution_count": 89,
   "id": "1ac2a859",
   "metadata": {},
   "outputs": [
    {
     "data": {
      "text/plain": [
       "(1, 2, 3, 4, 5, 6, 7)"
      ]
     },
     "execution_count": 89,
     "metadata": {},
     "output_type": "execute_result"
    }
   ],
   "source": [
    "tuple(range(1, 8))"
   ]
  },
  {
   "cell_type": "code",
   "execution_count": 90,
   "id": "e7d4ccfe",
   "metadata": {},
   "outputs": [],
   "source": [
    "mon, tue, wed, thu, fri, sat, sun = tuple(range(1, 8))"
   ]
  },
  {
   "cell_type": "code",
   "execution_count": 91,
   "id": "49e6c569",
   "metadata": {},
   "outputs": [
    {
     "data": {
      "text/plain": [
       "1"
      ]
     },
     "execution_count": 91,
     "metadata": {},
     "output_type": "execute_result"
    }
   ],
   "source": [
    "mon"
   ]
  },
  {
   "cell_type": "code",
   "execution_count": 92,
   "id": "e448403a",
   "metadata": {},
   "outputs": [
    {
     "data": {
      "text/plain": [
       "5"
      ]
     },
     "execution_count": 92,
     "metadata": {},
     "output_type": "execute_result"
    }
   ],
   "source": [
    "fri"
   ]
  },
  {
   "cell_type": "code",
   "execution_count": 93,
   "id": "089c2cc2",
   "metadata": {},
   "outputs": [
    {
     "data": {
      "text/plain": [
       "[1, 2, 4, 'ali', 'veli']"
      ]
     },
     "execution_count": 93,
     "metadata": {},
     "output_type": "execute_result"
    }
   ],
   "source": [
    "[1, 2, 4] + [\"ali\", \"veli\"]   # listede toplama : baştaki listenin sonuna eklenir."
   ]
  },
  {
   "cell_type": "code",
   "execution_count": null,
   "id": "bdfe2e6a",
   "metadata": {},
   "outputs": [],
   "source": [
    "a, b = (10, 20, 30, 40)   # 10 u a ya 30 u b ye atama yapmak için ( bu hata verir... doğrusu altta)"
   ]
  },
  {
   "cell_type": "code",
   "execution_count": 94,
   "id": "fb611b23",
   "metadata": {},
   "outputs": [],
   "source": [
    "a, _, b, _ = (10, 20, 30, 40)   # place holder _ bir yer tutuyor, indexlerle uğraşmamak için mükemmel çözüm"
   ]
  },
  {
   "cell_type": "code",
   "execution_count": 95,
   "id": "2c56b50e",
   "metadata": {},
   "outputs": [
    {
     "data": {
      "text/plain": [
       "10"
      ]
     },
     "execution_count": 95,
     "metadata": {},
     "output_type": "execute_result"
    }
   ],
   "source": [
    "a"
   ]
  },
  {
   "cell_type": "code",
   "execution_count": 96,
   "id": "986cd56b",
   "metadata": {},
   "outputs": [
    {
     "data": {
      "text/plain": [
       "30"
      ]
     },
     "execution_count": 96,
     "metadata": {},
     "output_type": "execute_result"
    }
   ],
   "source": [
    "b"
   ]
  },
  {
   "cell_type": "code",
   "execution_count": 97,
   "id": "692bd8be",
   "metadata": {},
   "outputs": [],
   "source": [
    "x, y, *z = (11, 22, 33, 44, 55)   # x=11 y=22 z ise kalanları alır. * çoğullluk ifade ediyor."
   ]
  },
  {
   "cell_type": "code",
   "execution_count": 98,
   "id": "6c437870",
   "metadata": {},
   "outputs": [
    {
     "data": {
      "text/plain": [
       "[33, 44, 55]"
      ]
     },
     "execution_count": 98,
     "metadata": {},
     "output_type": "execute_result"
    }
   ],
   "source": [
    "z   # * ile atama yapılırsa liste sonucu verir!!!!!!!!"
   ]
  },
  {
   "cell_type": "code",
   "execution_count": 99,
   "id": "72302d9b",
   "metadata": {},
   "outputs": [],
   "source": [
    "x, y, *_ = (11, 22, 33, 44, 55)  # *_ kalanları al gibi düşünülebilir..."
   ]
  },
  {
   "cell_type": "code",
   "execution_count": 100,
   "id": "925920e8",
   "metadata": {},
   "outputs": [
    {
     "name": "stdout",
     "output_type": "stream",
     "text": [
      "11\n",
      "55\n"
     ]
    }
   ],
   "source": [
    "x, *_, y = (11, 22, 33, 44, 55)  # _ print edilirse çıktı verir ama hafızada fazla yer kaplanmaması için kullanışlı.\n",
    "print(x)\n",
    "print(y)"
   ]
  },
  {
   "cell_type": "code",
   "execution_count": 101,
   "id": "d0673139",
   "metadata": {},
   "outputs": [
    {
     "name": "stdout",
     "output_type": "stream",
     "text": [
      "11\n",
      "22\n",
      "[33, 44, 55, 66]\n",
      "77\n"
     ]
    }
   ],
   "source": [
    "x, y, *z , t= (11, 22, 33, 44, 55, 66, 77)\n",
    "print(x)\n",
    "print(y)\n",
    "print(z)\n",
    "print(t)"
   ]
  },
  {
   "cell_type": "code",
   "execution_count": null,
   "id": "b59a6e34",
   "metadata": {},
   "outputs": [],
   "source": []
  }
 ],
 "metadata": {
  "kernelspec": {
   "display_name": "Python 3.10.7 64-bit (microsoft store)",
   "language": "python",
   "name": "python3"
  },
  "language_info": {
   "codemirror_mode": {
    "name": "ipython",
    "version": 3
   },
   "file_extension": ".py",
   "mimetype": "text/x-python",
   "name": "python",
   "nbconvert_exporter": "python",
   "pygments_lexer": "ipython3",
   "version": "3.10.7"
  },
  "vscode": {
   "interpreter": {
    "hash": "7b60276908c3349bf0a2cf69de4d7bf4bae3bf371057c4ac156f4be27a89a82c"
   }
  }
 },
 "nbformat": 4,
 "nbformat_minor": 5
}
