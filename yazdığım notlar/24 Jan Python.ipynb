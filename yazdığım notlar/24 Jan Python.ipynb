{
 "cells": [
  {
   "cell_type": "markdown",
   "id": "36e48deb",
   "metadata": {},
   "source": [
    "\\ => kod uzunsa alt satırdan devam edilebilir \\ kullanarak\n",
    "\n",
    "[start:stop:step]   slice'lama birden cok veya indexing= sadece bir tanesini almak için\n",
    "- indexler 0 dan başlamaz -1 den başlar\n",
    "- [::step] step pozitif iken her zaman soldan sağa doğru gider\n",
    "- step -1 olursa sağdan sola doğru okuyarak yazar \n",
    "- len() uzunluğunu verir her zaman integer verir\n",
    "- print(* \"clarusway\")   aralara boşluk koymaz elemanlarına ayırır *******\n",
    "- string.format => (.)dan sonra stringin fonksiyonu olur"
   ]
  },
  {
   "cell_type": "code",
   "execution_count": 14,
   "id": "8956675e",
   "metadata": {},
   "outputs": [
    {
     "name": "stdout",
     "output_type": "stream",
     "text": [
      "Word  : Orange\n",
      "First letter:  O\n",
      "3rd to 5th letters:  ang\n",
      "Letter all after 3rd: ange\n",
      "Start first and 2 step Oag\n",
      "bla bla ran\n",
      "blabla2 rang\n",
      "egna\n",
      "enr\n"
     ]
    },
    {
     "data": {
      "text/plain": [
       "'Oag'"
      ]
     },
     "execution_count": 14,
     "metadata": {},
     "output_type": "execute_result"
    }
   ],
   "source": [
    "fruit = \"Orange\"\n",
    "print('Word  :', fruit)\n",
    "print('First letter: ', fruit[0])\n",
    "print('3rd to 5th letters: ', fruit[2:5])\n",
    "print(\"Letter all after 3rd:\", fruit[2:])\n",
    "print(\"Start first and 2 step\", fruit[0::2])\n",
    "print(\"bla bla\", fruit[-5:-2])\n",
    "print(\"blabla2\", fruit[1:-1])\n",
    "print(fruit[-1:-5:-1])\n",
    "print(fruit[-1::-2])\n",
    "fruit[::2]"
   ]
  },
  {
   "cell_type": "code",
   "execution_count": 15,
   "id": "06cb3073",
   "metadata": {},
   "outputs": [
    {
     "data": {
      "text/plain": [
       "6"
      ]
     },
     "execution_count": 15,
     "metadata": {},
     "output_type": "execute_result"
    }
   ],
   "source": [
    "len(fruit)"
   ]
  },
  {
   "cell_type": "code",
   "execution_count": 18,
   "id": "0ba9b9c1",
   "metadata": {},
   "outputs": [
    {
     "data": {
      "text/plain": [
       "'121121'"
      ]
     },
     "execution_count": 18,
     "metadata": {},
     "output_type": "execute_result"
    }
   ],
   "source": [
    "sonuc = str((5 + 6 ) **2) + \"121\"\n",
    "sonuc"
   ]
  },
  {
   "cell_type": "code",
   "execution_count": 21,
   "id": "8ddd0020",
   "metadata": {},
   "outputs": [
    {
     "name": "stdout",
     "output_type": "stream",
     "text": [
      "I   a m   a n g r y . . .\n",
      "1 4 5 3\n"
     ]
    }
   ],
   "source": [
    "print(* \"I am angry...\")\n",
    "string_2 = \"1453\"\n",
    "print(* string_2)"
   ]
  },
  {
   "cell_type": "code",
   "execution_count": 22,
   "id": "b381dc1b",
   "metadata": {},
   "outputs": [],
   "source": [
    "deneme = \"clarusway\""
   ]
  },
  {
   "cell_type": "code",
   "execution_count": 29,
   "id": "557e4332",
   "metadata": {},
   "outputs": [
    {
     "data": {
      "text/plain": [
       "\"Ben sabah 5'de uyandım. okul'a gittim. Gelirken de 2 kg elma aldım.\""
      ]
     },
     "execution_count": 29,
     "metadata": {},
     "output_type": "execute_result"
    }
   ],
   "source": [
    "yer = \"okul\"\n",
    "\"Ben sabah {}'de uyandım. {}'a gittim. Gelirken de {} kg elma aldım.\".format(\"5\", yer, \"2\")   #sıra önemli"
   ]
  },
  {
   "cell_type": "code",
   "execution_count": 30,
   "id": "3fad81ca",
   "metadata": {},
   "outputs": [
    {
     "data": {
      "text/plain": [
       "\"Ben sabah 05:00'de uyandım. okul'a gittim. Gelirken de 2 kg elma aldım.\""
      ]
     },
     "execution_count": 30,
     "metadata": {},
     "output_type": "execute_result"
    }
   ],
   "source": [
    "\"Ben sabah {saat}'de uyandım. {yer}'a gittim. Gelirken de {miktar} kg elma aldım.\".format(yer=\"okul\", miktar = 2, saat = \"05:00\")\n",
    "#sıra önemli değil değişken isimleri süslü parantezlerin içerisinde"
   ]
  },
  {
   "cell_type": "code",
   "execution_count": 35,
   "id": "5ddb49d6",
   "metadata": {},
   "outputs": [
    {
     "data": {
      "text/plain": [
       "\"Ben sabah 05:00'de uyandım. okul'a gittim. Gelirken de 2 kg elma aldım.\""
      ]
     },
     "execution_count": 35,
     "metadata": {},
     "output_type": "execute_result"
    }
   ],
   "source": [
    "\"Ben sabah {2}'de uyandım. {0}'a gittim. Gelirken de {1} kg elma aldım.\".format(\"okul\", 2, \"05:00\")\n",
    "#index numaraları ile kullanım\n"
   ]
  },
  {
   "cell_type": "code",
   "execution_count": null,
   "id": "d418b9d5",
   "metadata": {},
   "outputs": [],
   "source": []
  }
 ],
 "metadata": {
  "kernelspec": {
   "display_name": "Python 3",
   "language": "python",
   "name": "python3"
  },
  "language_info": {
   "codemirror_mode": {
    "name": "ipython",
    "version": 3
   },
   "file_extension": ".py",
   "mimetype": "text/x-python",
   "name": "python",
   "nbconvert_exporter": "python",
   "pygments_lexer": "ipython3",
   "version": "3.8.8"
  }
 },
 "nbformat": 4,
 "nbformat_minor": 5
}
