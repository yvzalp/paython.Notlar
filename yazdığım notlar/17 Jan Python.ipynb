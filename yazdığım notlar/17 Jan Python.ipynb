{
 "cells": [
  {
   "cell_type": "code",
   "execution_count": 23,
   "id": "31a7506b",
   "metadata": {},
   "outputs": [
    {
     "name": "stdout",
     "output_type": "stream",
     "text": [
      "30\n"
     ]
    }
   ],
   "source": [
    "my_age = 33\n",
    "your_age = 30\n",
    "my_age = your_age\n",
    "print(my_age)"
   ]
  },
  {
   "cell_type": "code",
   "execution_count": 24,
   "id": "4cb1de56",
   "metadata": {},
   "outputs": [
    {
     "name": "stdout",
     "output_type": "stream",
     "text": [
      "2\n"
     ]
    }
   ],
   "source": [
    "if_aa = 2 \n",
    "print(if_aa)"
   ]
  },
  {
   "cell_type": "code",
   "execution_count": 28,
   "id": "4688834c",
   "metadata": {},
   "outputs": [
    {
     "ename": "SyntaxError",
     "evalue": "invalid syntax (<ipython-input-28-4569b27f323c>, line 1)",
     "output_type": "error",
     "traceback": [
      "\u001b[1;36m  File \u001b[1;32m\"<ipython-input-28-4569b27f323c>\"\u001b[1;36m, line \u001b[1;32m1\u001b[0m\n\u001b[1;33m    2a = 3\u001b[0m\n\u001b[1;37m     ^\u001b[0m\n\u001b[1;31mSyntaxError\u001b[0m\u001b[1;31m:\u001b[0m invalid syntax\n"
     ]
    }
   ],
   "source": [
    "2a = 3\n",
    "print(2a)"
   ]
  },
  {
   "cell_type": "code",
   "execution_count": 31,
   "id": "2a335899",
   "metadata": {},
   "outputs": [
    {
     "name": "stdout",
     "output_type": "stream",
     "text": [
      "31 28 31 30 31 30 31 31 30 31 30 31\n"
     ]
    }
   ],
   "source": [
    "jan, feb, marc, april, may, june, july, aug, sep, octa, nov, dec = 31, 28, 31, 30, 31, 30, 31, 31, 30,31,30, 31\n",
    "print(jan, feb, marc, april, may, june, july, aug, sep, octa, nov, dec)"
   ]
  },
  {
   "cell_type": "code",
   "execution_count": 32,
   "id": "5199bd92",
   "metadata": {},
   "outputs": [],
   "source": [
    "jan = marc = may = july = august = octo = dec = 31\n",
    "april = june = september = november = 30\n",
    "february = 28\n"
   ]
  },
  {
   "cell_type": "code",
   "execution_count": 33,
   "id": "48189c25",
   "metadata": {},
   "outputs": [
    {
     "name": "stdout",
     "output_type": "stream",
     "text": [
      "None\n"
     ]
    }
   ],
   "source": [
    "walter = None\n",
    "print(walter)"
   ]
  },
  {
   "cell_type": "code",
   "execution_count": 34,
   "id": "3e8a3d3d",
   "metadata": {},
   "outputs": [
    {
     "name": "stdout",
     "output_type": "stream",
     "text": [
      "clarusway.com\n"
     ]
    }
   ],
   "source": [
    "website = \"clarusway.com\"\n",
    "print (website)"
   ]
  },
  {
   "cell_type": "code",
   "execution_count": 42,
   "id": "98d462a8",
   "metadata": {},
   "outputs": [
    {
     "data": {
      "text/plain": [
       "int"
      ]
     },
     "execution_count": 42,
     "metadata": {},
     "output_type": "execute_result"
    }
   ],
   "source": [
    "x = 3\n",
    "type(x)"
   ]
  },
  {
   "cell_type": "code",
   "execution_count": 47,
   "id": "116f770e",
   "metadata": {},
   "outputs": [
    {
     "name": "stdout",
     "output_type": "stream",
     "text": [
      "24\n",
      "24\n"
     ]
    },
    {
     "data": {
      "text/plain": [
       "'24'"
      ]
     },
     "execution_count": 47,
     "metadata": {},
     "output_type": "execute_result"
    }
   ],
   "source": [
    "print(\"24\")\n",
    "print(24)\n",
    "\"24\""
   ]
  },
  {
   "cell_type": "code",
   "execution_count": 48,
   "id": "359f237b",
   "metadata": {},
   "outputs": [
    {
     "data": {
      "text/plain": [
       "'3311'"
      ]
     },
     "execution_count": 48,
     "metadata": {},
     "output_type": "execute_result"
    }
   ],
   "source": [
    "\"33\" + \"11\""
   ]
  },
  {
   "cell_type": "code",
   "execution_count": 51,
   "id": "9eedac62",
   "metadata": {},
   "outputs": [
    {
     "name": "stdout",
     "output_type": "stream",
     "text": [
      "610.4895523648001\n"
     ]
    }
   ],
   "source": [
    "r = 5 \n",
    "area = 2 * 3.14 ** r\n",
    "print(area)"
   ]
  },
  {
   "cell_type": "code",
   "execution_count": 57,
   "id": "affe5b85",
   "metadata": {},
   "outputs": [
    {
     "name": "stdout",
     "output_type": "stream",
     "text": [
      "4.0\n"
     ]
    }
   ],
   "source": [
    "a = 16\n",
    "print(a ** 0.5)"
   ]
  },
  {
   "cell_type": "code",
   "execution_count": null,
   "id": "637e14f5",
   "metadata": {},
   "outputs": [],
   "source": []
  }
 ],
 "metadata": {
  "kernelspec": {
   "display_name": "Python 3",
   "language": "python",
   "name": "python3"
  },
  "language_info": {
   "codemirror_mode": {
    "name": "ipython",
    "version": 3
   },
   "file_extension": ".py",
   "mimetype": "text/x-python",
   "name": "python",
   "nbconvert_exporter": "python",
   "pygments_lexer": "ipython3",
   "version": "3.8.8"
  }
 },
 "nbformat": 4,
 "nbformat_minor": 5
}
