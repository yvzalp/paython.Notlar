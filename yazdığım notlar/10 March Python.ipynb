{
 "cells": [
  {
   "cell_type": "markdown",
   "id": "36d75ea3",
   "metadata": {},
   "source": [
    "# Araştır yanlışlar olabilir. Build-in fonctions\n",
    "- all(iterable => Boolean sonuç döndürür. Bütün values true ise veya boş ise true döndürür. Haricinde false döndürür.\n",
    "- any(iterable) => Boolean sonuç döndürür. Return True if bool(x) is True for any x in the iterable. boş ise False verir.Tüm      elemanlar False ise False verir.Harici True.\n",
    "- callable(object) => Boolean sonuç döndürür\n",
    "- filter(function, iterable) => Fonksiyonun True/False döndürmesi gerekir.\n",
    "- enumerate(iterable) => başına index numaralarını vererek yazdırır. 0,1,2, gibi...Tuple olarak sonuç verir.\n",
    "- round() => some others tackle numbers\n",
    "- map(function, iterable, ..)\n",
    "- eval(expression[,blobals[,locals]]) => string içi işlem yapmaya yarıyor +-*/ gibi...\n",
    "- dir([object]) => objectin açıklaması... hangi methodları var??\n",
    "- help([object]) => yardım blgilendirmesi."
   ]
  },
  {
   "cell_type": "markdown",
   "id": "bc3fc12a",
   "metadata": {},
   "source": []
  },
  {
   "cell_type": "code",
   "execution_count": 7,
   "id": "4f6f0834",
   "metadata": {},
   "outputs": [
    {
     "name": "stdout",
     "output_type": "stream",
     "text": [
      "True\n",
      "False\n",
      "True\n"
     ]
    }
   ],
   "source": [
    "names = [\"susan\", \"joseph\"]\n",
    "mood =[\"happy\", \"sad\", 0]\n",
    "empty = {}\n",
    "print(all(names), all(mood), all(empty), sep=\"\\n\")"
   ]
  },
  {
   "cell_type": "code",
   "execution_count": 8,
   "id": "a2ad45ee",
   "metadata": {},
   "outputs": [
    {
     "name": "stdout",
     "output_type": "stream",
     "text": [
      "True\n",
      "False\n",
      "False\n"
     ]
    }
   ],
   "source": [
    "names = [\"susan\", \"tom\", False]\n",
    "mood =[None, (), 0]\n",
    "empty = {}\n",
    "print(any(names), any(mood), any(empty), sep=\"\\n\")"
   ]
  },
  {
   "cell_type": "code",
   "execution_count": 14,
   "id": "fad900c2",
   "metadata": {},
   "outputs": [],
   "source": [
    "listA = {\"susan\", \"tom\", False, 0, 22}\n"
   ]
  },
  {
   "cell_type": "code",
   "execution_count": 15,
   "id": "0abab4a1",
   "metadata": {},
   "outputs": [],
   "source": [
    "filtered_list = filter(None, listA)   # fonksiyon yerine None kullanılırsa Truty'leri verir, seçer."
   ]
  },
  {
   "cell_type": "code",
   "execution_count": 11,
   "id": "a2560933",
   "metadata": {},
   "outputs": [
    {
     "data": {
      "text/plain": [
       "<filter at 0x17ae6c6ea30>"
      ]
     },
     "execution_count": 11,
     "metadata": {},
     "output_type": "execute_result"
    }
   ],
   "source": [
    "filtered_list    # for döngüsüne sokarak çıktısı alınabilir"
   ]
  },
  {
   "cell_type": "code",
   "execution_count": 16,
   "id": "f730a0d6",
   "metadata": {},
   "outputs": [
    {
     "name": "stdout",
     "output_type": "stream",
     "text": [
      "The filtered elements are : \n",
      "tom\n",
      "susan\n",
      "22\n"
     ]
    }
   ],
   "source": [
    "print(\"The filtered elements are : \")\n",
    "\n",
    "for i in filtered_list :\n",
    "    print(i)"
   ]
  },
  {
   "cell_type": "code",
   "execution_count": 18,
   "id": "aa91b5ce",
   "metadata": {},
   "outputs": [
    {
     "name": "stdout",
     "output_type": "stream",
     "text": [
      "The filtered elements are : \n",
      "susan\n",
      "tom\n",
      "0\n"
     ]
    }
   ],
   "source": [
    "listB = [\"susan\", \"tom\", False, 0, \"0\"]\n",
    "\n",
    "filtered_list = filter(None, listB)\n",
    "\n",
    "print(\"The filtered elements are : \")\n",
    "for i in filtered_list:\n",
    "    print(i)"
   ]
  },
  {
   "cell_type": "code",
   "execution_count": 20,
   "id": "49e3779c",
   "metadata": {},
   "outputs": [
    {
     "name": "stdout",
     "output_type": "stream",
     "text": [
      "<enumerate object at 0x0000017AE6A22DC0>\n"
     ]
    }
   ],
   "source": [
    "a = [\"ali\", \"veli\", \"deli\"]\n",
    "print(enumerate(a))"
   ]
  },
  {
   "cell_type": "code",
   "execution_count": 24,
   "id": "9b6ab4d2",
   "metadata": {},
   "outputs": [
    {
     "name": "stdout",
     "output_type": "stream",
     "text": [
      "<class 'enumerate'>\n",
      "[(0, 'bread'), (1, 'water'), (2, 'olive')]\n",
      "[(10, 'bread'), (11, 'water'), (12, 'olive')]\n"
     ]
    }
   ],
   "source": [
    "grocery = [\"bread\", \"water\", \"olive\"]\n",
    "enum_grocery = enumerate(grocery)  # start verilmezse 0 dan başlar.\n",
    "\n",
    "print(type(enum_grocery))\n",
    "print(list(enum_grocery))\n",
    "\n",
    "enum_grocery = enumerate(grocery, 10) # start 10 dan başlattı.\n",
    "print(list(enum_grocery))"
   ]
  },
  {
   "cell_type": "code",
   "execution_count": 28,
   "id": "9be6dcd4",
   "metadata": {},
   "outputs": [
    {
     "data": {
      "text/plain": [
       "{0: 'bread', 1: 'water', 2: 'olive'}"
      ]
     },
     "execution_count": 28,
     "metadata": {},
     "output_type": "execute_result"
    }
   ],
   "source": [
    "dict(enumerate(grocery))   # dict'e çevirmiş olduk. İndexler key oldu."
   ]
  },
  {
   "cell_type": "code",
   "execution_count": 34,
   "id": "89fd1dc7",
   "metadata": {},
   "outputs": [
    {
     "name": "stdout",
     "output_type": "stream",
     "text": [
      "16 -222\n"
     ]
    }
   ],
   "source": [
    "number = [-222, 0, 16, 10, 5, 6]\n",
    "maximum = max(number)\n",
    "minimum = min(number)\n",
    "print(maximum, minimum)"
   ]
  },
  {
   "cell_type": "code",
   "execution_count": 30,
   "id": "c1d94712",
   "metadata": {},
   "outputs": [
    {
     "data": {
      "text/plain": [
       "'a'"
      ]
     },
     "execution_count": 30,
     "metadata": {},
     "output_type": "execute_result"
    }
   ],
   "source": [
    "min(\"ahmet\")  # ASCII kodlara göre değerlendirir."
   ]
  },
  {
   "cell_type": "code",
   "execution_count": 32,
   "id": "2f5dc8a1",
   "metadata": {},
   "outputs": [
    {
     "data": {
      "text/plain": [
       "'t'"
      ]
     },
     "execution_count": 32,
     "metadata": {},
     "output_type": "execute_result"
    }
   ],
   "source": [
    "max(\"ahmeta\")"
   ]
  },
  {
   "cell_type": "code",
   "execution_count": 33,
   "id": "0edb495b",
   "metadata": {},
   "outputs": [
    {
     "data": {
      "text/plain": [
       "97"
      ]
     },
     "execution_count": 33,
     "metadata": {},
     "output_type": "execute_result"
    }
   ],
   "source": [
    "ord(\"a\")  # ASCII numarasını verir."
   ]
  },
  {
   "cell_type": "code",
   "execution_count": 35,
   "id": "bbad5f57",
   "metadata": {},
   "outputs": [
    {
     "data": {
      "text/plain": [
       "5"
      ]
     },
     "execution_count": 35,
     "metadata": {},
     "output_type": "execute_result"
    }
   ],
   "source": [
    "max(1,2,3,4,5) # sayı dizisi şeklinde de alabilir."
   ]
  },
  {
   "cell_type": "code",
   "execution_count": 38,
   "id": "83396343",
   "metadata": {},
   "outputs": [
    {
     "name": "stdout",
     "output_type": "stream",
     "text": [
      "21.5\n",
      "41.5\n"
     ]
    }
   ],
   "source": [
    "numbers = [2.5, 30, 4, -15]\n",
    "numbers_sums = sum(numbers) # iterable ın elemanları numeric olmalıdır.sum(iterable, start)\n",
    "print(numbers_sums)\n",
    "numbers_sum = sum(numbers,20)   # toplama 20 yi ilave eder.\n",
    "print(numbers_sum)"
   ]
  },
  {
   "cell_type": "code",
   "execution_count": 39,
   "id": "213e4856",
   "metadata": {},
   "outputs": [
    {
     "ename": "TypeError",
     "evalue": "sum() takes at most 2 arguments (4 given)",
     "output_type": "error",
     "traceback": [
      "\u001b[1;31m---------------------------------------------------------------------------\u001b[0m",
      "\u001b[1;31mTypeError\u001b[0m                                 Traceback (most recent call last)",
      "\u001b[1;32m<ipython-input-39-91d8ea3a7fc6>\u001b[0m in \u001b[0;36m<module>\u001b[1;34m\u001b[0m\n\u001b[1;32m----> 1\u001b[1;33m \u001b[0msum\u001b[0m\u001b[1;33m(\u001b[0m\u001b[1;36m1\u001b[0m\u001b[1;33m,\u001b[0m\u001b[1;36m2\u001b[0m\u001b[1;33m,\u001b[0m\u001b[1;36m3\u001b[0m\u001b[1;33m,\u001b[0m\u001b[1;36m4\u001b[0m\u001b[1;33m)\u001b[0m\u001b[1;33m\u001b[0m\u001b[1;33m\u001b[0m\u001b[0m\n\u001b[0m",
      "\u001b[1;31mTypeError\u001b[0m: sum() takes at most 2 arguments (4 given)"
     ]
    }
   ],
   "source": [
    "sum(1,2,3,4)   # bu şekilde yapılamaz. en fazla 2tane arguments alabilir bunlardan birincisi iterable 2.si başlangıç değeri"
   ]
  },
  {
   "cell_type": "code",
   "execution_count": 42,
   "id": "57411f97",
   "metadata": {},
   "outputs": [
    {
     "name": "stdout",
     "output_type": "stream",
     "text": [
      "12\n",
      "10\n",
      "3.67\n",
      "3.67\n"
     ]
    }
   ],
   "source": [
    "print(round(12))     # yuvarlama yapar. round(sayi, kaç_basamak)\n",
    "print(round(10,8))\n",
    "print(round(3.665, 2))     # alttaki ile beraber araştır..... floadlar binary ???*.\n",
    "print(round(3.675, 2))    # Bu sayı aslında 3.674999999999 olarak gittiğinden böyle yuvarlıyor."
   ]
  },
  {
   "cell_type": "markdown",
   "id": "77872b5e",
   "metadata": {},
   "source": [
    "# Fonksiyon\n",
    "- def Function_name (parameter(s)) :\n",
    "     Execution body\n",
    "- Fonksiyonu tanımlarken parametreler olarak adlandırılır. Fonksiyonu çağırırken parantez içine yazılanlar ise                 argümanlardır.\n",
    "- Genellikle return ile bir değer döndürür.\n",
    "- return bir değer döndürür. dict string int list olabilir."
   ]
  },
  {
   "cell_type": "code",
   "execution_count": 43,
   "id": "47eaded0",
   "metadata": {},
   "outputs": [],
   "source": [
    "def ilk_fonksiyonum(x, y):\n",
    "    print(x ** 2 + y ** 2)"
   ]
  },
  {
   "cell_type": "code",
   "execution_count": 44,
   "id": "52b3f122",
   "metadata": {},
   "outputs": [
    {
     "name": "stdout",
     "output_type": "stream",
     "text": [
      "25\n"
     ]
    }
   ],
   "source": [
    "ilk_fonksiyonum(3, 4)"
   ]
  },
  {
   "cell_type": "code",
   "execution_count": 46,
   "id": "919cd660",
   "metadata": {
    "scrolled": true
   },
   "outputs": [
    {
     "name": "stdout",
     "output_type": "stream",
     "text": [
      "15\n",
      "-2.5\n",
      "amazing amazing amazing \n"
     ]
    }
   ],
   "source": [
    "def multiply(a,b):\n",
    "    print(a * b)\n",
    "multiply(3, 5)\n",
    "multiply(-1, 2.5)\n",
    "multiply(\"amazing \", 3)"
   ]
  },
  {
   "cell_type": "code",
   "execution_count": 47,
   "id": "8dc42426",
   "metadata": {},
   "outputs": [],
   "source": [
    "def hipotenus(a, b):\n",
    "    print((a ** 2 + b ** 2) ** 0.5)"
   ]
  },
  {
   "cell_type": "code",
   "execution_count": 49,
   "id": "2c27cef5",
   "metadata": {},
   "outputs": [
    {
     "name": "stdout",
     "output_type": "stream",
     "text": [
      "5.0\n"
     ]
    }
   ],
   "source": [
    "hipotenus(4, 3)"
   ]
  },
  {
   "cell_type": "code",
   "execution_count": 50,
   "id": "e486de16",
   "metadata": {},
   "outputs": [],
   "source": [
    "def rumi():\n",
    "    print(\"\"\"Ay vurmuyorsa yüzüne, güneş vurmuyorsa pencerene kabahati ne Ay'da ne Güneş'te ara. Gözlerindeki perdeyi arala.\n",
    "    \"\"\")"
   ]
  },
  {
   "cell_type": "code",
   "execution_count": null,
   "id": "d7110940",
   "metadata": {},
   "outputs": [],
   "source": [
    "rumi()  # argumansız fonksiyon tanımlayıp çağırdık..."
   ]
  },
  {
   "cell_type": "code",
   "execution_count": 51,
   "id": "35cbda12",
   "metadata": {},
   "outputs": [
    {
     "name": "stdout",
     "output_type": "stream",
     "text": [
      "10\n"
     ]
    }
   ],
   "source": [
    "def add(x, y):\n",
    "    print(x + y)\n",
    "add(4, 6)"
   ]
  },
  {
   "cell_type": "code",
   "execution_count": 54,
   "id": "99f84a3f",
   "metadata": {},
   "outputs": [
    {
     "name": "stdout",
     "output_type": "stream",
     "text": [
      "108\n"
     ]
    }
   ],
   "source": [
    "def calculator(x, y, a):   # benim çözüm\n",
    "    if a == \"+\":\n",
    "        print(x + y)\n",
    "    elif a == \"-\":\n",
    "        print(x - y)\n",
    "    elif a == \"*\":\n",
    "        print(x * y)\n",
    "    elif a == \"/\":\n",
    "        print(x / y)\n",
    "    else:\n",
    "        print(\"Enter a valid arguments\")\n",
    "calculator(88, 20, \"+\")"
   ]
  },
  {
   "cell_type": "code",
   "execution_count": 56,
   "id": "93ab1981",
   "metadata": {},
   "outputs": [],
   "source": [
    "def calculator(x, y, opr) :\n",
    "    if opr == \"+\" :\n",
    "        print(x + y)\n",
    "        \n",
    "    elif opr == \"-\" :\n",
    "        print(x - y)\n",
    "        \n",
    "    elif opr == \"*\" :\n",
    "        print(x * y)\n",
    "        \n",
    "    elif opr == \"/\" :\n",
    "        print(x / y)\n",
    "        \n",
    "    else :\n",
    "        print(\"Enter a valid operator.\")"
   ]
  },
  {
   "cell_type": "code",
   "execution_count": 58,
   "id": "eac66551",
   "metadata": {},
   "outputs": [
    {
     "name": "stdout",
     "output_type": "stream",
     "text": [
      "2.0\n"
     ]
    }
   ],
   "source": [
    "calculator(22, 11, \"/\")"
   ]
  },
  {
   "cell_type": "code",
   "execution_count": 59,
   "id": "7104ed1e",
   "metadata": {},
   "outputs": [
    {
     "name": "stdout",
     "output_type": "stream",
     "text": [
      "15\n",
      "-2.5\n",
      "amazing amazing amazing \n"
     ]
    }
   ],
   "source": [
    "def multiply_2(a, b) :\n",
    "    return(a * b)      # eğer printle tanımlama yapılırsa type NoneType olur. Ama return kullanırsak type ı ne ise o olarak \n",
    "                        # döner. list int str vs...\n",
    "multiply(3, 5)\n",
    "multiply(-1, 2.5)\n",
    "multiply(\"amazing \", 3)"
   ]
  },
  {
   "cell_type": "code",
   "execution_count": 60,
   "id": "26d8c632",
   "metadata": {},
   "outputs": [
    {
     "data": {
      "text/plain": [
       "50"
      ]
     },
     "execution_count": 60,
     "metadata": {},
     "output_type": "execute_result"
    }
   ],
   "source": [
    "50   # aslında print kullanmadan çıktı alabiliyoruz.Jupyterin bir özelliği."
   ]
  },
  {
   "cell_type": "code",
   "execution_count": 61,
   "id": "ed0f9b68",
   "metadata": {},
   "outputs": [],
   "source": [
    "def topla(x, y) :\n",
    "    return x + y"
   ]
  },
  {
   "cell_type": "code",
   "execution_count": 62,
   "id": "ea83d6a2",
   "metadata": {},
   "outputs": [
    {
     "data": {
      "text/plain": [
       "int"
      ]
     },
     "execution_count": 62,
     "metadata": {},
     "output_type": "execute_result"
    }
   ],
   "source": [
    "type(topla(3, 5))"
   ]
  },
  {
   "cell_type": "code",
   "execution_count": 63,
   "id": "8f3259ef",
   "metadata": {},
   "outputs": [
    {
     "data": {
      "text/plain": [
       "11"
      ]
     },
     "execution_count": 63,
     "metadata": {},
     "output_type": "execute_result"
    }
   ],
   "source": [
    "topla(4, 7)"
   ]
  },
  {
   "cell_type": "code",
   "execution_count": 64,
   "id": "eea1c81a",
   "metadata": {},
   "outputs": [],
   "source": [
    "def string():\n",
    "    return \"alideliveli\""
   ]
  },
  {
   "cell_type": "code",
   "execution_count": 66,
   "id": "c87e35fa",
   "metadata": {},
   "outputs": [
    {
     "data": {
      "text/plain": [
       "'alideliveli'"
      ]
     },
     "execution_count": 66,
     "metadata": {},
     "output_type": "execute_result"
    }
   ],
   "source": [
    "string()"
   ]
  },
  {
   "cell_type": "code",
   "execution_count": 67,
   "id": "ac6fd363",
   "metadata": {},
   "outputs": [
    {
     "data": {
      "text/plain": [
       "str"
      ]
     },
     "execution_count": 67,
     "metadata": {},
     "output_type": "execute_result"
    }
   ],
   "source": [
    "type(string())"
   ]
  },
  {
   "cell_type": "code",
   "execution_count": 68,
   "id": "3f624fa5",
   "metadata": {},
   "outputs": [
    {
     "name": "stdout",
     "output_type": "stream",
     "text": [
      "a\n",
      "l\n",
      "i\n",
      "d\n",
      "e\n",
      "l\n",
      "i\n",
      "v\n",
      "e\n",
      "l\n",
      "i\n"
     ]
    }
   ],
   "source": [
    "for i in string() :\n",
    "    print(i)"
   ]
  },
  {
   "cell_type": "code",
   "execution_count": 69,
   "id": "466dd29a",
   "metadata": {},
   "outputs": [
    {
     "name": "stdout",
     "output_type": "stream",
     "text": [
      "a l i d e l i v e l i\n"
     ]
    }
   ],
   "source": [
    "print(* string())"
   ]
  },
  {
   "cell_type": "code",
   "execution_count": 70,
   "id": "c272b21f",
   "metadata": {},
   "outputs": [],
   "source": [
    "def integer():\n",
    "    return 22"
   ]
  },
  {
   "cell_type": "code",
   "execution_count": 71,
   "id": "84c561d9",
   "metadata": {},
   "outputs": [
    {
     "data": {
      "text/plain": [
       "22"
      ]
     },
     "execution_count": 71,
     "metadata": {},
     "output_type": "execute_result"
    }
   ],
   "source": [
    "integer()"
   ]
  },
  {
   "cell_type": "code",
   "execution_count": 72,
   "id": "1b2acdad",
   "metadata": {},
   "outputs": [],
   "source": [
    "del integer   # del ile tanımladığımız fonksiyonu silebiliriz."
   ]
  },
  {
   "cell_type": "code",
   "execution_count": 73,
   "id": "e6fdcad6",
   "metadata": {},
   "outputs": [
    {
     "ename": "NameError",
     "evalue": "name 'integer' is not defined",
     "output_type": "error",
     "traceback": [
      "\u001b[1;31m---------------------------------------------------------------------------\u001b[0m",
      "\u001b[1;31mNameError\u001b[0m                                 Traceback (most recent call last)",
      "\u001b[1;32m<ipython-input-73-da2cfdd12cff>\u001b[0m in \u001b[0;36m<module>\u001b[1;34m\u001b[0m\n\u001b[1;32m----> 1\u001b[1;33m \u001b[0minteger\u001b[0m\u001b[1;33m(\u001b[0m\u001b[1;33m)\u001b[0m\u001b[1;33m\u001b[0m\u001b[1;33m\u001b[0m\u001b[0m\n\u001b[0m",
      "\u001b[1;31mNameError\u001b[0m: name 'integer' is not defined"
     ]
    }
   ],
   "source": [
    "integer()"
   ]
  },
  {
   "cell_type": "code",
   "execution_count": 74,
   "id": "c832d435",
   "metadata": {},
   "outputs": [],
   "source": [
    "def boolean() :\n",
    "    return True"
   ]
  },
  {
   "cell_type": "code",
   "execution_count": 76,
   "id": "e378aa71",
   "metadata": {},
   "outputs": [
    {
     "data": {
      "text/plain": [
       "True"
      ]
     },
     "execution_count": 76,
     "metadata": {},
     "output_type": "execute_result"
    }
   ],
   "source": [
    "boolean()"
   ]
  },
  {
   "cell_type": "code",
   "execution_count": 77,
   "id": "04d77e63",
   "metadata": {},
   "outputs": [
    {
     "name": "stdout",
     "output_type": "stream",
     "text": [
      "hey yavrum. clarusway bi tanesin\n"
     ]
    }
   ],
   "source": [
    "if boolean() :             # True olduğu için if bloğuna girdi.\n",
    "    print(\"hey yavrum. clarusway bi tanesin\")"
   ]
  },
  {
   "cell_type": "code",
   "execution_count": 78,
   "id": "7bb747a3",
   "metadata": {},
   "outputs": [],
   "source": [
    "def listem():\n",
    "    return [1, 2, 3, 4]"
   ]
  },
  {
   "cell_type": "code",
   "execution_count": 79,
   "id": "d2ed70a5",
   "metadata": {},
   "outputs": [
    {
     "name": "stdout",
     "output_type": "stream",
     "text": [
      "1\n",
      "2\n",
      "3\n",
      "4\n"
     ]
    }
   ],
   "source": [
    "for i in listem():\n",
    "    print(i)"
   ]
  },
  {
   "cell_type": "code",
   "execution_count": 80,
   "id": "fca4c005",
   "metadata": {},
   "outputs": [
    {
     "data": {
      "text/plain": [
       "(1, 2, 3, 4)"
      ]
     },
     "execution_count": 80,
     "metadata": {},
     "output_type": "execute_result"
    }
   ],
   "source": [
    "tuple(listem())  "
   ]
  },
  {
   "cell_type": "code",
   "execution_count": 81,
   "id": "b83853db",
   "metadata": {},
   "outputs": [
    {
     "data": {
      "text/plain": [
       "3"
      ]
     },
     "execution_count": 81,
     "metadata": {},
     "output_type": "execute_result"
    }
   ],
   "source": [
    "listem()[2]  # indexleme yaptık"
   ]
  },
  {
   "cell_type": "code",
   "execution_count": 83,
   "id": "3caaad3f",
   "metadata": {},
   "outputs": [],
   "source": [
    "x = boolean()  # değişkene atanabilir."
   ]
  },
  {
   "cell_type": "code",
   "execution_count": 84,
   "id": "e83b7ab6",
   "metadata": {},
   "outputs": [
    {
     "data": {
      "text/plain": [
       "True"
      ]
     },
     "execution_count": 84,
     "metadata": {},
     "output_type": "execute_result"
    }
   ],
   "source": [
    "x"
   ]
  },
  {
   "cell_type": "code",
   "execution_count": 85,
   "id": "d15c1159",
   "metadata": {},
   "outputs": [],
   "source": [
    "y = listem()"
   ]
  },
  {
   "cell_type": "code",
   "execution_count": 86,
   "id": "8184bbb8",
   "metadata": {},
   "outputs": [
    {
     "data": {
      "text/plain": [
       "[1, 2, 3, 4]"
      ]
     },
     "execution_count": 86,
     "metadata": {},
     "output_type": "execute_result"
    }
   ],
   "source": [
    "y"
   ]
  },
  {
   "cell_type": "code",
   "execution_count": 88,
   "id": "62e300d8",
   "metadata": {},
   "outputs": [],
   "source": [
    "def calculator(x, y, opr) :\n",
    "    if opr == \"+\" :\n",
    "        return(x + y)\n",
    "        \n",
    "    elif opr == \"-\" :\n",
    "        return(x - y)\n",
    "        \n",
    "    elif opr == \"*\" :\n",
    "        return(x * y)\n",
    "        \n",
    "    elif opr == \"/\" :\n",
    "        return(x / y)\n",
    "        \n",
    "    else :\n",
    "        return(\"Enter a valid operator.\")"
   ]
  },
  {
   "cell_type": "code",
   "execution_count": 90,
   "id": "6205d10c",
   "metadata": {},
   "outputs": [],
   "source": [
    "sonuc = calculator(3, 5, \"+\")"
   ]
  },
  {
   "cell_type": "code",
   "execution_count": 91,
   "id": "07578cae",
   "metadata": {},
   "outputs": [
    {
     "data": {
      "text/plain": [
       "8"
      ]
     },
     "execution_count": 91,
     "metadata": {},
     "output_type": "execute_result"
    }
   ],
   "source": [
    "sonuc"
   ]
  },
  {
   "cell_type": "code",
   "execution_count": 92,
   "id": "a1be0898",
   "metadata": {},
   "outputs": [
    {
     "name": "stdout",
     "output_type": "stream",
     "text": [
      "3\n",
      "3\n"
     ]
    }
   ],
   "source": [
    "def absolute_value(x) :\n",
    "    \"\"\"Mutlak değer alma fonksiyonu\"\"\"\n",
    "    if x < 0 :\n",
    "        return -x\n",
    "    else:\n",
    "        return x\n",
    "print(absolute_value(3))\n",
    "print(absolute_value(-3))"
   ]
  },
  {
   "cell_type": "code",
   "execution_count": 96,
   "id": "9d147d77",
   "metadata": {},
   "outputs": [
    {
     "data": {
      "text/plain": [
       "22"
      ]
     },
     "execution_count": 96,
     "metadata": {},
     "output_type": "execute_result"
    }
   ],
   "source": [
    "def absolute_value(num) :\n",
    "    \"\"\"This function returns the absolute value of the given number.\"\"\"\n",
    "    if num > 0 :\n",
    "        return num\n",
    "    else : \n",
    "        return -num\n",
    "absolute_value(-22)"
   ]
  },
  {
   "cell_type": "code",
   "execution_count": 95,
   "id": "91a72fdd",
   "metadata": {},
   "outputs": [
    {
     "name": "stdout",
     "output_type": "stream",
     "text": [
      "This function returns the absolute value of the given number.\n"
     ]
    }
   ],
   "source": [
    "print(absolute_value.__doc__)  # docstringin çıktısını verir."
   ]
  },
  {
   "cell_type": "code",
   "execution_count": 97,
   "id": "4330a9d7",
   "metadata": {},
   "outputs": [
    {
     "name": "stdout",
     "output_type": "stream",
     "text": [
      "Return the absolute value of the argument.\n"
     ]
    }
   ],
   "source": [
    "print(abs.__doc__)"
   ]
  },
  {
   "cell_type": "code",
   "execution_count": 98,
   "id": "666a6165",
   "metadata": {},
   "outputs": [
    {
     "data": {
      "text/plain": [
       "2.0"
      ]
     },
     "execution_count": 98,
     "metadata": {},
     "output_type": "execute_result"
    }
   ],
   "source": [
    "def absolute_value(a) :   # @1462 - Meryem hocamın çözümü farklı bir yaklaşım \n",
    "    \"\"\"Verilen sayının mutlak değerini alıyoruz.\"\"\"\n",
    "    return ((a ** 2) ** 0.5)\n",
    "absolute_value(-2)"
   ]
  },
  {
   "cell_type": "markdown",
   "id": "c546d4fb",
   "metadata": {},
   "source": [
    "#Arguments vs Parameters\n",
    "- Parameters => Variables \n",
    "- Arguments => Values "
   ]
  },
  {
   "cell_type": "code",
   "execution_count": 100,
   "id": "efef7c98",
   "metadata": {
    "scrolled": true
   },
   "outputs": [
    {
     "name": "stdout",
     "output_type": "stream",
     "text": [
      "Your first name is :  Guido\n",
      "Your last name is :  van Rossum\n",
      "\n",
      "Your first name is :  Marry\n",
      "Your last name is :  Rose\n"
     ]
    }
   ],
   "source": [
    "def who(first, last) :\n",
    "    print(\"Your first name is : \", first)\n",
    "    print(\"Your last name is : \", last)\n",
    "    \n",
    "who(\"Guido\", \"van Rossum\")\n",
    "print()\n",
    "who('Marry', \"Rose\")"
   ]
  },
  {
   "cell_type": "code",
   "execution_count": 101,
   "id": "3c8acbbd",
   "metadata": {},
   "outputs": [
    {
     "ename": "TypeError",
     "evalue": "who() missing 1 required positional argument: 'last'",
     "output_type": "error",
     "traceback": [
      "\u001b[1;31m---------------------------------------------------------------------------\u001b[0m",
      "\u001b[1;31mTypeError\u001b[0m                                 Traceback (most recent call last)",
      "\u001b[1;32m<ipython-input-101-b6f30caeb1b7>\u001b[0m in \u001b[0;36m<module>\u001b[1;34m\u001b[0m\n\u001b[1;32m----> 1\u001b[1;33m \u001b[0mwho\u001b[0m\u001b[1;33m(\u001b[0m\u001b[1;34m\"Joseph\"\u001b[0m\u001b[1;33m)\u001b[0m\u001b[1;33m\u001b[0m\u001b[1;33m\u001b[0m\u001b[0m\n\u001b[0m",
      "\u001b[1;31mTypeError\u001b[0m: who() missing 1 required positional argument: 'last'"
     ]
    }
   ],
   "source": [
    "who(\"Joseph\")   # kaç arguman belirlendiyse o kadar yazılması lazım yoksa hata verir..."
   ]
  },
  {
   "cell_type": "markdown",
   "id": "e81af6c6",
   "metadata": {},
   "source": [
    "- Positional arguments are arguments that can be called by their position in the function call. Keyword arguments are           arguments that can be called by their name. Required arguments are arguments that must passed to the function. Optional     arguments are arguments that can be not passed to the function.\n",
    "- Positional Arguments => sıra önemli gönderilen sıra ile işlem yapılmasıdır.\n",
    "- Keyword Arguments => sıra önemli değil"
   ]
  },
  {
   "cell_type": "code",
   "execution_count": 102,
   "id": "5f8dab16",
   "metadata": {},
   "outputs": [
    {
     "name": "stdout",
     "output_type": "stream",
     "text": [
      "3 is first\n",
      "4 is second\n"
     ]
    }
   ],
   "source": [
    "def pos_arg(a, b):   # Positional arguments e örnek\n",
    "    print(a, \"is first\")\n",
    "    print(b, \"is second\")\n",
    "pos_arg(3, 4)"
   ]
  },
  {
   "cell_type": "code",
   "execution_count": 103,
   "id": "54e26b26",
   "metadata": {},
   "outputs": [
    {
     "name": "stdout",
     "output_type": "stream",
     "text": [
      "i love you\n"
     ]
    }
   ],
   "source": [
    "def texter(x, y, z) :            # benim çözüm...\n",
    "    print(y + \" \" + z + \" \" + x)\n",
    "a = \"i\"\n",
    "b = \"love\"\n",
    "c = \"you\"\n",
    "texter(c, a, b)"
   ]
  },
  {
   "cell_type": "code",
   "execution_count": 104,
   "id": "4b49465f",
   "metadata": {},
   "outputs": [],
   "source": [
    "a = \"i\"\n",
    "b = \"love\"\n",
    "c = \"you\""
   ]
  },
  {
   "cell_type": "code",
   "execution_count": 105,
   "id": "e286ec74",
   "metadata": {},
   "outputs": [
    {
     "name": "stdout",
     "output_type": "stream",
     "text": [
      "i love you\n"
     ]
    }
   ],
   "source": [
    "def texter(text1, text2, text3) :\n",
    "    print(text2, text3, text1)\n",
    "texter(c, a, b)"
   ]
  },
  {
   "cell_type": "code",
   "execution_count": 107,
   "id": "dd625a42",
   "metadata": {},
   "outputs": [
    {
     "name": "stdout",
     "output_type": "stream",
     "text": [
      "Your first name is :  Guido\n",
      "Your last name is :  van Rossum\n",
      "\n",
      "Your first name is :  Joseph\n",
      "Your last name is :  J.\n"
     ]
    }
   ],
   "source": [
    "def who(first, last) :   # Keyword Arguments örneği sıra önemli değil...\n",
    "    print(\"Your first name is : \", first)\n",
    "    print(\"Your last name is : \", last)\n",
    "    \n",
    "who(first = \"Guido\", last = \"van Rossum\")\n",
    "print()\n",
    "who(last = \"J.\", first = \"Joseph\")"
   ]
  },
  {
   "cell_type": "code",
   "execution_count": 108,
   "id": "0d4f0ca7",
   "metadata": {},
   "outputs": [
    {
     "name": "stdout",
     "output_type": "stream",
     "text": [
      "i love you\n"
     ]
    }
   ],
   "source": [
    "texter(text1 = \"you\", text3 = \"love\", text2 = \"i\")"
   ]
  },
  {
   "cell_type": "code",
   "execution_count": null,
   "id": "50d0c267",
   "metadata": {},
   "outputs": [],
   "source": []
  }
 ],
 "metadata": {
  "kernelspec": {
   "display_name": "Python 3.10.7 64-bit (microsoft store)",
   "language": "python",
   "name": "python3"
  },
  "language_info": {
   "codemirror_mode": {
    "name": "ipython",
    "version": 3
   },
   "file_extension": ".py",
   "mimetype": "text/x-python",
   "name": "python",
   "nbconvert_exporter": "python",
   "pygments_lexer": "ipython3",
   "version": "3.10.7"
  },
  "vscode": {
   "interpreter": {
    "hash": "7b60276908c3349bf0a2cf69de4d7bf4bae3bf371057c4ac156f4be27a89a82c"
   }
  }
 },
 "nbformat": 4,
 "nbformat_minor": 5
}
