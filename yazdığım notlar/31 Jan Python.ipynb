{
 "cells": [
  {
   "cell_type": "markdown",
   "id": "fbc75f32",
   "metadata": {},
   "source": [
    "- list() => komutu iretable olanlarda kullanılır elemanları ayırır aralarına virgül koyarak listenin elemanı haline getirir.\n",
    "- len() => iterable olanlarda kullanılabilir sadece \n",
    "- liste = [liste1] liste biri alt eleman olarak alır [[]] içinde olur bir eleman olarak sayılır.\n",
    "- iç içe liste olabilir \n",
    "- .append() listenin en sonuna eleman ilave eder. Tek bir eleman alır.\n",
    "- .insert() belli bir indexe atama yapar\n",
    "- .pop() en son elemanı siler sildiği elemanı çıktı verir. Ayrıca hangi indexi yazarsan onu siler\n",
    "- .remove() yazılan elemanı siler elemanın kendisini yazıyoruz.\n",
    "- .sort() listeyi küçükten büyüğe veya alfabetik sıraya göre sıralar. .sort(reverse = True) ters sıralar. True False sıralaması False 0 olduğundan önce onu alır.\n",
    "- ord(c) Given a string representing one Unicode character, return an integer representing the Unicode code point of that character. For example, ord('a') returns the integer 97 and ord('€') (Euro sign) returns 8364. This is the inverse of chr(). String ifadenin ASCII sırasını verir ord(\"*\") => 42  chr(42) => '*'\n",
    "- liste içi liste varsa sıralama yaparken listelerin ilk elemanlarına göre sıralama yapar. İlk elemanı aynı olursa ikinci elemana geçer."
   ]
  },
  {
   "cell_type": "code",
   "execution_count": 3,
   "id": "a692ae98",
   "metadata": {},
   "outputs": [
    {
     "data": {
      "text/plain": [
       "['c', 'l', 'a', 'r', 'u', 's', 'w', 'a', 'y']"
      ]
     },
     "execution_count": 3,
     "metadata": {},
     "output_type": "execute_result"
    }
   ],
   "source": [
    "list(\"clarusway\")\n"
   ]
  },
  {
   "cell_type": "code",
   "execution_count": 4,
   "id": "1fb2b86d",
   "metadata": {},
   "outputs": [
    {
     "data": {
      "text/plain": [
       "[1, 2, 3]"
      ]
     },
     "execution_count": 4,
     "metadata": {},
     "output_type": "execute_result"
    }
   ],
   "source": [
    "a = [1, 2, 3]\n",
    "list(a)"
   ]
  },
  {
   "cell_type": "code",
   "execution_count": 5,
   "id": "fd73f761",
   "metadata": {},
   "outputs": [
    {
     "name": "stdout",
     "output_type": "stream",
     "text": [
      "['h', 'a', 'p', 'p', 'y']\n",
      "['h', 'a', 'p', 'p', 'y']\n"
     ]
    }
   ],
   "source": [
    "list_1 = [\"h\", \"a\", \"p\", \"p\", \"y\"]\n",
    "word = \"happy\"\n",
    "list_2 = list(word)\n",
    "print(list_1)\n",
    "print(list_2)"
   ]
  },
  {
   "cell_type": "code",
   "execution_count": 6,
   "id": "6c053fbe",
   "metadata": {},
   "outputs": [
    {
     "ename": "TypeError",
     "evalue": "'int' object is not iterable",
     "output_type": "error",
     "traceback": [
      "\u001b[1;31m---------------------------------------------------------------------------\u001b[0m",
      "\u001b[1;31mTypeError\u001b[0m                                 Traceback (most recent call last)",
      "\u001b[1;32m<ipython-input-6-1d46027d1a4e>\u001b[0m in \u001b[0;36m<module>\u001b[1;34m\u001b[0m\n\u001b[1;32m----> 1\u001b[1;33m \u001b[0mlist\u001b[0m\u001b[1;33m(\u001b[0m\u001b[1;36m1234\u001b[0m\u001b[1;33m)\u001b[0m\u001b[1;33m\u001b[0m\u001b[1;33m\u001b[0m\u001b[0m\n\u001b[0m",
      "\u001b[1;31mTypeError\u001b[0m: 'int' object is not iterable"
     ]
    }
   ],
   "source": [
    "list(1234)"
   ]
  },
  {
   "cell_type": "code",
   "execution_count": 7,
   "id": "c502309f",
   "metadata": {},
   "outputs": [
    {
     "ename": "TypeError",
     "evalue": "object of type 'int' has no len()",
     "output_type": "error",
     "traceback": [
      "\u001b[1;31m---------------------------------------------------------------------------\u001b[0m",
      "\u001b[1;31mTypeError\u001b[0m                                 Traceback (most recent call last)",
      "\u001b[1;32m<ipython-input-7-ec67a52704b7>\u001b[0m in \u001b[0;36m<module>\u001b[1;34m\u001b[0m\n\u001b[1;32m----> 1\u001b[1;33m \u001b[0mlen\u001b[0m\u001b[1;33m(\u001b[0m\u001b[1;36m1234\u001b[0m\u001b[1;33m)\u001b[0m\u001b[1;33m\u001b[0m\u001b[1;33m\u001b[0m\u001b[0m\n\u001b[0m",
      "\u001b[1;31mTypeError\u001b[0m: object of type 'int' has no len()"
     ]
    }
   ],
   "source": [
    "len(1234)"
   ]
  },
  {
   "cell_type": "code",
   "execution_count": 8,
   "id": "91f5b75e",
   "metadata": {},
   "outputs": [
    {
     "name": "stdout",
     "output_type": "stream",
     "text": [
      "['I', ' ', 'q', 'u', 'i', 't', ' ', 's', 'm', 'o', 'k', 'i', 'n', 'g']\n",
      "['I quit smoking']\n"
     ]
    }
   ],
   "source": [
    "string = \"I quit smoking\"\n",
    "new_list1 = list(string)\n",
    "new_list2 = [string]\n",
    "print(new_list1)\n",
    "print(new_list2)"
   ]
  },
  {
   "cell_type": "code",
   "execution_count": 10,
   "id": "266dca6d",
   "metadata": {},
   "outputs": [
    {
     "name": "stdout",
     "output_type": "stream",
     "text": [
      "['J', 'C0', 2020]\n"
     ]
    }
   ],
   "source": [
    "my_list = [\"J\", \"C0\", 2020]\n",
    "list1 = list(my_list)\n",
    "print(list1)"
   ]
  },
  {
   "cell_type": "code",
   "execution_count": 11,
   "id": "6b7a9607",
   "metadata": {},
   "outputs": [
    {
     "data": {
      "text/plain": [
       "5"
      ]
     },
     "execution_count": 11,
     "metadata": {},
     "output_type": "execute_result"
    }
   ],
   "source": [
    "mesela = [[1, 2, 4], False, \"ali\", 11, [\"veli\", [\"deli\"]]]\n",
    "len(mesela)"
   ]
  },
  {
   "cell_type": "code",
   "execution_count": 14,
   "id": "bde854a7",
   "metadata": {},
   "outputs": [
    {
     "data": {
      "text/plain": [
       "1"
      ]
     },
     "execution_count": 14,
     "metadata": {},
     "output_type": "execute_result"
    }
   ],
   "source": [
    "len([[[\" \", 1 , 3]]])"
   ]
  },
  {
   "cell_type": "code",
   "execution_count": 16,
   "id": "b3ffc859",
   "metadata": {},
   "outputs": [
    {
     "name": "stdout",
     "output_type": "stream",
     "text": [
      "[]\n",
      "[]\n"
     ]
    }
   ],
   "source": [
    "boş = []\n",
    "boş2 = list()\n",
    "print(boş)\n",
    "print(boş2)"
   ]
  },
  {
   "cell_type": "code",
   "execution_count": 17,
   "id": "d7613e51",
   "metadata": {},
   "outputs": [
    {
     "data": {
      "text/plain": [
       "[11]"
      ]
     },
     "execution_count": 17,
     "metadata": {},
     "output_type": "execute_result"
    }
   ],
   "source": [
    "liste = []\n",
    "liste.append(11)\n",
    "liste"
   ]
  },
  {
   "cell_type": "code",
   "execution_count": 18,
   "id": "2115d678",
   "metadata": {},
   "outputs": [
    {
     "data": {
      "text/plain": [
       "'al+ del+ vel+'"
      ]
     },
     "execution_count": 18,
     "metadata": {},
     "output_type": "execute_result"
    }
   ],
   "source": [
    "\"ali deli veli\".replace(\"i\", \"+\")"
   ]
  },
  {
   "cell_type": "code",
   "execution_count": 19,
   "id": "9e7b24c4",
   "metadata": {},
   "outputs": [
    {
     "data": {
      "text/plain": [
       "[11, 'a']"
      ]
     },
     "execution_count": 19,
     "metadata": {},
     "output_type": "execute_result"
    }
   ],
   "source": [
    "liste.append(\"a\")\n",
    "liste"
   ]
  },
  {
   "cell_type": "code",
   "execution_count": 20,
   "id": "7df2b9c2",
   "metadata": {},
   "outputs": [],
   "source": [
    "liste.insert(1, \"b\")"
   ]
  },
  {
   "cell_type": "code",
   "execution_count": 21,
   "id": "5867a096",
   "metadata": {},
   "outputs": [
    {
     "data": {
      "text/plain": [
       "[11, 'b', 'a']"
      ]
     },
     "execution_count": 21,
     "metadata": {},
     "output_type": "execute_result"
    }
   ],
   "source": [
    "liste"
   ]
  },
  {
   "cell_type": "code",
   "execution_count": 24,
   "id": "ffc4b8cb",
   "metadata": {},
   "outputs": [
    {
     "data": {
      "text/plain": [
       "[11, 'b']"
      ]
     },
     "execution_count": 24,
     "metadata": {},
     "output_type": "execute_result"
    }
   ],
   "source": [
    "liste.pop()\n",
    "liste"
   ]
  },
  {
   "cell_type": "code",
   "execution_count": 27,
   "id": "8b51dc1e",
   "metadata": {},
   "outputs": [
    {
     "data": {
      "text/plain": [
       "[11, 'b', [0]]"
      ]
     },
     "execution_count": 27,
     "metadata": {},
     "output_type": "execute_result"
    }
   ],
   "source": [
    "liste.append([0])\n",
    "liste"
   ]
  },
  {
   "cell_type": "code",
   "execution_count": 33,
   "id": "022cde40",
   "metadata": {},
   "outputs": [
    {
     "data": {
      "text/plain": [
       "[1, 2, 3, 4, 5]"
      ]
     },
     "execution_count": 33,
     "metadata": {},
     "output_type": "execute_result"
    }
   ],
   "source": [
    "list = [1, 2, 3, 4,]\n",
    "list.insert(4, 5)\n",
    "list"
   ]
  },
  {
   "cell_type": "code",
   "execution_count": 34,
   "id": "9154ae8d",
   "metadata": {},
   "outputs": [
    {
     "data": {
      "text/plain": [
       "[[1, 2, 4], False, 'ali', 11, ['veli', ['deli']]]"
      ]
     },
     "execution_count": 34,
     "metadata": {},
     "output_type": "execute_result"
    }
   ],
   "source": [
    "mesela"
   ]
  },
  {
   "cell_type": "code",
   "execution_count": 35,
   "id": "6a176909",
   "metadata": {},
   "outputs": [
    {
     "data": {
      "text/plain": [
       "[False, 'ali', 11, ['veli', ['deli']]]"
      ]
     },
     "execution_count": 35,
     "metadata": {},
     "output_type": "execute_result"
    }
   ],
   "source": [
    "mesela.remove([1, 2, 4])\n",
    "mesela"
   ]
  },
  {
   "cell_type": "code",
   "execution_count": 38,
   "id": "d1c61923",
   "metadata": {},
   "outputs": [
    {
     "data": {
      "text/plain": [
       "[1, 2, 4, 5, 6, 7]"
      ]
     },
     "execution_count": 38,
     "metadata": {},
     "output_type": "execute_result"
    }
   ],
   "source": [
    "sayi = [1, 5, 6, 2, 4, 7]\n",
    "sayi.sort()\n",
    "sayi"
   ]
  },
  {
   "cell_type": "code",
   "execution_count": 41,
   "id": "429e759c",
   "metadata": {},
   "outputs": [
    {
     "data": {
      "text/plain": [
       "[7, 6, 5, 4, 2, 1]"
      ]
     },
     "execution_count": 41,
     "metadata": {},
     "output_type": "execute_result"
    }
   ],
   "source": [
    "sayi.sort(reverse = True)\n",
    "sayi"
   ]
  },
  {
   "cell_type": "code",
   "execution_count": 42,
   "id": "1e165b54",
   "metadata": {},
   "outputs": [
    {
     "data": {
      "text/plain": [
       "['*-', '@', 'False']"
      ]
     },
     "execution_count": 42,
     "metadata": {},
     "output_type": "execute_result"
    }
   ],
   "source": [
    "list_5 = [\"@\", \"*-\", \"False\"]\n",
    "list_5.sort()\n",
    "list_5   #ASCII ye göre sıralar"
   ]
  },
  {
   "cell_type": "code",
   "execution_count": 44,
   "id": "d11e9d1a",
   "metadata": {},
   "outputs": [
    {
     "data": {
      "text/plain": [
       "42"
      ]
     },
     "execution_count": 44,
     "metadata": {},
     "output_type": "execute_result"
    }
   ],
   "source": [
    "ord(\"*\")"
   ]
  },
  {
   "cell_type": "code",
   "execution_count": 45,
   "id": "c869c9a9",
   "metadata": {},
   "outputs": [
    {
     "data": {
      "text/plain": [
       "[False, True]"
      ]
     },
     "execution_count": 45,
     "metadata": {},
     "output_type": "execute_result"
    }
   ],
   "source": [
    "list_41 = [True, False]\n",
    "list_41.sort()\n",
    "list_41"
   ]
  },
  {
   "cell_type": "code",
   "execution_count": 46,
   "id": "c7977556",
   "metadata": {},
   "outputs": [
    {
     "data": {
      "text/plain": [
       "[[-12], [3], [44]]"
      ]
     },
     "execution_count": 46,
     "metadata": {},
     "output_type": "execute_result"
    }
   ],
   "source": [
    "list_42 = [[3], [44], [-12]]\n",
    "list_42.sort()\n",
    "list_42"
   ]
  },
  {
   "cell_type": "code",
   "execution_count": 47,
   "id": "eab4ae0f",
   "metadata": {},
   "outputs": [
    {
     "data": {
      "text/plain": [
       "[[-12, 1], [1, 3], [44, -40]]"
      ]
     },
     "execution_count": 47,
     "metadata": {},
     "output_type": "execute_result"
    }
   ],
   "source": [
    "liste_00 = [[1, 3], [44, -40], [-12, 1]]\n",
    "liste_00.sort()\n",
    "liste_00"
   ]
  },
  {
   "cell_type": "code",
   "execution_count": 48,
   "id": "545a4f91",
   "metadata": {},
   "outputs": [
    {
     "data": {
      "text/plain": [
       "[[-12, 1], [1, -40], [1, 3]]"
      ]
     },
     "execution_count": 48,
     "metadata": {},
     "output_type": "execute_result"
    }
   ],
   "source": [
    "liste_01 = [[1, 3], [1, -40], [-12, 1]]\n",
    "liste_01.sort()\n",
    "liste_01"
   ]
  },
  {
   "cell_type": "code",
   "execution_count": 49,
   "id": "c14401c6",
   "metadata": {},
   "outputs": [
    {
     "data": {
      "text/plain": [
       "'F'"
      ]
     },
     "execution_count": 49,
     "metadata": {},
     "output_type": "execute_result"
    }
   ],
   "source": [
    "chr(70)"
   ]
  },
  {
   "cell_type": "code",
   "execution_count": null,
   "id": "24432da5",
   "metadata": {},
   "outputs": [],
   "source": []
  }
 ],
 "metadata": {
  "kernelspec": {
   "display_name": "Python 3",
   "language": "python",
   "name": "python3"
  },
  "language_info": {
   "codemirror_mode": {
    "name": "ipython",
    "version": 3
   },
   "file_extension": ".py",
   "mimetype": "text/x-python",
   "name": "python",
   "nbconvert_exporter": "python",
   "pygments_lexer": "ipython3",
   "version": "3.8.8"
  }
 },
 "nbformat": 4,
 "nbformat_minor": 5
}
