{
 "cells": [
  {
   "cell_type": "markdown",
   "id": "583a769a",
   "metadata": {},
   "source": [
    "- Tuple için virgül koyabiliriz sonuna. Stringleri parantezsiz yazarsak da kabul edilir. List ve Tuple iterable'dır birbirine dönüştürülebilir.\n",
    "- tuple yapısına öğe eklenemez; list yapısındaki append() metodu yoktur.\n",
    "- tuple yapısında öğe atılamaz; list yapısındaki remove() ve pop() metotları yoktur.\n",
    "- tuple içinde bir öğe aranamaz ; list yapısındaki index() metodu yoktur.\n",
    "- Döngüler tuple’da list yapısına göre daha hızlıdır.\n",
    "- Değişmeyecek veriler için tuple yapısı list yapısına göre daha uygun seçimdir.\n",
    "- Değişmezliği nedeniyle tuple, dictionary yapısı için anahtar kelimeler olarak kullanılabilir.\n",
    "- Tuple string dönüşümü için kullanabilir.\n",
    "- Tuple yapısından list yapısına ve list yapısından tuple yapısına rahatlıkla dönüşüm yapılabilir\n",
    "- some of the immutable data tyes: int,float,decimal,bool,string,tuple and range\n",
    "- tuple içinde değiştirebilen eleman varsa o değiştirilebilir örn liste\n",
    "- hangi veriyi slice yapıyorsak cevap o veri tipidir.\n",
    "\n"
   ]
  },
  {
   "cell_type": "markdown",
   "id": "25957904",
   "metadata": {},
   "source": [
    "Dictionaries\n",
    "- {key1 : value1, key2 : value2} key+value = item denir. \n",
    "- dict() or {} for creating a dict. dict() kullanılıyorsa key'ler değişken ismi belirler gibi belirlenir.\n",
    "- iterable'dır.\n",
    "- Dictionary'ler, veri değerlerini key: value çiftlerinde depolamak için kullanılır.\n",
    "- (Dictionaries are used to store data values in key:value pairs.)\n",
    "- Dictionary sıralı (ordered), değiştirilebilir ve duplicate'lere (tekrarlara) izin vermeyen bir collectiondır.\n",
    "- A dictionary is a collection which is ordered*, changeable and do not allow duplicates. \n",
    "- listeler key olarak kullanılamaz. Mutable olduğundan dolayı değiştirebileceğinden kullanılamaz.\n",
    "- dict. ler key olarak kullanılamaz.\n",
    "- value olarak tüm veri tipleri kullanılabilir.\n",
    "- Farklı sıralama döndürebilir."
   ]
  },
  {
   "cell_type": "code",
   "execution_count": 1,
   "id": "5af3b6f8",
   "metadata": {},
   "outputs": [
    {
     "name": "stdout",
     "output_type": "stream",
     "text": [
      "<class 'list'> [1, 4, 3, 4, 5, 6, 7, 4]\n"
     ]
    }
   ],
   "source": [
    "my_tuple = (1, 4, 3, 4, 5, 6, 7, 4)\n",
    "my_list = list(my_tuple)\n",
    "print(type(my_list), my_list)"
   ]
  },
  {
   "cell_type": "code",
   "execution_count": 3,
   "id": "d4972b51",
   "metadata": {},
   "outputs": [
    {
     "data": {
      "text/plain": [
       "(1, 2, 3, 4, 5, 6, 7, 8, 9, 10)"
      ]
     },
     "execution_count": 3,
     "metadata": {},
     "output_type": "execute_result"
    }
   ],
   "source": [
    "my_t = tuple(range(1,11))\n",
    "my_t"
   ]
  },
  {
   "cell_type": "code",
   "execution_count": 4,
   "id": "88087433",
   "metadata": {},
   "outputs": [
    {
     "data": {
      "text/plain": [
       "[1, 2, 3, 4, 5, 6, 7, 8, 9, 10]"
      ]
     },
     "execution_count": 4,
     "metadata": {},
     "output_type": "execute_result"
    }
   ],
   "source": [
    "list_my = list(my_t)\n",
    "list_my"
   ]
  },
  {
   "cell_type": "code",
   "execution_count": 5,
   "id": "155eb14d",
   "metadata": {},
   "outputs": [
    {
     "data": {
      "text/plain": [
       "[1, 2, 33, 4, 5, 6, 7, 8, 9, 10]"
      ]
     },
     "execution_count": 5,
     "metadata": {},
     "output_type": "execute_result"
    }
   ],
   "source": [
    "list_my[2] = 33\n",
    "list_my"
   ]
  },
  {
   "cell_type": "code",
   "execution_count": 6,
   "id": "6ced0494",
   "metadata": {},
   "outputs": [
    {
     "data": {
      "text/plain": [
       "(1, 2, 33, 4, 5, 6, 7, 8, 9, 10)"
      ]
     },
     "execution_count": 6,
     "metadata": {},
     "output_type": "execute_result"
    }
   ],
   "source": [
    "my_t = tuple(list_my)\n",
    "my_t"
   ]
  },
  {
   "cell_type": "code",
   "execution_count": 7,
   "id": "96b080a3",
   "metadata": {},
   "outputs": [
    {
     "name": "stdout",
     "output_type": "stream",
     "text": [
      "<class 'list'>\n",
      "<class 'tuple'>\n"
     ]
    }
   ],
   "source": [
    "mix_tuple = (\"11\", 11, [2, \"two\", (\"six\", 6)], (5, \"fair\"))\n",
    "print(type(mix_tuple[2]))\n",
    "print(type(mix_tuple[3]))"
   ]
  },
  {
   "cell_type": "code",
   "execution_count": 8,
   "id": "6a71afbe",
   "metadata": {},
   "outputs": [
    {
     "data": {
      "text/plain": [
       "('11', 11, [2, 'two', ('six', 6), False], (5, 'fair'))"
      ]
     },
     "execution_count": 8,
     "metadata": {},
     "output_type": "execute_result"
    }
   ],
   "source": [
    "mix_tuple[2].append(False)\n",
    "mix_tuple"
   ]
  },
  {
   "cell_type": "code",
   "execution_count": 10,
   "id": "e11690d4",
   "metadata": {},
   "outputs": [
    {
     "name": "stdout",
     "output_type": "stream",
     "text": [
      "SIX\n"
     ]
    },
    {
     "data": {
      "text/plain": [
       "('11', 11, [2, 'two', ('six', 6), False], (5, 'fair'))"
      ]
     },
     "execution_count": 10,
     "metadata": {},
     "output_type": "execute_result"
    }
   ],
   "source": [
    "print(mix_tuple[2][2][0].upper())\n",
    "mix_tuple"
   ]
  },
  {
   "cell_type": "code",
   "execution_count": 12,
   "id": "b0163f7b",
   "metadata": {},
   "outputs": [],
   "source": [
    "mix_tuple[2][1] = \"TWO\""
   ]
  },
  {
   "cell_type": "code",
   "execution_count": 13,
   "id": "420b2454",
   "metadata": {},
   "outputs": [
    {
     "data": {
      "text/plain": [
       "('11', 11, [2, 'TWO', ('six', 6), False], (5, 'fair'))"
      ]
     },
     "execution_count": 13,
     "metadata": {},
     "output_type": "execute_result"
    }
   ],
   "source": [
    "mix_tuple"
   ]
  },
  {
   "cell_type": "code",
   "execution_count": 14,
   "id": "1fcac4f6",
   "metadata": {
    "scrolled": false
   },
   "outputs": [
    {
     "name": "stdout",
     "output_type": "stream",
     "text": [
      "['two', ('six', 6)]\n",
      "<class 'list'>\n"
     ]
    }
   ],
   "source": [
    "mix_tuple = (\"11\", 11, [2, \"two\", (\"six\", 6)], (5, \"fair\"))\n",
    "str_six = mix_tuple[2][1:3]\n",
    "print(str_six, type(str_six), sep=\"\\n\")"
   ]
  },
  {
   "cell_type": "code",
   "execution_count": 16,
   "id": "5216b071",
   "metadata": {},
   "outputs": [
    {
     "name": "stdout",
     "output_type": "stream",
     "text": [
      "fair <class 'str'>\n"
     ]
    }
   ],
   "source": [
    "mix_tuple = (\"11\", 11, [2, \"two\", (\"six\", 6)], (5, \"fair\"))\n",
    "print(mix_tuple[-1][1], type(mix_tuple[-1][1]))"
   ]
  },
  {
   "cell_type": "markdown",
   "id": "e2616b39",
   "metadata": {},
   "source": [
    "# Dictionary"
   ]
  },
  {
   "cell_type": "markdown",
   "id": "ac4c1aa2",
   "metadata": {},
   "source": [
    "Accessing Elements from Dictionary\n",
    "- While indexing is used with other data types to access values, a dictionary uses keys. Keys can be used either inside square brackets [] or with the get() method.\n",
    "- If we use the square brackets [], KeyError is raised in case a key is not found in the dictionary. On the other hand, the get() method returns None if the key is not found.\n",
    "Changing and Adding Dictionary elements\n",
    "- Dictionaries are mutable. We can add new items or change the value of existing items using an assignment operator.\n",
    "- If the key is already present, then the existing value gets updated. In case the key is not present, a new (key: value) pair is added to the dictionary.\n",
    "- Removing elements from Dictionary\n",
    "- We can remove a particular item in a dictionary by using the pop() method. This method removes an item with the provided key and returns the value.\n",
    "- The popitem() method can be used to remove and return an arbitrary (key, value) item pair from the dictionary. All the items can be removed at once, using the clear() method.\n",
    "- We can also use the del keyword to remove individual items or the entire dictionary itself."
   ]
  },
  {
   "cell_type": "code",
   "execution_count": 18,
   "id": "74cea447",
   "metadata": {},
   "outputs": [
    {
     "name": "stdout",
     "output_type": "stream",
     "text": [
      "{'fruit': 'apple', 'drink': 'water'}\n",
      "{'fruit': 'apple', 'drink': 'water'}\n"
     ]
    }
   ],
   "source": [
    "grocer1 = {\"fruit\" : \"apple\", \"drink\" : \"water\"}\n",
    "grocer2 = dict(fruit = \"apple\", drink = \"water\")\n",
    "print(grocer1)\n",
    "print(grocer2)"
   ]
  },
  {
   "cell_type": "code",
   "execution_count": 19,
   "id": "01cf0c77",
   "metadata": {},
   "outputs": [
    {
     "data": {
      "text/plain": [
       "{1: 'one',\n",
       " 'two': 2,\n",
       " False: [1, 2, 3],\n",
       " 1.5: ('one', 'two'),\n",
       " (1, 2): 'clarusway'}"
      ]
     },
     "execution_count": 19,
     "metadata": {},
     "output_type": "execute_result"
    }
   ],
   "source": [
    "first_dict = {1 : \"one\", \"two\" : 2, False : [1, 2, 3], 1.5 : (\"one\", \"two\"), (1, 2) : \"clarusway\"}\n",
    "first_dict"
   ]
  },
  {
   "cell_type": "code",
   "execution_count": 20,
   "id": "180c8bb5",
   "metadata": {},
   "outputs": [
    {
     "ename": "TypeError",
     "evalue": "unhashable type: 'list'",
     "output_type": "error",
     "traceback": [
      "\u001b[1;31m---------------------------------------------------------------------------\u001b[0m",
      "\u001b[1;31mTypeError\u001b[0m                                 Traceback (most recent call last)",
      "\u001b[1;32m<ipython-input-20-cd2fea8b25ee>\u001b[0m in \u001b[0;36m<module>\u001b[1;34m\u001b[0m\n\u001b[1;32m----> 1\u001b[1;33m \u001b[0msecond_dict\u001b[0m \u001b[1;33m=\u001b[0m \u001b[1;33m{\u001b[0m\u001b[1;33m[\u001b[0m\u001b[1;36m1\u001b[0m\u001b[1;33m,\u001b[0m\u001b[1;36m2\u001b[0m\u001b[1;33m]\u001b[0m \u001b[1;33m:\u001b[0m \u001b[1;34m\"one\"\u001b[0m\u001b[1;33m,\u001b[0m \u001b[1;34m\"two\"\u001b[0m \u001b[1;33m:\u001b[0m \u001b[1;36m2\u001b[0m\u001b[1;33m,\u001b[0m \u001b[1;32mFalse\u001b[0m \u001b[1;33m:\u001b[0m \u001b[1;33m[\u001b[0m\u001b[1;36m1\u001b[0m\u001b[1;33m,\u001b[0m \u001b[1;36m2\u001b[0m\u001b[1;33m,\u001b[0m \u001b[1;36m3\u001b[0m\u001b[1;33m]\u001b[0m\u001b[1;33m,\u001b[0m \u001b[1;36m1.5\u001b[0m \u001b[1;33m:\u001b[0m \u001b[1;33m(\u001b[0m\u001b[1;34m\"one\"\u001b[0m\u001b[1;33m,\u001b[0m \u001b[1;34m\"two\"\u001b[0m\u001b[1;33m)\u001b[0m\u001b[1;33m,\u001b[0m \u001b[1;33m(\u001b[0m\u001b[1;36m1\u001b[0m\u001b[1;33m,\u001b[0m \u001b[1;36m2\u001b[0m\u001b[1;33m)\u001b[0m \u001b[1;33m:\u001b[0m \u001b[1;34m\"clarusway\"\u001b[0m\u001b[1;33m}\u001b[0m\u001b[1;33m\u001b[0m\u001b[1;33m\u001b[0m\u001b[0m\n\u001b[0m",
      "\u001b[1;31mTypeError\u001b[0m: unhashable type: 'list'"
     ]
    }
   ],
   "source": [
    "second_dict = {[1,2] : \"one\", \"two\" : 2, False : [1, 2, 3], 1.5 : (\"one\", \"two\"), (1, 2) : \"clarusway\"}"
   ]
  },
  {
   "cell_type": "code",
   "execution_count": 21,
   "id": "085e1f1d",
   "metadata": {},
   "outputs": [
    {
     "ename": "TypeError",
     "evalue": "unhashable type: 'dict'",
     "output_type": "error",
     "traceback": [
      "\u001b[1;31m---------------------------------------------------------------------------\u001b[0m",
      "\u001b[1;31mTypeError\u001b[0m                                 Traceback (most recent call last)",
      "\u001b[1;32m<ipython-input-21-e7cc6e80069b>\u001b[0m in \u001b[0;36m<module>\u001b[1;34m\u001b[0m\n\u001b[1;32m----> 1\u001b[1;33m \u001b[0mthird_dict\u001b[0m \u001b[1;33m=\u001b[0m \u001b[1;33m{\u001b[0m\u001b[1;33m{\u001b[0m\u001b[1;36m1\u001b[0m \u001b[1;33m:\u001b[0m \u001b[1;36m2\u001b[0m\u001b[1;33m}\u001b[0m \u001b[1;33m:\u001b[0m \u001b[1;34m\"one\"\u001b[0m\u001b[1;33m,\u001b[0m \u001b[1;34m\"two\"\u001b[0m \u001b[1;33m:\u001b[0m \u001b[1;36m2\u001b[0m\u001b[1;33m,\u001b[0m \u001b[1;32mFalse\u001b[0m \u001b[1;33m:\u001b[0m \u001b[1;33m[\u001b[0m\u001b[1;36m1\u001b[0m\u001b[1;33m,\u001b[0m \u001b[1;36m2\u001b[0m\u001b[1;33m,\u001b[0m \u001b[1;36m3\u001b[0m\u001b[1;33m]\u001b[0m\u001b[1;33m,\u001b[0m \u001b[1;36m1.5\u001b[0m \u001b[1;33m:\u001b[0m \u001b[1;33m(\u001b[0m\u001b[1;34m\"one\"\u001b[0m\u001b[1;33m,\u001b[0m \u001b[1;34m\"two\"\u001b[0m\u001b[1;33m)\u001b[0m\u001b[1;33m,\u001b[0m \u001b[1;33m(\u001b[0m\u001b[1;36m1\u001b[0m\u001b[1;33m,\u001b[0m \u001b[1;36m2\u001b[0m\u001b[1;33m)\u001b[0m \u001b[1;33m:\u001b[0m \u001b[1;34m\"clarusway\"\u001b[0m\u001b[1;33m}\u001b[0m\u001b[1;33m\u001b[0m\u001b[1;33m\u001b[0m\u001b[0m\n\u001b[0m",
      "\u001b[1;31mTypeError\u001b[0m: unhashable type: 'dict'"
     ]
    }
   ],
   "source": [
    "third_dict = {{1 : 2} : \"one\", \"two\" : 2, False : [1, 2, 3], 1.5 : (\"one\", \"two\"), (1, 2) : \"clarusway\"}"
   ]
  },
  {
   "cell_type": "code",
   "execution_count": 26,
   "id": "e10e45de",
   "metadata": {},
   "outputs": [
    {
     "data": {
      "text/plain": [
       "{'ali': 1, 'deli': 4}"
      ]
     },
     "execution_count": 26,
     "metadata": {},
     "output_type": "execute_result"
    }
   ],
   "source": [
    "a = {\"ali\" : 7 , \"ali\" : 3, \"deli\" : 4, \"ali\" : 1} # 2aynı key varsa bir tanesini alır. En son atananı seçer.\n",
    "a"
   ]
  },
  {
   "cell_type": "code",
   "execution_count": 23,
   "id": "09e73bfe",
   "metadata": {},
   "outputs": [
    {
     "ename": "SyntaxError",
     "evalue": "expression cannot contain assignment, perhaps you meant \"==\"? (<ipython-input-23-a23ea9010611>, line 1)",
     "output_type": "error",
     "traceback": [
      "\u001b[1;36m  File \u001b[1;32m\"<ipython-input-23-a23ea9010611>\"\u001b[1;36m, line \u001b[1;32m1\u001b[0m\n\u001b[1;33m    dict(1 = \"bir\")\u001b[0m\n\u001b[1;37m         ^\u001b[0m\n\u001b[1;31mSyntaxError\u001b[0m\u001b[1;31m:\u001b[0m expression cannot contain assignment, perhaps you meant \"==\"?\n"
     ]
    }
   ],
   "source": [
    "dict(1 = \"bir\")"
   ]
  },
  {
   "cell_type": "code",
   "execution_count": 27,
   "id": "1d9cdd82",
   "metadata": {},
   "outputs": [
    {
     "data": {
      "text/plain": [
       "{1: 'bir'}"
      ]
     },
     "execution_count": 27,
     "metadata": {},
     "output_type": "execute_result"
    }
   ],
   "source": [
    "{1 : \"bir\"}"
   ]
  },
  {
   "cell_type": "code",
   "execution_count": 28,
   "id": "ab44e964",
   "metadata": {},
   "outputs": [
    {
     "data": {
      "text/plain": [
       "{'isim': 'ali veli deli'}"
      ]
     },
     "execution_count": 28,
     "metadata": {},
     "output_type": "execute_result"
    }
   ],
   "source": [
    "dict(isim = \"ali veli deli\")"
   ]
  },
  {
   "cell_type": "code",
   "execution_count": 29,
   "id": "31623432",
   "metadata": {},
   "outputs": [
    {
     "ename": "SyntaxError",
     "evalue": "keyword argument repeated (<ipython-input-29-9a6df282656f>, line 1)",
     "output_type": "error",
     "traceback": [
      "\u001b[1;36m  File \u001b[1;32m\"<ipython-input-29-9a6df282656f>\"\u001b[1;36m, line \u001b[1;32m1\u001b[0m\n\u001b[1;33m    dict(isim = \"ali\", isim = \"deli\")\u001b[0m\n\u001b[1;37m                       ^\u001b[0m\n\u001b[1;31mSyntaxError\u001b[0m\u001b[1;31m:\u001b[0m keyword argument repeated\n"
     ]
    }
   ],
   "source": [
    "dict(isim = \"ali\", isim = \"deli\")  # dict ile atama yapılırken aynı key kullanılamaz."
   ]
  },
  {
   "cell_type": "code",
   "execution_count": 31,
   "id": "282dfa86",
   "metadata": {},
   "outputs": [
    {
     "data": {
      "text/plain": [
       "{'sayılar': [1, 2, 3], 'harfler': {1: 'bir'}}"
      ]
     },
     "execution_count": 31,
     "metadata": {},
     "output_type": "execute_result"
    }
   ],
   "source": [
    "dict(sayılar = [1, 2, 3], harfler = {1 : \"bir\"})  #dict kullanarak atama yapılıyorsa değişken ismi olarak key seçilmelidir."
   ]
  },
  {
   "cell_type": "code",
   "execution_count": 34,
   "id": "1cf9864e",
   "metadata": {},
   "outputs": [
    {
     "name": "stdout",
     "output_type": "stream",
     "text": [
      "Denver\n"
     ]
    }
   ],
   "source": [
    "state_capitals = {\"Arkansas\" : \"Little Rock\",\n",
    "                 \"Colorado\" : \"Denver\",\n",
    "                  \"California\" : \"Sacramento\",\n",
    "                 \"Georgia\" : \"Atlanta\"}\n",
    "print(state_capitals[\"Colorado\"])   # key yazıp value döndürülebilir."
   ]
  },
  {
   "cell_type": "code",
   "execution_count": 35,
   "id": "65511996",
   "metadata": {},
   "outputs": [
    {
     "data": {
      "text/plain": [
       "2"
      ]
     },
     "execution_count": 35,
     "metadata": {},
     "output_type": "execute_result"
    }
   ],
   "source": [
    "first_dict[\"two\"]"
   ]
  },
  {
   "cell_type": "code",
   "execution_count": 36,
   "id": "6644acbb",
   "metadata": {},
   "outputs": [
    {
     "data": {
      "text/plain": [
       "('one', 'two')"
      ]
     },
     "execution_count": 36,
     "metadata": {},
     "output_type": "execute_result"
    }
   ],
   "source": [
    "first_dict[1.5]"
   ]
  },
  {
   "cell_type": "code",
   "execution_count": 37,
   "id": "bb89ba3a",
   "metadata": {},
   "outputs": [
    {
     "data": {
      "text/plain": [
       "tuple"
      ]
     },
     "execution_count": 37,
     "metadata": {},
     "output_type": "execute_result"
    }
   ],
   "source": [
    "type(first_dict[1.5])"
   ]
  },
  {
   "cell_type": "code",
   "execution_count": 38,
   "id": "647fe683",
   "metadata": {},
   "outputs": [
    {
     "name": "stdout",
     "output_type": "stream",
     "text": [
      "{'Arkansas': 'Little Rock', 'Colorado': 'Denver', 'California': 'Sacramento', 'Georgia': 'Atlanta', 'Virginia': 'Richmond'}\n"
     ]
    }
   ],
   "source": [
    "state_capitals[\"Virginia\"] = \"Richmond\" #adding a new item\n",
    "print(state_capitals)"
   ]
  },
  {
   "cell_type": "code",
   "execution_count": 39,
   "id": "7d3bd8f6",
   "metadata": {},
   "outputs": [
    {
     "name": "stdout",
     "output_type": "stream",
     "text": [
      "{'Arkansas': 'Big Rock', 'Colorado': 'Denver', 'California': 'Sacramento', 'Georgia': 'Atlanta', 'Virginia': 'Richmond'}\n"
     ]
    }
   ],
   "source": [
    "state_capitals[\"Arkansas\"] = \"Big Rock\" #changing a value\n",
    "print(state_capitals)"
   ]
  },
  {
   "cell_type": "code",
   "execution_count": 43,
   "id": "bc36e152",
   "metadata": {},
   "outputs": [
    {
     "data": {
      "text/plain": [
       "{'name_1': 'Carlos', 'name_2': 'Joseph', 'name_3': 'Tony'}"
      ]
     },
     "execution_count": 43,
     "metadata": {},
     "output_type": "execute_result"
    }
   ],
   "source": [
    "family = {\"name_1\" : \"Carlos\", \"name_2\" : \"Joseph\", \"name_3\" : \"Tony\" }\n",
    "family"
   ]
  },
  {
   "cell_type": "code",
   "execution_count": 44,
   "id": "df7e75cc",
   "metadata": {},
   "outputs": [
    {
     "data": {
      "text/plain": [
       "{'name_1': 'Carlos', 'name_2': 'Joseph', 'name_3': 'Tony', 'name_4': 'Mike'}"
      ]
     },
     "execution_count": 44,
     "metadata": {},
     "output_type": "execute_result"
    }
   ],
   "source": [
    "family[\"name_4\"] = \"Mike\"\n",
    "family"
   ]
  },
  {
   "cell_type": "code",
   "execution_count": 46,
   "id": "4aa3f74d",
   "metadata": {},
   "outputs": [
    {
     "data": {
      "text/plain": [
       "{'ali': 1, 'deli': 1, 'veli': 1}"
      ]
     },
     "execution_count": 46,
     "metadata": {},
     "output_type": "execute_result"
    }
   ],
   "source": [
    "bi_örnek = {\"ali\" : 1, \"deli\" : 1, \"veli\" : 1}\n",
    "bi_örnek"
   ]
  },
  {
   "cell_type": "code",
   "execution_count": 47,
   "id": "d75af4af",
   "metadata": {},
   "outputs": [
    {
     "data": {
      "text/plain": [
       "{'ali': 2, 'deli': 1, 'veli': 1}"
      ]
     },
     "execution_count": 47,
     "metadata": {},
     "output_type": "execute_result"
    }
   ],
   "source": [
    "bi_örnek[\"ali\"] += 1  # bi_örnek[\"ali\"] = bi_örnek[\"ali\"] + 1\n",
    "bi_örnek"
   ]
  },
  {
   "cell_type": "code",
   "execution_count": 48,
   "id": "e6932efd",
   "metadata": {},
   "outputs": [
    {
     "data": {
      "text/plain": [
       "{'ali': 2, 'deli': 2, 'veli': 1}"
      ]
     },
     "execution_count": 48,
     "metadata": {},
     "output_type": "execute_result"
    }
   ],
   "source": [
    "bi_örnek[\"deli\"] += 1  # bi_örnek[\"ali\"] = bi_örnek[\"ali\"] + 1\n",
    "bi_örnek"
   ]
  },
  {
   "cell_type": "code",
   "execution_count": 52,
   "id": "a02318d6",
   "metadata": {},
   "outputs": [
    {
     "name": "stdout",
     "output_type": "stream",
     "text": [
      "['Los Angeles', 'S', 'e', 'o', 'u', 'l']\n"
     ]
    }
   ],
   "source": [
    "city = [\"Los Angeles\", \"Beirut\", \"Tokyo\"]\n",
    "city[1:] = \"Seoul\"\n",
    "print(city)\n"
   ]
  },
  {
   "cell_type": "code",
   "execution_count": 53,
   "id": "97e7321d",
   "metadata": {},
   "outputs": [
    {
     "name": "stdout",
     "output_type": "stream",
     "text": [
      "['Los Angeles', 'Seoul', 'aaaaa']\n"
     ]
    }
   ],
   "source": [
    "city = [\"Los Angeles\", \"Beirut\", \"Tokyo\"]\n",
    "city[1:] = \"Seoul\", \"aaaaa\"\n",
    "print(city)"
   ]
  },
  {
   "cell_type": "code",
   "execution_count": 58,
   "id": "f1e536e4",
   "metadata": {},
   "outputs": [
    {
     "name": "stdout",
     "output_type": "stream",
     "text": [
      "['Los Angeles', 'Seoul', 'qweqasd', '124123', 'xczxc', 'qwerhd', 'y435q']\n"
     ]
    }
   ],
   "source": [
    "city = [\"Los Angeles\", \"Beirut\", \"Tokyo\"]\n",
    "city[1:3] = \"Seoul\", \"qweqasd\", \"124123\", \"xczxc\", \"qwerhd\", \"y435q\"\n",
    "print(city)"
   ]
  },
  {
   "cell_type": "code",
   "execution_count": 59,
   "id": "b39c470d",
   "metadata": {},
   "outputs": [
    {
     "name": "stdout",
     "output_type": "stream",
     "text": [
      "{'animal': 'dog', 'planet': 'neptun', 'number': 40, 'pi': 3.14, 'is_good': True}\n"
     ]
    }
   ],
   "source": [
    "dict_by_dict = dict(animal='dog', planet='neptun', number=40, pi=3.14, is_good=True)\n",
    "print(dict_by_dict)"
   ]
  },
  {
   "cell_type": "code",
   "execution_count": null,
   "id": "40db33bc",
   "metadata": {},
   "outputs": [],
   "source": [
    "dict_by_dict[animal]"
   ]
  },
  {
   "cell_type": "code",
   "execution_count": 61,
   "id": "31733c1a",
   "metadata": {},
   "outputs": [
    {
     "data": {
      "text/plain": [
       "'dog'"
      ]
     },
     "execution_count": 61,
     "metadata": {},
     "output_type": "execute_result"
    }
   ],
   "source": [
    "dict_by_dict[\"animal\"]"
   ]
  },
  {
   "cell_type": "code",
   "execution_count": 63,
   "id": "dcb688a5",
   "metadata": {},
   "outputs": [
    {
     "data": {
      "text/plain": [
       "bool"
      ]
     },
     "execution_count": 63,
     "metadata": {},
     "output_type": "execute_result"
    }
   ],
   "source": [
    "type(dict_by_dict[\"is_good\"])"
   ]
  },
  {
   "cell_type": "code",
   "execution_count": 65,
   "id": "52540d3c",
   "metadata": {},
   "outputs": [
    {
     "data": {
      "text/plain": [
       "True"
      ]
     },
     "execution_count": 65,
     "metadata": {},
     "output_type": "execute_result"
    }
   ],
   "source": [
    "dict_by_dict[\"is_good\"]"
   ]
  },
  {
   "cell_type": "code",
   "execution_count": 64,
   "id": "b27d5936",
   "metadata": {},
   "outputs": [
    {
     "data": {
      "text/plain": [
       "{'name_1': 'Ali', 'name_2': 'Veli', 'name_3': 'Deli'}"
      ]
     },
     "execution_count": 64,
     "metadata": {},
     "output_type": "execute_result"
    }
   ],
   "source": [
    "family = dict(name_1 = \"Ali\", name_2 = \"Veli\", name_3 = \"Deli\")\n",
    "family"
   ]
  },
  {
   "cell_type": "code",
   "execution_count": 66,
   "id": "98eb4628",
   "metadata": {},
   "outputs": [
    {
     "data": {
      "text/plain": [
       "{'animal': 'dog',\n",
       " 'planet': 'neptun',\n",
       " 'number': 40,\n",
       " 'pi': 3.14,\n",
       " 'is_good': True}"
      ]
     },
     "execution_count": 66,
     "metadata": {},
     "output_type": "execute_result"
    }
   ],
   "source": [
    "dict_by_dict"
   ]
  },
  {
   "cell_type": "code",
   "execution_count": 67,
   "id": "cb2462a8",
   "metadata": {},
   "outputs": [
    {
     "data": {
      "text/plain": [
       "{'animal': 'dog',\n",
       " 'planet': 'neptun',\n",
       " 'number': 40,\n",
       " 'pi': 3.14,\n",
       " 'is_good': True,\n",
       " 'yasemin': 'kadın'}"
      ]
     },
     "execution_count": 67,
     "metadata": {},
     "output_type": "execute_result"
    }
   ],
   "source": [
    "dict_by_dict.update({\"yasemin\" : \"kadın\"})   #item ekleme\n",
    "dict_by_dict"
   ]
  },
  {
   "cell_type": "code",
   "execution_count": 68,
   "id": "2bf15701",
   "metadata": {},
   "outputs": [
    {
     "data": {
      "text/plain": [
       "dict_items([('animal', 'dog'), ('planet', 'neptun'), ('number', 40), ('pi', 3.14), ('is_good', True), ('yasemin', 'kadın')])"
      ]
     },
     "execution_count": 68,
     "metadata": {},
     "output_type": "execute_result"
    }
   ],
   "source": [
    "dict_by_dict.items()  #bütün itemleri yazdırır"
   ]
  },
  {
   "cell_type": "code",
   "execution_count": 69,
   "id": "581bd465",
   "metadata": {},
   "outputs": [
    {
     "data": {
      "text/plain": [
       "dict_keys(['animal', 'planet', 'number', 'pi', 'is_good', 'yasemin'])"
      ]
     },
     "execution_count": 69,
     "metadata": {},
     "output_type": "execute_result"
    }
   ],
   "source": [
    "dict_by_dict.keys() #keys'leri yazdırır"
   ]
  },
  {
   "cell_type": "code",
   "execution_count": 70,
   "id": "a6dda63b",
   "metadata": {},
   "outputs": [
    {
     "data": {
      "text/plain": [
       "dict_values(['dog', 'neptun', 40, 3.14, True, 'kadın'])"
      ]
     },
     "execution_count": 70,
     "metadata": {},
     "output_type": "execute_result"
    }
   ],
   "source": [
    "dict_by_dict.values() # values ları yazdırır."
   ]
  },
  {
   "cell_type": "code",
   "execution_count": 74,
   "id": "94d03e48",
   "metadata": {},
   "outputs": [
    {
     "data": {
      "text/plain": [
       "{'animal': 'dog',\n",
       " 'planet': 'neptun',\n",
       " 'number': 40,\n",
       " 'pi': 3.14,\n",
       " 'is_good': True,\n",
       " 'yasemin': 'kadın',\n",
       " 'ahmet': 'ay',\n",
       " 11: 'integer'}"
      ]
     },
     "execution_count": 74,
     "metadata": {},
     "output_type": "execute_result"
    }
   ],
   "source": [
    "dict_by_dict.update({\"ahmet\" : \"ay\", 11 : \"integer\"}) #update metodu ile birden fazla değişken aynı anda eklenebilir.\n",
    "dict_by_dict"
   ]
  },
  {
   "cell_type": "code",
   "execution_count": 75,
   "id": "f08815a1",
   "metadata": {},
   "outputs": [
    {
     "data": {
      "text/plain": [
       "[('animal', 'dog'),\n",
       " ('planet', 'neptun'),\n",
       " ('number', 40),\n",
       " ('pi', 3.14),\n",
       " ('is_good', True),\n",
       " ('yasemin', 'kadın'),\n",
       " ('ahmet', 'ay'),\n",
       " (11, 'integer')]"
      ]
     },
     "execution_count": 75,
     "metadata": {},
     "output_type": "execute_result"
    }
   ],
   "source": [
    "list_1 = list(dict_by_dict.items())\n",
    "list_1"
   ]
  },
  {
   "cell_type": "code",
   "execution_count": 76,
   "id": "7d1212f5",
   "metadata": {},
   "outputs": [
    {
     "data": {
      "text/plain": [
       "('animal', 'dog')"
      ]
     },
     "execution_count": 76,
     "metadata": {},
     "output_type": "execute_result"
    }
   ],
   "source": [
    "list_1[0]"
   ]
  },
  {
   "cell_type": "code",
   "execution_count": 77,
   "id": "f28e19ac",
   "metadata": {},
   "outputs": [
    {
     "data": {
      "text/plain": [
       "tuple"
      ]
     },
     "execution_count": 77,
     "metadata": {},
     "output_type": "execute_result"
    }
   ],
   "source": [
    "type(list_1[0])"
   ]
  },
  {
   "cell_type": "code",
   "execution_count": 80,
   "id": "033e0fee",
   "metadata": {},
   "outputs": [
    {
     "name": "stdout",
     "output_type": "stream",
     "text": [
      "('animal', 'planet', 'number', 'pi', 'is_good', 'yasemin', 'ahmet', 11)\t<class 'tuple'>\n",
      "animal\t<class 'str'>\n"
     ]
    }
   ],
   "source": [
    "list_2 = tuple(dict_by_dict.keys())\n",
    "print(list_2, type(list_2), sep = \"\\t\")\n",
    "print(list_2[0], type(list_2[0]), sep = \"\\t\")"
   ]
  },
  {
   "cell_type": "code",
   "execution_count": null,
   "id": "838a2408",
   "metadata": {},
   "outputs": [],
   "source": []
  }
 ],
 "metadata": {
  "kernelspec": {
   "display_name": "Python 3.10.7 64-bit (microsoft store)",
   "language": "python",
   "name": "python3"
  },
  "language_info": {
   "codemirror_mode": {
    "name": "ipython",
    "version": 3
   },
   "file_extension": ".py",
   "mimetype": "text/x-python",
   "name": "python",
   "nbconvert_exporter": "python",
   "pygments_lexer": "ipython3",
   "version": "3.10.7"
  },
  "vscode": {
   "interpreter": {
    "hash": "7b60276908c3349bf0a2cf69de4d7bf4bae3bf371057c4ac156f4be27a89a82c"
   }
  }
 },
 "nbformat": 4,
 "nbformat_minor": 5
}
