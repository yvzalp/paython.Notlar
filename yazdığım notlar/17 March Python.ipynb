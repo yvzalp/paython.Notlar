{
 "cells": [
  {
   "cell_type": "markdown",
   "id": "c667a58b",
   "metadata": {},
   "source": [
    "# Lambda Functions\n",
    "- Formula => lambda parameters : expression (expression içerisinde ternery if kullanılabilir.)\n",
    "- tek kullanımlık fonksiyon. Eğer bir değişkene atarsak değişkenden çağırabiliriz.\n",
    "- lambda x: \"odd\" if x%2 != 0 else \"even\"   => if li kullanımı bu şekilde. Expresion'a ne yazarsak o ne döndürürse def teki     gibi return eder. if True ise solundaki \"odd\" çalışır false olursa sağındaki çalışır."
   ]
  },
  {
   "cell_type": "code",
   "execution_count": 1,
   "id": "0ed65e18",
   "metadata": {},
   "outputs": [],
   "source": [
    "def squre(x) :      # kısaca lambda x: x ** 2 olarak tanımlanabilir.\n",
    "    return x ** 2"
   ]
  },
  {
   "cell_type": "code",
   "execution_count": null,
   "id": "68d5d078",
   "metadata": {},
   "outputs": [],
   "source": [
    "lambda x, y: (x+y)/2    "
   ]
  },
  {
   "cell_type": "code",
   "execution_count": 2,
   "id": "96824271",
   "metadata": {},
   "outputs": [],
   "source": [
    "condition = True"
   ]
  },
  {
   "cell_type": "code",
   "execution_count": 3,
   "id": "1c17356a",
   "metadata": {},
   "outputs": [
    {
     "data": {
      "text/plain": [
       "'odd'"
      ]
     },
     "execution_count": 3,
     "metadata": {},
     "output_type": "execute_result"
    }
   ],
   "source": [
    "\"odd\" if condition else \"even\""
   ]
  },
  {
   "cell_type": "code",
   "execution_count": 4,
   "id": "e139344c",
   "metadata": {},
   "outputs": [
    {
     "data": {
      "text/plain": [
       "'even'"
      ]
     },
     "execution_count": 4,
     "metadata": {},
     "output_type": "execute_result"
    }
   ],
   "source": [
    "condition = False\n",
    "\"odd\" if condition else \"even\""
   ]
  },
  {
   "cell_type": "code",
   "execution_count": 5,
   "id": "744f3a73",
   "metadata": {},
   "outputs": [
    {
     "data": {
      "text/plain": [
       "<function __main__.<lambda>(x)>"
      ]
     },
     "execution_count": 5,
     "metadata": {},
     "output_type": "execute_result"
    }
   ],
   "source": [
    "lambda x: 'odd' if x % 2 != 0 else 'even'   # lambda adresi çıktı verir. "
   ]
  },
  {
   "cell_type": "markdown",
   "id": "5e74c906",
   "metadata": {},
   "source": [
    "# Usage alternatives of Lambda functions :\n",
    "- its own syntax using parentheses,   (lambda parameters: expression)(arguments)\n",
    "- assigning it to a variable,\n",
    "- inside seveal build-in functions,\n",
    "- inside user-defined functions(def)"
   ]
  },
  {
   "cell_type": "code",
   "execution_count": 6,
   "id": "f6969bbe",
   "metadata": {},
   "outputs": [
    {
     "data": {
      "text/plain": [
       "'even'"
      ]
     },
     "execution_count": 6,
     "metadata": {},
     "output_type": "execute_result"
    }
   ],
   "source": [
    "(lambda x: 'odd' if x % 2 != 0 else 'even')(4)   # dönüşü string oldu tanımlama o şekilde olduğu için"
   ]
  },
  {
   "cell_type": "code",
   "execution_count": 7,
   "id": "44a524ae",
   "metadata": {},
   "outputs": [
    {
     "data": {
      "text/plain": [
       "'odd'"
      ]
     },
     "execution_count": 7,
     "metadata": {},
     "output_type": "execute_result"
    }
   ],
   "source": [
    "(lambda x: 'odd' if x % 2 != 0 else 'even')(3)"
   ]
  },
  {
   "cell_type": "code",
   "execution_count": 8,
   "id": "e3a3e440",
   "metadata": {},
   "outputs": [
    {
     "name": "stdout",
     "output_type": "stream",
     "text": [
      "4.0\n"
     ]
    }
   ],
   "source": [
    "print((lambda x, y: (x+y)/2)(3,5))   # iki arguman gönderme"
   ]
  },
  {
   "cell_type": "code",
   "execution_count": 9,
   "id": "f9baeb4d",
   "metadata": {},
   "outputs": [
    {
     "data": {
      "text/plain": [
       "[3, 2, 1]"
      ]
     },
     "execution_count": 9,
     "metadata": {},
     "output_type": "execute_result"
    }
   ],
   "source": [
    "(lambda x: x[::-1])([1,2,3])  # benim çözüm"
   ]
  },
  {
   "cell_type": "code",
   "execution_count": 10,
   "id": "c5b9a10a",
   "metadata": {},
   "outputs": [
    {
     "data": {
      "text/plain": [
       "'ila'"
      ]
     },
     "execution_count": 10,
     "metadata": {},
     "output_type": "execute_result"
    }
   ],
   "source": [
    "(lambda x : x[::-1])(\"ali\")"
   ]
  },
  {
   "cell_type": "code",
   "execution_count": 11,
   "id": "bf2e29ee",
   "metadata": {},
   "outputs": [
    {
     "data": {
      "text/plain": [
       "[5, 3, 1]"
      ]
     },
     "execution_count": 11,
     "metadata": {},
     "output_type": "execute_result"
    }
   ],
   "source": [
    "(lambda x : x[::-1])([1,3,5])"
   ]
  },
  {
   "cell_type": "code",
   "execution_count": 15,
   "id": "69d8ada8",
   "metadata": {},
   "outputs": [
    {
     "name": "stdout",
     "output_type": "stream",
     "text": [
      "odd\n",
      "even\n",
      "odd\n",
      "even\n"
     ]
    }
   ],
   "source": [
    "for i in [1,2,3,4] :\n",
    "    print((lambda x : \"odd\" if x % 2 != 0 else \"even\")(i))  # benim çözüm"
   ]
  },
  {
   "cell_type": "code",
   "execution_count": 16,
   "id": "b62bfd29",
   "metadata": {},
   "outputs": [],
   "source": [
    "sayılar = [1, 2, 3, 4, 5, 6]"
   ]
  },
  {
   "cell_type": "code",
   "execution_count": null,
   "id": "02118aac",
   "metadata": {},
   "outputs": [],
   "source": [
    "i, \":\", (lambda x: 'odd' if x % 2 != 0 else 'even')(i)"
   ]
  },
  {
   "cell_type": "code",
   "execution_count": 17,
   "id": "10678d98",
   "metadata": {},
   "outputs": [
    {
     "name": "stdout",
     "output_type": "stream",
     "text": [
      "1 : odd\n",
      "2 : even\n",
      "3 : odd\n",
      "4 : even\n",
      "5 : odd\n",
      "6 : even\n"
     ]
    }
   ],
   "source": [
    "for i in sayılar :\n",
    "    print(i, \":\", (lambda x: 'odd' if x % 2 != 0 else 'even')(i))"
   ]
  },
  {
   "cell_type": "code",
   "execution_count": 18,
   "id": "f8d3afb1",
   "metadata": {},
   "outputs": [
    {
     "name": "stdout",
     "output_type": "stream",
     "text": [
      "4.0\n"
     ]
    }
   ],
   "source": [
    "# ********** ikinci kullanım ************\n",
    "average = lambda x,y: (x+y)/2\n",
    "print(average(3, 5))   # we call"
   ]
  },
  {
   "cell_type": "code",
   "execution_count": 19,
   "id": "432aff2b",
   "metadata": {},
   "outputs": [
    {
     "name": "stdout",
     "output_type": "stream",
     "text": [
      "ila\n"
     ]
    }
   ],
   "source": [
    "reverser = lambda x: x[::-1]  # benim çözüm\n",
    "print(reverser(\"ali\"))"
   ]
  },
  {
   "cell_type": "code",
   "execution_count": 20,
   "id": "a2793e0a",
   "metadata": {},
   "outputs": [],
   "source": [
    "iterable = \"clarusway\"\n",
    "\n",
    "reverser1 = lambda x: x[::-1]"
   ]
  },
  {
   "cell_type": "code",
   "execution_count": 21,
   "id": "b25d5209",
   "metadata": {},
   "outputs": [
    {
     "data": {
      "text/plain": [
       "<function __main__.<lambda>(x)>"
      ]
     },
     "execution_count": 21,
     "metadata": {},
     "output_type": "execute_result"
    }
   ],
   "source": [
    "reverser1"
   ]
  },
  {
   "cell_type": "code",
   "execution_count": 22,
   "id": "3bbcc7ec",
   "metadata": {},
   "outputs": [
    {
     "name": "stdout",
     "output_type": "stream",
     "text": [
      "yawsuralc\n"
     ]
    }
   ],
   "source": [
    "print(reverser1(iterable))"
   ]
  },
  {
   "cell_type": "markdown",
   "id": "8f000612",
   "metadata": {},
   "source": [
    "*********** Üçüncü Kullanım Şekli ************\n",
    "- Formula => map(function, iterable) => iterable in her elemanına sıra sıra fonksiyonu uyguluyor. Sonuç olarak iterable bir\n",
    "                                         object oluşturuyor.\n",
    "- Formula => filter(function, sequence) => fonksiyon Boolen döndürmelidir. True ise iterable'in elemanlarından birini                                                  döndürür. Yeni birşey oluşturmaz sadece şarta uyanları seçer.!!!"
   ]
  },
  {
   "cell_type": "code",
   "execution_count": 23,
   "id": "b0727a18",
   "metadata": {},
   "outputs": [],
   "source": [
    "finder = lambda x: 'odd' if x % 2 != 0 else 'even'"
   ]
  },
  {
   "cell_type": "code",
   "execution_count": 24,
   "id": "4246a3c7",
   "metadata": {},
   "outputs": [
    {
     "data": {
      "text/plain": [
       "<function __main__.<lambda>(x)>"
      ]
     },
     "execution_count": 24,
     "metadata": {},
     "output_type": "execute_result"
    }
   ],
   "source": [
    "finder"
   ]
  },
  {
   "cell_type": "code",
   "execution_count": 25,
   "id": "52290990",
   "metadata": {},
   "outputs": [
    {
     "data": {
      "text/plain": [
       "'even'"
      ]
     },
     "execution_count": 25,
     "metadata": {},
     "output_type": "execute_result"
    }
   ],
   "source": [
    "finder(2)"
   ]
  },
  {
   "cell_type": "code",
   "execution_count": 26,
   "id": "8960109e",
   "metadata": {},
   "outputs": [],
   "source": [
    "kelimeler = [\"alideliveli\", \"ahmet\", \"sel\"]"
   ]
  },
  {
   "cell_type": "code",
   "execution_count": 29,
   "id": "93bcd66b",
   "metadata": {},
   "outputs": [],
   "source": [
    "uzunluk = map(len, kelimeler)   # iterable bir object oluşturuyor."
   ]
  },
  {
   "cell_type": "code",
   "execution_count": 30,
   "id": "184a9f69",
   "metadata": {},
   "outputs": [
    {
     "data": {
      "text/plain": [
       "<map at 0x2c05b0ddeb0>"
      ]
     },
     "execution_count": 30,
     "metadata": {},
     "output_type": "execute_result"
    }
   ],
   "source": [
    "uzunluk   "
   ]
  },
  {
   "cell_type": "code",
   "execution_count": 31,
   "id": "bf60a6ba",
   "metadata": {},
   "outputs": [
    {
     "name": "stdout",
     "output_type": "stream",
     "text": [
      "11 5 3\n"
     ]
    }
   ],
   "source": [
    "print(* uzunluk)"
   ]
  },
  {
   "cell_type": "code",
   "execution_count": 32,
   "id": "65725ef9",
   "metadata": {},
   "outputs": [
    {
     "name": "stdout",
     "output_type": "stream",
     "text": [
      "<class 'map'>\n",
      "[1, 4, 9, 16, 25]\n",
      "[1, 4, 9, 16, 25]\n"
     ]
    }
   ],
   "source": [
    "iterable = [1,2,3,4,5]\n",
    "result = map(lambda x: x**2, iterable)\n",
    "print(type(result))\n",
    "\n",
    "print(list(result))\n",
    "\n",
    "print(list(map(lambda x : x** 2, iterable)))"
   ]
  },
  {
   "cell_type": "code",
   "execution_count": 33,
   "id": "4a215d9d",
   "metadata": {},
   "outputs": [],
   "source": [
    "fonksiyonum = lambda x : x ** 2"
   ]
  },
  {
   "cell_type": "code",
   "execution_count": 34,
   "id": "b6bfbca4",
   "metadata": {},
   "outputs": [],
   "source": [
    "iterable = [1, 2, 3, 4]"
   ]
  },
  {
   "cell_type": "code",
   "execution_count": 35,
   "id": "c63a24f2",
   "metadata": {},
   "outputs": [],
   "source": [
    "sonuç = map(fonksiyonum, iterable)   # sonuç ve sonuç_2 tek kullanımlık oluyor."
   ]
  },
  {
   "cell_type": "code",
   "execution_count": 44,
   "id": "663829c9",
   "metadata": {},
   "outputs": [],
   "source": [
    "sonuç_2 = map(lambda x : x ** 2, [1, 2, 3, 4])"
   ]
  },
  {
   "cell_type": "code",
   "execution_count": 37,
   "id": "cc071807",
   "metadata": {},
   "outputs": [
    {
     "name": "stdout",
     "output_type": "stream",
     "text": [
      "1 4 9 16\n"
     ]
    }
   ],
   "source": [
    "print(* sonuç)"
   ]
  },
  {
   "cell_type": "code",
   "execution_count": 45,
   "id": "6ad1769f",
   "metadata": {},
   "outputs": [
    {
     "name": "stdout",
     "output_type": "stream",
     "text": [
      "1 4 9 16 "
     ]
    }
   ],
   "source": [
    "for i in sonuç_2 :\n",
    "    print(i, end=\" \")"
   ]
  },
  {
   "cell_type": "code",
   "execution_count": 48,
   "id": "28a792f5",
   "metadata": {},
   "outputs": [
    {
     "data": {
      "text/plain": [
       "[1, 4, 9, 16, 25]"
      ]
     },
     "execution_count": 48,
     "metadata": {},
     "output_type": "execute_result"
    }
   ],
   "source": [
    "def yeni(liste) :                                       # benim çözüm\n",
    "    return list(map(lambda x : x ** 2, liste))\n",
    "yeni([1, 2, 3, 4, 5])"
   ]
  },
  {
   "cell_type": "markdown",
   "id": "9ae126e4",
   "metadata": {},
   "source": [
    "import os, psutil \n",
    "                                                 kodumuzun ne kadar hafıza kullandığını öğrenebiliriz.\n",
    "process = psutil.Process(os.getpid())\n",
    "\n",
    "print(process.memory_info().rss)  # in bytes \n",
    "\n",
    "ya da şu siteye bak https://stackoverflow.com/questions/552744/how-do-i-profile-memory-usage-in-python"
   ]
  },
  {
   "cell_type": "code",
   "execution_count": 49,
   "id": "f3d4f2e0",
   "metadata": {},
   "outputs": [],
   "source": [
    "def kare(b) :\n",
    "    return b ** 2"
   ]
  },
  {
   "cell_type": "code",
   "execution_count": 50,
   "id": "a07d1a9d",
   "metadata": {},
   "outputs": [],
   "source": [
    "sonuç_3 = map(kare, iterable)"
   ]
  },
  {
   "cell_type": "code",
   "execution_count": 51,
   "id": "3251e77c",
   "metadata": {},
   "outputs": [
    {
     "data": {
      "text/plain": [
       "<map at 0x2c05b18f2e0>"
      ]
     },
     "execution_count": 51,
     "metadata": {},
     "output_type": "execute_result"
    }
   ],
   "source": [
    "sonuç_3"
   ]
  },
  {
   "cell_type": "code",
   "execution_count": 52,
   "id": "979e9b51",
   "metadata": {},
   "outputs": [
    {
     "name": "stdout",
     "output_type": "stream",
     "text": [
      "1 4 9 16\n"
     ]
    }
   ],
   "source": [
    "print(* sonuç_3)"
   ]
  },
  {
   "cell_type": "code",
   "execution_count": 53,
   "id": "dcb4b1aa",
   "metadata": {},
   "outputs": [
    {
     "name": "stdout",
     "output_type": "stream",
     "text": [
      "['one', 'six', 'ten', 'two']\n"
     ]
    }
   ],
   "source": [
    "letter1 = ['o', 's', 't', 't']\n",
    "letter2 = ['n', 'i', 'e', 'w']\n",
    "letter3 = ['e', 'x', 'n', 'o']\n",
    "numbers = map(lambda x, y, z: x+y+z, letter1, letter2, letter3)\n",
    "print(list(numbers))"
   ]
  },
  {
   "cell_type": "code",
   "execution_count": 54,
   "id": "d44c57e4",
   "metadata": {},
   "outputs": [],
   "source": [
    "topla = lambda x, y, z : x + y + z"
   ]
  },
  {
   "cell_type": "code",
   "execution_count": 55,
   "id": "871e97fa",
   "metadata": {},
   "outputs": [
    {
     "data": {
      "text/plain": [
       "'ali'"
      ]
     },
     "execution_count": 55,
     "metadata": {},
     "output_type": "execute_result"
    }
   ],
   "source": [
    "topla(\"a\", \"l\", \"i\")"
   ]
  },
  {
   "cell_type": "code",
   "execution_count": 58,
   "id": "31252c6f",
   "metadata": {},
   "outputs": [
    {
     "data": {
      "text/plain": [
       "[6.0, 6.0, 6.0, 6.0]"
      ]
     },
     "execution_count": 58,
     "metadata": {},
     "output_type": "execute_result"
    }
   ],
   "source": [
    "nums1 = [9, 6, 7, 4]                              # benim çözüm\n",
    "nums2 = [3, 6, 5, 8]\n",
    "ort = list(map(lambda x, y: (x+y)/2, nums1, nums2))\n",
    "ort"
   ]
  },
  {
   "cell_type": "code",
   "execution_count": 59,
   "id": "d4b01b04",
   "metadata": {},
   "outputs": [],
   "source": [
    "func = lambda x, y : (x + y) / 2"
   ]
  },
  {
   "cell_type": "code",
   "execution_count": 60,
   "id": "34b54f78",
   "metadata": {},
   "outputs": [],
   "source": [
    "num1 = [9, 6, 7, 4]\n",
    "num2 = [3, 6, 5, 8]"
   ]
  },
  {
   "cell_type": "code",
   "execution_count": 61,
   "id": "5a41d7a2",
   "metadata": {},
   "outputs": [],
   "source": [
    "numbers = map(func, num1, num2)"
   ]
  },
  {
   "cell_type": "code",
   "execution_count": 62,
   "id": "df197fa1",
   "metadata": {},
   "outputs": [
    {
     "name": "stdout",
     "output_type": "stream",
     "text": [
      "[6.0, 6.0, 6.0, 6.0]\n"
     ]
    }
   ],
   "source": [
    "print(list(numbers))"
   ]
  },
  {
   "cell_type": "code",
   "execution_count": 65,
   "id": "17174355",
   "metadata": {},
   "outputs": [
    {
     "name": "stdout",
     "output_type": "stream",
     "text": [
      "['i love you', 'you ate much', 'he works hard']\n"
     ]
    }
   ],
   "source": [
    "words1 = [\"you\", \"much\", \"hard\"]           # benim çözüm...\n",
    "words2 = [\"i\", \"you\", \"he\"]\n",
    "words3 = [\"love\", \"ate\", \"works\"]\n",
    "\n",
    "print(list(map(lambda x, y, z: x + \" \" + y + \" \" + z, words2, words3, words1)))"
   ]
  },
  {
   "cell_type": "code",
   "execution_count": 70,
   "id": "d579847a",
   "metadata": {},
   "outputs": [],
   "source": [
    "words1 = [\"you\", \"much\", \"hard\"]\n",
    "words2 = [\"i\", \"you\", \"he\"]\n",
    "words3 = [\"love\", \"ate\", \"works\"]\n",
    "\n",
    "concat = lambda x, y, z : x + \" \" + y + \" \" + z "
   ]
  },
  {
   "cell_type": "code",
   "execution_count": 71,
   "id": "eed411a5",
   "metadata": {},
   "outputs": [],
   "source": [
    "sentences = map(concat, words2, words3, words1)   # uzunlukları farklı olsa en kısa olanı bitirince biter."
   ]
  },
  {
   "cell_type": "code",
   "execution_count": 72,
   "id": "96c77848",
   "metadata": {},
   "outputs": [
    {
     "data": {
      "text/plain": [
       "<map at 0x2c05b0dd4c0>"
      ]
     },
     "execution_count": 72,
     "metadata": {},
     "output_type": "execute_result"
    }
   ],
   "source": [
    "sentences"
   ]
  },
  {
   "cell_type": "code",
   "execution_count": 73,
   "id": "a274fa25",
   "metadata": {
    "scrolled": true
   },
   "outputs": [
    {
     "name": "stdout",
     "output_type": "stream",
     "text": [
      "i love you\n",
      "you ate much\n",
      "he works hard\n"
     ]
    }
   ],
   "source": [
    "for i in sentences :\n",
    "    print(i)"
   ]
  },
  {
   "cell_type": "code",
   "execution_count": 74,
   "id": "d9a275a6",
   "metadata": {},
   "outputs": [
    {
     "name": "stdout",
     "output_type": "stream",
     "text": [
      "<class 'filter'>\n",
      "Even numbers are :  [0, 2, 4, 6, 8]\n"
     ]
    }
   ],
   "source": [
    "first_ten = [0,1,2,3,4,5,6,7,8,9]\n",
    "\n",
    "even = filter(lambda x: x%2 == 0, first_ten)\n",
    "print(type(even))  # it's \"filter\" type,\n",
    "                    # in order to print the result,\n",
    "                    # we^d better convert it into the list type\n",
    "print('Even numbers are : ', list(even))"
   ]
  },
  {
   "cell_type": "code",
   "execution_count": 75,
   "id": "aa582dc0",
   "metadata": {},
   "outputs": [
    {
     "data": {
      "text/plain": [
       "True"
      ]
     },
     "execution_count": 75,
     "metadata": {},
     "output_type": "execute_result"
    }
   ],
   "source": [
    "4 % 2 == 0\n"
   ]
  },
  {
   "cell_type": "code",
   "execution_count": 76,
   "id": "90847c97",
   "metadata": {},
   "outputs": [
    {
     "data": {
      "text/plain": [
       "False"
      ]
     },
     "execution_count": 76,
     "metadata": {},
     "output_type": "execute_result"
    }
   ],
   "source": [
    "5 % 2 == 0"
   ]
  },
  {
   "cell_type": "code",
   "execution_count": 77,
   "id": "82d89859",
   "metadata": {},
   "outputs": [
    {
     "name": "stdout",
     "output_type": "stream",
     "text": [
      "<class 'filter'>\n",
      "Odds numbers are :  [1, 3, 5, 7, 9]\n"
     ]
    }
   ],
   "source": [
    "first_ten = [0,1,2,3,4,5,6,7,8,9]              # benim çözüm\n",
    "\n",
    "odds = filter(lambda x: x%2 != 0, first_ten)\n",
    "print(type(even)) \n",
    "print('Odds numbers are : ', list(odds))"
   ]
  },
  {
   "cell_type": "code",
   "execution_count": 78,
   "id": "2415dea7",
   "metadata": {},
   "outputs": [],
   "source": [
    "first_ten = [0, 1, 2, 3, 4, 5, 6, 7, 8, 9]             \n",
    "\n",
    "odd1 = filter(lambda x: x%2 != 0, first_ten)          # tanımlanan fonksiyonun True / False bir sonuç üretmesi gerekli.\n",
    "odd2 = filter(lambda x: x%2 == 1, first_ten)             # Truty veya Falsy de olabilir. \n",
    "odd3 = filter(lambda x: not x%2 == 0, first_ten)\n",
    "odd4 = filter(lambda x: x%2, first_ten)"
   ]
  },
  {
   "cell_type": "code",
   "execution_count": 79,
   "id": "1aadbc67",
   "metadata": {},
   "outputs": [
    {
     "name": "stdout",
     "output_type": "stream",
     "text": [
      "1 3 5 7 9\n",
      "1 3 5 7 9\n",
      "1 3 5 7 9\n",
      "1 3 5 7 9\n"
     ]
    }
   ],
   "source": [
    "print(* odd3)\n",
    "print(* odd4)\n",
    "print(* odd2)\n",
    "print(* odd1)"
   ]
  },
  {
   "cell_type": "code",
   "execution_count": 81,
   "id": "9c477363",
   "metadata": {},
   "outputs": [
    {
     "name": "stdout",
     "output_type": "stream",
     "text": [
      "swim\n",
      "me\n",
      "kiwi\n"
     ]
    }
   ],
   "source": [
    "words = [\"apple\", \"swim\", \"clock\", \"me\", \"kiwi\", \"banana\"]   # benim çözüm...\n",
    "select = filter(lambda x : len(x) < 5, words)\n",
    "for i in select :\n",
    "    print(i)"
   ]
  },
  {
   "cell_type": "code",
   "execution_count": 82,
   "id": "37049489",
   "metadata": {},
   "outputs": [],
   "source": [
    "word = [\"apple\", \"swim\", \"clock\", \"me\", \"kiwi\", \"banana\"]"
   ]
  },
  {
   "cell_type": "code",
   "execution_count": 83,
   "id": "f9bcc77c",
   "metadata": {},
   "outputs": [
    {
     "name": "stdout",
     "output_type": "stream",
     "text": [
      "swim\n",
      "me\n",
      "kiwi\n"
     ]
    }
   ],
   "source": [
    "for i in filter(lambda x : len(x) < 5, word) :\n",
    "    print(i)\n"
   ]
  },
  {
   "cell_type": "code",
   "execution_count": 92,
   "id": "a28d3fee",
   "metadata": {},
   "outputs": [
    {
     "name": "stdout",
     "output_type": "stream",
     "text": [
      "[('a', 'x'), ('b', 'y'), ('c', 'z')]\n"
     ]
    }
   ],
   "source": [
    "letter1 = [\"a\", \"b\", \"c\"]   # benim çözüm\n",
    "letter2 = [\"x\", \"y\", \"z\"]\n",
    "print(list(map(lambda x, y : (x,y), letter1, letter2)))"
   ]
  },
  {
   "cell_type": "code",
   "execution_count": 90,
   "id": "b6207d3d",
   "metadata": {},
   "outputs": [
    {
     "name": "stdout",
     "output_type": "stream",
     "text": [
      "('a', 'x')\n",
      "('b', 'y')\n",
      "('c', 'z')\n"
     ]
    }
   ],
   "source": [
    "birleştir = map(zip, letter1, letter2)   \n",
    "for i in birleştir :\n",
    "    for j in i :\n",
    "        print(j)"
   ]
  },
  {
   "cell_type": "code",
   "execution_count": 91,
   "id": "bfa8e57e",
   "metadata": {},
   "outputs": [
    {
     "data": {
      "text/plain": [
       "[('a', 'x'), ('b', 'y'), ('c', 'z')]"
      ]
     },
     "execution_count": 91,
     "metadata": {},
     "output_type": "execute_result"
    }
   ],
   "source": [
    "yapıştır = zip(letter1, letter2)\n",
    "list(yapıştır)"
   ]
  },
  {
   "cell_type": "code",
   "execution_count": null,
   "id": "c2362aad",
   "metadata": {},
   "outputs": [],
   "source": []
  }
 ],
 "metadata": {
  "kernelspec": {
   "display_name": "Python 3",
   "language": "python",
   "name": "python3"
  },
  "language_info": {
   "codemirror_mode": {
    "name": "ipython",
    "version": 3
   },
   "file_extension": ".py",
   "mimetype": "text/x-python",
   "name": "python",
   "nbconvert_exporter": "python",
   "pygments_lexer": "ipython3",
   "version": "3.8.8"
  }
 },
 "nbformat": 4,
 "nbformat_minor": 5
}
