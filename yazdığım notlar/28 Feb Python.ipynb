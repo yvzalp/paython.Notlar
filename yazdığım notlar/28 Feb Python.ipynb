{
 "cells": [
  {
   "cell_type": "markdown",
   "id": "df71bd11",
   "metadata": {},
   "source": [
    "# WHILE LOOP "
   ]
  },
  {
   "cell_type": "markdown",
   "id": "980fc169",
   "metadata": {},
   "source": [
    "- break ile döngüden istenildiği zaman çıkmak için kullanılır.\n",
    "- 3çentik (alt gr + , ) python yazınca ve en son kapatınca bloğu python renklendirmesiyle yazar.\n",
    "- Döngüden çıkış yapacak bir False değeri gelmezse sonsuz döngü olur.\n",
    "-  while döngüsü ile bir koşul doğru olduğu sürece bir dizi ifadeyi çalıştırdığımız için ve örneğimizde;\n",
    "   yanlış giriş yapıldığı sürece döngü devam etsin istediğimiz için burada şartı \"giriş digit olmadığında (not                age.isdigit() )\" şeklinde yazdık.\n",
    "   "
   ]
  },
  {
   "cell_type": "markdown",
   "id": "af2d2e7a",
   "metadata": {},
   "source": [
    "```python\n",
    "while condition1 :\n",
    "    body1\n",
    "    while condition2:\n",
    "        body2\n",
    "        break        # bu ikinci döngüden çıkar  if den sonra olursa iyi olur yoksa döngüye girip direk çıkar.\n",
    "    break       # ilk döngüden çıkar\n",
    "```"
   ]
  },
  {
   "cell_type": "code",
   "execution_count": 2,
   "id": "b01013de",
   "metadata": {},
   "outputs": [
    {
     "name": "stdout",
     "output_type": "stream",
     "text": [
      "0\n",
      "1\n",
      "2\n",
      "3\n",
      "4\n",
      "5\n",
      "now, number is bigger or equal to 6\n"
     ]
    }
   ],
   "source": [
    "number = 0 \n",
    "while number < 6:\n",
    "    print(number)\n",
    "    number += 1\n",
    "print('now, number is bigger or equal to 6')"
   ]
  },
  {
   "cell_type": "code",
   "execution_count": 4,
   "id": "42fb9fe7",
   "metadata": {},
   "outputs": [
    {
     "name": "stdout",
     "output_type": "stream",
     "text": [
      "square of 0 is : 0\n",
      "square of 1 is : 1\n",
      "square of 2 is : 4\n",
      "square of 3 is : 9\n",
      "square of 4 is : 16\n"
     ]
    }
   ],
   "source": [
    "my_list = list(\"abcde\")\n",
    "a = 0\n",
    "while a < len(my_list):\n",
    "    print('square of {} is : {}'.format(a, a ** 2))\n",
    "    a += 1"
   ]
  },
  {
   "cell_type": "code",
   "execution_count": 11,
   "id": "2ffee18f",
   "metadata": {},
   "outputs": [
    {
     "name": "stdout",
     "output_type": "stream",
     "text": [
      "Enter your age84.2\n",
      "retry please\n",
      "Enter your age5\n",
      "Thank you\n"
     ]
    }
   ],
   "source": [
    "while True:\n",
    "    age = input(\"Enter your age\")\n",
    "    if age.isnumeric():\n",
    "        print(\"Thank you\")\n",
    "        break\n",
    "    else:\n",
    "        print(\"retry please\")"
   ]
  },
  {
   "cell_type": "code",
   "execution_count": 19,
   "id": "634cd883",
   "metadata": {},
   "outputs": [
    {
     "name": "stdout",
     "output_type": "stream",
     "text": [
      "Enter your age?a\n",
      "You entered incorrectly!\n",
      "Enter your age please :7\n",
      "Great! You entered valid input.\n"
     ]
    }
   ],
   "source": [
    "age = input(\"Enter your age?\")\n",
    "\n",
    "while not age.isdigit():\n",
    "    \n",
    "    print(\"You entered incorrectly!\")\n",
    "    \n",
    "    age = input(\"Enter your age please :\")\n",
    "print(\"Great! You entered valid input.\")"
   ]
  },
  {
   "cell_type": "code",
   "execution_count": 12,
   "id": "4a0f49f9",
   "metadata": {},
   "outputs": [
    {
     "data": {
      "text/plain": [
       "True"
      ]
     },
     "execution_count": 12,
     "metadata": {},
     "output_type": "execute_result"
    }
   ],
   "source": [
    "\"42\".isdigit()"
   ]
  },
  {
   "cell_type": "code",
   "execution_count": 13,
   "id": "daf767ed",
   "metadata": {},
   "outputs": [
    {
     "data": {
      "text/plain": [
       "False"
      ]
     },
     "execution_count": 13,
     "metadata": {},
     "output_type": "execute_result"
    }
   ],
   "source": [
    "\"-22\".isdigit()"
   ]
  },
  {
   "cell_type": "code",
   "execution_count": 16,
   "id": "3a487a21",
   "metadata": {},
   "outputs": [],
   "source": [
    "a = \"22.1\""
   ]
  },
  {
   "cell_type": "code",
   "execution_count": 17,
   "id": "836716fe",
   "metadata": {},
   "outputs": [
    {
     "data": {
      "text/plain": [
       "False"
      ]
     },
     "execution_count": 17,
     "metadata": {},
     "output_type": "execute_result"
    }
   ],
   "source": [
    "a.isnumeric()"
   ]
  },
  {
   "cell_type": "code",
   "execution_count": 24,
   "id": "bebebf46",
   "metadata": {},
   "outputs": [
    {
     "name": "stdout",
     "output_type": "stream",
     "text": [
      "Guess a number8\n",
      "Little lower\n",
      "Guess a number22\n",
      "Great!!!\n"
     ]
    }
   ],
   "source": [
    "number = 22\n",
    "while  True:\n",
    "    answer = int(input(\"Guess a number\"))\n",
    "    if answer < number:\n",
    "        print(\"Little lower\")\n",
    "    elif answer == number:\n",
    "        print(\"Great!!!\")\n",
    "        break\n",
    "    else:\n",
    "        print(\"Little higher\")"
   ]
  },
  {
   "cell_type": "code",
   "execution_count": 25,
   "id": "fea30988",
   "metadata": {},
   "outputs": [
    {
     "name": "stdout",
     "output_type": "stream",
     "text": [
      "Let's start play the quessing game!\n",
      "What a two-digit number am I thinking of?7\n",
      "Little higher...\n",
      "What a two-digit number am I thinking of?52\n",
      "Little lower....\n",
      "What a two-digit number am I thinking of?28\n",
      "Are you a MINDREADER!!\n"
     ]
    }
   ],
   "source": [
    "answer = 28\n",
    "\n",
    "print(\"Let's start play the quessing game!\")\n",
    "\n",
    "while True:\n",
    "    \n",
    "    guess = int(input(\"What a two-digit number am I thinking of?\"))\n",
    "    \n",
    "    if guess < answer:\n",
    "        print(\"Little higher...\")\n",
    "        \n",
    "    elif guess > answer:\n",
    "        print(\"Little lower....\")\n",
    "        \n",
    "    else:\n",
    "        print(\"Are you a MINDREADER!!\")\n",
    "        break"
   ]
  },
  {
   "cell_type": "code",
   "execution_count": 34,
   "id": "66485516",
   "metadata": {},
   "outputs": [
    {
     "name": "stdout",
     "output_type": "stream",
     "text": [
      "Please write your setenceThe best school is Clarusway.\n",
      "Clarusway.\n"
     ]
    }
   ],
   "source": [
    "sentence = input(\"Please write your setence : \").split()    # benim yaptığım en uzun kelimeyi veriyor\n",
    "c = 1\n",
    "while c < len(sentence) :\n",
    "    if len(sentence[c]) > len(sentence[c - 1]) :\n",
    "        st = sentence[c]\n",
    "    else:\n",
    "        st = sentence[c - 1]\n",
    "    c += 1\n",
    "print(st)\n",
    "    "
   ]
  },
  {
   "cell_type": "code",
   "execution_count": 35,
   "id": "cae0aded",
   "metadata": {},
   "outputs": [
    {
     "name": "stdout",
     "output_type": "stream",
     "text": [
      "Give me a sentece. :The bset course is Clarusway\n",
      "The length of the longest word :  9\n"
     ]
    }
   ],
   "source": [
    "sentence = input(\"Give me a sentece. :\")  # derste yapılan en uzun kelimenin uzunluğunu verir.\n",
    "\n",
    "word_list = sentence.split()\n",
    "\n",
    "longest = 0\n",
    "i = 0\n",
    "\n",
    "while i < len(word_list) :\n",
    "    \n",
    "    if len(word_list[i]) > longest :\n",
    "        longest = len(word_list[i])\n",
    "        \n",
    "    i += 1\n",
    "print(\"The length of the longest word : \", longest)"
   ]
  },
  {
   "cell_type": "code",
   "execution_count": 36,
   "id": "857478e9",
   "metadata": {},
   "outputs": [
    {
     "name": "stdout",
     "output_type": "stream",
     "text": [
      "Bir cümle giriniz: The best course is Clarusway\n",
      "9\n"
     ]
    }
   ],
   "source": [
    "sentence = input(\"Bir cümle giriniz: \").split()   # farklı bir çözüm !!!!!\n",
    "\n",
    "longest = max(sentence, key= len)\n",
    "print(len(longest))"
   ]
  },
  {
   "cell_type": "markdown",
   "id": "99cef250",
   "metadata": {},
   "source": [
    "# FOR LOOP"
   ]
  },
  {
   "cell_type": "markdown",
   "id": "09a43a3e",
   "metadata": {},
   "source": [
    "- >>> for variable in iterable:\n",
    "          body\n",
    "- FOR DÖNGÜSÜ:\n",
    "    For döngüsü, bir dizi üzerinde yineleme (iterasyon) yapmak için kullanılır (bu, bir liste, bir tuple, bir dictionary, bir set veya bir string olabilir)\n",
    "    For döngüsüyle, bir liste, tuple, set vb. içindeki her öğe için bir kez olmak üzere bir kod bloğu çalıştırabiliriz.\n",
    "    For döngüsü önceden ayarlamak için (while döngüsündeki gibi) bir indeksleme değişkeni gerektirmez\n",
    "    String'ler de iterable nesnelerdir, bir dizi karakter içerirler.\n",
    "    for x in \"banana\":\n",
    "        print(x)\n",
    "- for i in liste:\n",
    "    i değişkeni döngüde her dönüşünde listenin bir elemanına eşitlenir ve döngüyü o değişken sıfatıyla tamamlar. Döngüden listenin (tuple, set, range vs ) elemanları bitince döngü biter."
   ]
  },
  {
   "cell_type": "code",
   "execution_count": 37,
   "id": "9d13f210",
   "metadata": {},
   "outputs": [
    {
     "name": "stdout",
     "output_type": "stream",
     "text": [
      "1\n",
      "2\n",
      "3\n",
      "4\n",
      "5\n"
     ]
    }
   ],
   "source": [
    "for i in [1, 2, 3, 4, 5] :\n",
    "    print(i)"
   ]
  },
  {
   "cell_type": "code",
   "execution_count": 38,
   "id": "7ba0b54f",
   "metadata": {},
   "outputs": [],
   "source": [
    "benim_listem = [\"ali\", \"deli\", \"veli\"]"
   ]
  },
  {
   "cell_type": "code",
   "execution_count": 39,
   "id": "4c1a8ab7",
   "metadata": {},
   "outputs": [
    {
     "name": "stdout",
     "output_type": "stream",
     "text": [
      "ali\n",
      "deli\n",
      "veli\n"
     ]
    }
   ],
   "source": [
    "for i in benim_listem :\n",
    "    print(i)"
   ]
  },
  {
   "cell_type": "code",
   "execution_count": 40,
   "id": "200770cc",
   "metadata": {},
   "outputs": [
    {
     "name": "stdout",
     "output_type": "stream",
     "text": [
      "spring\n",
      "summer\n",
      "autumn\n",
      "winter\n"
     ]
    }
   ],
   "source": [
    "season = ['spring', 'summer', 'autumn', 'winter']\n",
    "\n",
    "for season in season :\n",
    "    print(season)"
   ]
  },
  {
   "cell_type": "code",
   "execution_count": 41,
   "id": "2bf9a07d",
   "metadata": {},
   "outputs": [
    {
     "name": "stdout",
     "output_type": "stream",
     "text": [
      "Hello Ahmet\n",
      "Hello Aisha\n",
      "Hello Adam\n",
      "Hello Joseph\n",
      "Hello Gabriel\n"
     ]
    }
   ],
   "source": [
    "names = [\"Ahmet\", \"Aisha\", \"Adam\", \"Joseph\", \"Gabriel\"]\n",
    "\n",
    "for i in names :\n",
    "    print(\"Hello\", i)"
   ]
  },
  {
   "cell_type": "code",
   "execution_count": 45,
   "id": "72459ee3",
   "metadata": {},
   "outputs": [
    {
     "data": {
      "text/plain": [
       "True"
      ]
     },
     "execution_count": 45,
     "metadata": {},
     "output_type": "execute_result"
    }
   ],
   "source": [
    "\"ali\" < \"veli\"        # ASCII kodlarını baz alıyordur."
   ]
  },
  {
   "cell_type": "code",
   "execution_count": 46,
   "id": "c0c95353",
   "metadata": {},
   "outputs": [
    {
     "data": {
      "text/plain": [
       "False"
      ]
     },
     "execution_count": 46,
     "metadata": {},
     "output_type": "execute_result"
    }
   ],
   "source": [
    "\"ali\" > \"veli\""
   ]
  },
  {
   "cell_type": "code",
   "execution_count": 47,
   "id": "cfa702db",
   "metadata": {},
   "outputs": [
    {
     "data": {
      "text/plain": [
       "True"
      ]
     },
     "execution_count": 47,
     "metadata": {},
     "output_type": "execute_result"
    }
   ],
   "source": [
    "\"ali\" > \"ahmet\"            # l > h olduğundan True ..."
   ]
  },
  {
   "cell_type": "code",
   "execution_count": 49,
   "id": "ed412ec3",
   "metadata": {},
   "outputs": [
    {
     "name": "stdout",
     "output_type": "stream",
     "text": [
      "[0, 1, 2, 3, 4, 5]\n"
     ]
    }
   ],
   "source": [
    "liste = []\n",
    "for i in range(6):\n",
    "    liste.append(i)\n",
    "    \n",
    "print(liste)"
   ]
  },
  {
   "cell_type": "code",
   "execution_count": 50,
   "id": "ab118edd",
   "metadata": {},
   "outputs": [
    {
     "data": {
      "text/plain": [
       "range(1, 6)"
      ]
     },
     "execution_count": 50,
     "metadata": {},
     "output_type": "execute_result"
    }
   ],
   "source": [
    "range(1, 6)"
   ]
  },
  {
   "cell_type": "code",
   "execution_count": 53,
   "id": "8fed1cc3",
   "metadata": {},
   "outputs": [
    {
     "data": {
      "text/plain": [
       "[1, 2, 3, 4, 5]"
      ]
     },
     "execution_count": 53,
     "metadata": {},
     "output_type": "execute_result"
    }
   ],
   "source": [
    "list(range(1, 6))"
   ]
  },
  {
   "cell_type": "code",
   "execution_count": 54,
   "id": "c974d1dd",
   "metadata": {},
   "outputs": [
    {
     "name": "stdout",
     "output_type": "stream",
     "text": [
      "1 2 3 4 5\n"
     ]
    }
   ],
   "source": [
    "print(* range(1, 6))"
   ]
  },
  {
   "cell_type": "code",
   "execution_count": 55,
   "id": "42029c15",
   "metadata": {},
   "outputs": [
    {
     "name": "stdout",
     "output_type": "stream",
     "text": [
      "[1, 2, 3, 4, 5]\n"
     ]
    }
   ],
   "source": [
    "numbers = []\n",
    "\n",
    "for i in range(1, 6) :\n",
    "    numbers.append(i)\n",
    "\n",
    "print(numbers)    "
   ]
  },
  {
   "cell_type": "markdown",
   "id": "e20bc333",
   "metadata": {},
   "source": [
    "str list tuple dict set  => most common iterable types. ( tek tek elemanlarına ayrılabilir..)"
   ]
  },
  {
   "cell_type": "code",
   "execution_count": 57,
   "id": "abffebfd",
   "metadata": {},
   "outputs": [
    {
     "name": "stdout",
     "output_type": "stream",
     "text": [
      "c\n",
      "l\n",
      "a\n",
      "r\n",
      "u\n",
      "s\n",
      "w\n",
      "a\n",
      "y\n"
     ]
    }
   ],
   "source": [
    "course = \"clarusway\"\n",
    "\n",
    "for i in course:\n",
    "    print(i)"
   ]
  },
  {
   "cell_type": "code",
   "execution_count": 58,
   "id": "8478bc47",
   "metadata": {},
   "outputs": [
    {
     "ename": "TypeError",
     "evalue": "'int' object is not iterable",
     "output_type": "error",
     "traceback": [
      "\u001b[1;31m---------------------------------------------------------------------------\u001b[0m",
      "\u001b[1;31mTypeError\u001b[0m                                 Traceback (most recent call last)",
      "\u001b[1;32m<ipython-input-58-833528fe3cbd>\u001b[0m in \u001b[0;36m<module>\u001b[1;34m\u001b[0m\n\u001b[1;32m----> 1\u001b[1;33m \u001b[1;32mfor\u001b[0m \u001b[0mi\u001b[0m \u001b[1;32min\u001b[0m \u001b[1;36m5\u001b[0m \u001b[1;33m:\u001b[0m\u001b[1;33m\u001b[0m\u001b[1;33m\u001b[0m\u001b[0m\n\u001b[0m\u001b[0;32m      2\u001b[0m     \u001b[0mprint\u001b[0m\u001b[1;33m(\u001b[0m\u001b[0mi\u001b[0m\u001b[1;33m)\u001b[0m\u001b[1;33m\u001b[0m\u001b[1;33m\u001b[0m\u001b[0m\n",
      "\u001b[1;31mTypeError\u001b[0m: 'int' object is not iterable"
     ]
    }
   ],
   "source": [
    "for i in 5 :    # TypeError verir... Because integer object is not iterable\n",
    "    print(i)"
   ]
  },
  {
   "cell_type": "code",
   "execution_count": 65,
   "id": "c960d900",
   "metadata": {},
   "outputs": [
    {
     "name": "stdout",
     "output_type": "stream",
     "text": [
      "Please write clarusway\n",
      "c-l-a-r-u-s-w-a-y-"
     ]
    }
   ],
   "source": [
    "a = input(\"Please write \")\n",
    "\n",
    "for i in a:\n",
    "    print(f\"{i}-\", end=\"\")"
   ]
  },
  {
   "cell_type": "code",
   "execution_count": 76,
   "id": "08b3bb25",
   "metadata": {},
   "outputs": [
    {
     "name": "stdout",
     "output_type": "stream",
     "text": [
      "Please write clarusway\n",
      "c-l-a-r-u-s-w-a-y\n"
     ]
    }
   ],
   "source": [
    "a = input(\"Please write \")\n",
    "b = []\n",
    "for i in a:\n",
    "    b.append(i)\n",
    "print(\"-\".join(b))"
   ]
  },
  {
   "cell_type": "code",
   "execution_count": 79,
   "id": "7c5cba00",
   "metadata": {},
   "outputs": [
    {
     "name": "stdout",
     "output_type": "stream",
     "text": [
      "Give me a word : clarusway\n",
      "c-l-a-r-u-s-w-a-y"
     ]
    }
   ],
   "source": [
    "word = input(\"Give me a word : \")          # çalışma mantığını anlamak için https://pythontutor.com/live.html#mode=edit\n",
    "                                                # sitesine bakılabilir...\n",
    "counter = 0\n",
    "\n",
    "for i in word :\n",
    "    counter += 1\n",
    "    if counter < len(word) :\n",
    "        i = i + \"-\"\n",
    "    \n",
    "    print(i, end=\"\")"
   ]
  },
  {
   "cell_type": "markdown",
   "id": "253ef3c5",
   "metadata": {},
   "source": [
    "```python\n",
    "print () fonksiyonunun Docstring'i:\n",
    "Docstring:\n",
    "print(value, ..., sep=' ', end='\\n', file=sys.stdout, flush=False)\n",
    "sep = ' ' parametresi ile print aralara boşluk koyar. end= '\\n' parametresi ile print sonda yeni satıra geçer (newline)\n",
    "```"
   ]
  },
  {
   "cell_type": "code",
   "execution_count": null,
   "id": "edf185b1",
   "metadata": {},
   "outputs": [],
   "source": []
  }
 ],
 "metadata": {
  "kernelspec": {
   "display_name": "Python 3",
   "language": "python",
   "name": "python3"
  },
  "language_info": {
   "codemirror_mode": {
    "name": "ipython",
    "version": 3
   },
   "file_extension": ".py",
   "mimetype": "text/x-python",
   "name": "python",
   "nbconvert_exporter": "python",
   "pygments_lexer": "ipython3",
   "version": "3.8.8"
  }
 },
 "nbformat": 4,
 "nbformat_minor": 5
}
