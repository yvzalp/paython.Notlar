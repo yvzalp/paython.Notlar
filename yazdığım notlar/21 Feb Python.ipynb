{
 "cells": [
  {
   "cell_type": "markdown",
   "id": "bfec1e62",
   "metadata": {},
   "source": [
    "# Sets"
   ]
  },
  {
   "cell_type": "markdown",
   "id": "2a4adb88",
   "metadata": {},
   "source": [
    "- unordered elements (sırası önemsiz farklı sıralamayla gelebilir.)\n",
    "- no repetition (tekrarlı eleman yok)\n",
    "- math operations (union, intersection, difference)/(birleşim, kesişim, fark) \n",
    "- küme operasyonları küme sonucunu oluşturur.\n",
    "- iterable verileri alır.\n",
    "- unchangeable set are immutable and we can't modify items.\n",
    "- kümelerin elemanları list, dict., ve set olamaz. Hata verir.\n",
    "- kümelereleman olarak tuple alabilir."
   ]
  },
  {
   "cell_type": "markdown",
   "id": "13d32433",
   "metadata": {},
   "source": [
    "- .add()   => eleman ekler. sıra önemsiz olduğu için rastgele bir yere ekler.\n",
    "- .remove()   => elaman siler. a.remove(\"rose\")\n",
    "- .intersection() => kesişim\n",
    "- .union() => birleşim\n",
    "- .difference()   => a-b olarakta yazılabilir. Fark."
   ]
  },
  {
   "cell_type": "code",
   "execution_count": 4,
   "id": "50b1c71d",
   "metadata": {},
   "outputs": [
    {
     "name": "stdout",
     "output_type": "stream",
     "text": [
      "{'red', 'blue', 'pink'}\n",
      "{'red', 'blue', 'pink'}\n"
     ]
    }
   ],
   "source": [
    "set_1 ={\"red\", \"blue\", \"pink\", \"red\"}\n",
    "colors = \"red\", \"blue\", \"pink\", \"red\"\n",
    "set_2 = set(colors)  # pass an argument(arguman yollama)\n",
    "print(set_1)\n",
    "print(set_2)"
   ]
  },
  {
   "cell_type": "code",
   "execution_count": 5,
   "id": "49ebcdb3",
   "metadata": {},
   "outputs": [
    {
     "name": "stdout",
     "output_type": "stream",
     "text": [
      "<class 'set'>\n"
     ]
    }
   ],
   "source": [
    "empty_set = set()    # {} => boş dictionary oluşturur.!!!\n",
    "print(type(empty_set))"
   ]
  },
  {
   "cell_type": "code",
   "execution_count": 6,
   "id": "9b74a185",
   "metadata": {},
   "outputs": [
    {
     "name": "stdout",
     "output_type": "stream",
     "text": [
      "{'orchid', 'rose', 'violet', 'carnation'}\n",
      "['orchid', 'rose', 'violet', 'carnation']\n"
     ]
    }
   ],
   "source": [
    "flower_list = [\"rose\", \"violet\", \"carnation\", \"rose\", \"orchid\", \"rose\", \"orchid\"]\n",
    "flowerset = set(flower_list) #listeyi kümeye çevirme\n",
    "flowerlist = list(flowerset)  #kümeyi listeye dönüştürür. o an hangi sıradaysa o sırada kalır.\n",
    "print(flowerset)\n",
    "print(flowerlist)"
   ]
  },
  {
   "cell_type": "code",
   "execution_count": 7,
   "id": "694b6a18",
   "metadata": {},
   "outputs": [
    {
     "data": {
      "text/plain": [
       "{0, 1, 2}"
      ]
     },
     "execution_count": 7,
     "metadata": {},
     "output_type": "execute_result"
    }
   ],
   "source": [
    "ilk_kumem = {1, 1, 2, 0, 1}  # tekrarlı eleman bulunmaz!!\n",
    "ilk_kumem"
   ]
  },
  {
   "cell_type": "code",
   "execution_count": 8,
   "id": "75aeccb3",
   "metadata": {},
   "outputs": [
    {
     "data": {
      "text/plain": [
       "5"
      ]
     },
     "execution_count": 8,
     "metadata": {},
     "output_type": "execute_result"
    }
   ],
   "source": [
    "len([1, 1, 2, 0, 1]) #liste"
   ]
  },
  {
   "cell_type": "code",
   "execution_count": 9,
   "id": "fc1c6499",
   "metadata": {},
   "outputs": [
    {
     "data": {
      "text/plain": [
       "3"
      ]
     },
     "execution_count": 9,
     "metadata": {},
     "output_type": "execute_result"
    }
   ],
   "source": [
    "len({1, 1, 2, 0, 1}) #set"
   ]
  },
  {
   "cell_type": "code",
   "execution_count": 1,
   "id": "b8d059cb",
   "metadata": {},
   "outputs": [
    {
     "name": "stdout",
     "output_type": "stream",
     "text": [
      "['a', 'b', 'c', 'd', 'e', 'f', 'g', 'h', 'i', 'j', 'k', 'l', 'm', 'n', 'o', 'p', 'q', 'r', 's', 't', 'u', 'w', 'x', 'v', 'y', 'z']\n"
     ]
    }
   ],
   "source": [
    "letter = \"a b c d e f g h i j k l m n o p q r s t u w x v y z\".split()\n",
    "print(letter)"
   ]
  },
  {
   "cell_type": "code",
   "execution_count": 2,
   "id": "61d3aadc",
   "metadata": {},
   "outputs": [
    {
     "name": "stdout",
     "output_type": "stream",
     "text": [
      "{'j', 'c', 'y', 'k', 'h', 'b', 'e', 'u', 'i', 'g', 'n', 'p', 'l', 'r', 'a', 'x', 'q', 'v', 't', 'w', 'f', 'o', 'z', 's', 'm', 'd'}\n"
     ]
    }
   ],
   "source": [
    "print(set(letter))"
   ]
  },
  {
   "cell_type": "code",
   "execution_count": 5,
   "id": "f4c846c2",
   "metadata": {},
   "outputs": [
    {
     "name": "stdout",
     "output_type": "stream",
     "text": [
      "{1, '1'}\n"
     ]
    }
   ],
   "source": [
    "şöyle_bişey = {1, \"1\", 1.0}\n",
    "print(şöyle_bişey)"
   ]
  },
  {
   "cell_type": "code",
   "execution_count": 4,
   "id": "9c33f4a6",
   "metadata": {},
   "outputs": [
    {
     "data": {
      "text/plain": [
       "2"
      ]
     },
     "execution_count": 4,
     "metadata": {},
     "output_type": "execute_result"
    }
   ],
   "source": [
    "len(şöyle_bişey)"
   ]
  },
  {
   "cell_type": "code",
   "execution_count": 6,
   "id": "47e4b6f8",
   "metadata": {},
   "outputs": [],
   "source": [
    "given_list = [1, 2, 3, 4, 5]"
   ]
  },
  {
   "cell_type": "code",
   "execution_count": 8,
   "id": "ec4dcb50",
   "metadata": {},
   "outputs": [
    {
     "ename": "TypeError",
     "evalue": "unhashable type: 'list'",
     "output_type": "error",
     "traceback": [
      "\u001b[1;31m---------------------------------------------------------------------------\u001b[0m",
      "\u001b[1;31mTypeError\u001b[0m                                 Traceback (most recent call last)",
      "\u001b[1;32m<ipython-input-8-87d760b1722f>\u001b[0m in \u001b[0;36m<module>\u001b[1;34m\u001b[0m\n\u001b[1;32m----> 1\u001b[1;33m \u001b[0ma\u001b[0m \u001b[1;33m=\u001b[0m \u001b[1;33m{\u001b[0m\u001b[0mgiven_list\u001b[0m\u001b[1;33m}\u001b[0m\u001b[1;33m\u001b[0m\u001b[1;33m\u001b[0m\u001b[0m\n\u001b[0m\u001b[0;32m      2\u001b[0m \u001b[0ma\u001b[0m\u001b[1;33m\u001b[0m\u001b[1;33m\u001b[0m\u001b[0m\n",
      "\u001b[1;31mTypeError\u001b[0m: unhashable type: 'list'"
     ]
    }
   ],
   "source": [
    "a = {given_list} #hata verir.\n",
    "a"
   ]
  },
  {
   "cell_type": "code",
   "execution_count": 9,
   "id": "aecaccf8",
   "metadata": {},
   "outputs": [
    {
     "ename": "TypeError",
     "evalue": "unhashable type: 'list'",
     "output_type": "error",
     "traceback": [
      "\u001b[1;31m---------------------------------------------------------------------------\u001b[0m",
      "\u001b[1;31mTypeError\u001b[0m                                 Traceback (most recent call last)",
      "\u001b[1;32m<ipython-input-9-7eac0d1fc52e>\u001b[0m in \u001b[0;36m<module>\u001b[1;34m\u001b[0m\n\u001b[1;32m----> 1\u001b[1;33m \u001b[0mdeneme\u001b[0m \u001b[1;33m=\u001b[0m \u001b[1;33m{\u001b[0m\u001b[1;33m[\u001b[0m\u001b[1;36m1\u001b[0m\u001b[1;33m,\u001b[0m \u001b[1;36m2\u001b[0m\u001b[1;33m]\u001b[0m\u001b[1;33m,\u001b[0m \u001b[1;36m2\u001b[0m\u001b[1;33m,\u001b[0m \u001b[1;36m4\u001b[0m\u001b[1;33m,\u001b[0m \u001b[1;33m{\u001b[0m\u001b[1;36m1\u001b[0m \u001b[1;33m:\u001b[0m \u001b[1;34m\"1\"\u001b[0m\u001b[1;33m,\u001b[0m \u001b[1;36m2\u001b[0m \u001b[1;33m:\u001b[0m \u001b[1;34m\"2\"\u001b[0m\u001b[1;33m}\u001b[0m\u001b[1;33m}\u001b[0m\u001b[1;33m\u001b[0m\u001b[1;33m\u001b[0m\u001b[0m\n\u001b[0m\u001b[0;32m      2\u001b[0m \u001b[0mprint\u001b[0m\u001b[1;33m(\u001b[0m\u001b[0mdeneme\u001b[0m\u001b[1;33m)\u001b[0m\u001b[1;33m\u001b[0m\u001b[1;33m\u001b[0m\u001b[0m\n",
      "\u001b[1;31mTypeError\u001b[0m: unhashable type: 'list'"
     ]
    }
   ],
   "source": [
    "deneme = {[1, 2], 2, 4, {1 : \"1\", 2 : \"2\"}}\n",
    "print(deneme)"
   ]
  },
  {
   "cell_type": "code",
   "execution_count": 10,
   "id": "91343e9e",
   "metadata": {},
   "outputs": [
    {
     "ename": "TypeError",
     "evalue": "unhashable type: 'dict'",
     "output_type": "error",
     "traceback": [
      "\u001b[1;31m---------------------------------------------------------------------------\u001b[0m",
      "\u001b[1;31mTypeError\u001b[0m                                 Traceback (most recent call last)",
      "\u001b[1;32m<ipython-input-10-09d732f329b6>\u001b[0m in \u001b[0;36m<module>\u001b[1;34m\u001b[0m\n\u001b[1;32m----> 1\u001b[1;33m \u001b[0mdeneme\u001b[0m \u001b[1;33m=\u001b[0m \u001b[1;33m{\u001b[0m\u001b[1;36m2\u001b[0m\u001b[1;33m,\u001b[0m \u001b[1;36m4\u001b[0m\u001b[1;33m,\u001b[0m \u001b[1;33m{\u001b[0m\u001b[1;36m1\u001b[0m \u001b[1;33m:\u001b[0m \u001b[1;34m\"1\"\u001b[0m\u001b[1;33m,\u001b[0m \u001b[1;36m2\u001b[0m \u001b[1;33m:\u001b[0m \u001b[1;34m\"2\"\u001b[0m\u001b[1;33m}\u001b[0m\u001b[1;33m}\u001b[0m\u001b[1;33m\u001b[0m\u001b[1;33m\u001b[0m\u001b[0m\n\u001b[0m\u001b[0;32m      2\u001b[0m \u001b[0mprint\u001b[0m\u001b[1;33m(\u001b[0m\u001b[0mdeneme\u001b[0m\u001b[1;33m)\u001b[0m\u001b[1;33m\u001b[0m\u001b[1;33m\u001b[0m\u001b[0m\n",
      "\u001b[1;31mTypeError\u001b[0m: unhashable type: 'dict'"
     ]
    }
   ],
   "source": [
    "deneme = {2, 4, {1 : \"1\", 2 : \"2\"}}  #kümeler list set ve dict elemanlarını almaz.Ama tuple alabilir.\n",
    "print(deneme)"
   ]
  },
  {
   "cell_type": "code",
   "execution_count": 11,
   "id": "f1154d7e",
   "metadata": {},
   "outputs": [],
   "source": [
    "a = {\"carnation\", \"orchid\", \"rose\", \"violet\"}\n",
    "b = {\"rose\", \"carnation\", \"orchid\", \"rose\", \"violet\"}"
   ]
  },
  {
   "cell_type": "code",
   "execution_count": 12,
   "id": "7672c34b",
   "metadata": {},
   "outputs": [
    {
     "data": {
      "text/plain": [
       "{'carnation', 'orchid', 'rose', 'violet'}"
      ]
     },
     "execution_count": 12,
     "metadata": {},
     "output_type": "execute_result"
    }
   ],
   "source": [
    "a"
   ]
  },
  {
   "cell_type": "code",
   "execution_count": 13,
   "id": "fb93c72f",
   "metadata": {},
   "outputs": [
    {
     "data": {
      "text/plain": [
       "{'carnation', 'orchid', 'rose', 'violet'}"
      ]
     },
     "execution_count": 13,
     "metadata": {},
     "output_type": "execute_result"
    }
   ],
   "source": [
    "b"
   ]
  },
  {
   "cell_type": "code",
   "execution_count": 14,
   "id": "e80b0b5c",
   "metadata": {},
   "outputs": [
    {
     "data": {
      "text/plain": [
       "{'carnation', 'lily', 'orchid', 'rose', 'violet'}"
      ]
     },
     "execution_count": 14,
     "metadata": {},
     "output_type": "execute_result"
    }
   ],
   "source": [
    "a.add(\"lily\")\n",
    "a"
   ]
  },
  {
   "cell_type": "code",
   "execution_count": 15,
   "id": "9e7d1884",
   "metadata": {},
   "outputs": [
    {
     "data": {
      "text/plain": [
       "{'carnation', 'lily', 'orchid', 'violet'}"
      ]
     },
     "execution_count": 15,
     "metadata": {},
     "output_type": "execute_result"
    }
   ],
   "source": [
    "a.remove(\"rose\")\n",
    "a"
   ]
  },
  {
   "cell_type": "code",
   "execution_count": 16,
   "id": "59cc1096",
   "metadata": {},
   "outputs": [],
   "source": [
    "a = set(\"philadelphia\")\n",
    "b = set(\"dolphin\")\n"
   ]
  },
  {
   "cell_type": "code",
   "execution_count": 17,
   "id": "6ed7fe19",
   "metadata": {},
   "outputs": [
    {
     "data": {
      "text/plain": [
       "{'d', 'h', 'i', 'l', 'p'}"
      ]
     },
     "execution_count": 17,
     "metadata": {},
     "output_type": "execute_result"
    }
   ],
   "source": [
    "a.intersection(b)  #kesişimi"
   ]
  },
  {
   "cell_type": "code",
   "execution_count": 18,
   "id": "4497dc0d",
   "metadata": {},
   "outputs": [
    {
     "data": {
      "text/plain": [
       "{'a', 'd', 'e', 'h', 'i', 'l', 'n', 'o', 'p'}"
      ]
     },
     "execution_count": 18,
     "metadata": {},
     "output_type": "execute_result"
    }
   ],
   "source": [
    "a.union(b) #birleşimi"
   ]
  },
  {
   "cell_type": "code",
   "execution_count": 19,
   "id": "8f28f64c",
   "metadata": {},
   "outputs": [
    {
     "data": {
      "text/plain": [
       "{'a', 'e'}"
      ]
     },
     "execution_count": 19,
     "metadata": {},
     "output_type": "execute_result"
    }
   ],
   "source": [
    "a.difference(b)   #a kümesinin b kümesinden farklı olan elemanları yani a kümesinden b kümesini çıkart"
   ]
  },
  {
   "cell_type": "code",
   "execution_count": 20,
   "id": "382d111d",
   "metadata": {},
   "outputs": [
    {
     "name": "stdout",
     "output_type": "stream",
     "text": [
      "{'a', 'e'}\n"
     ]
    }
   ],
   "source": [
    "print(a-b)  # a.difference(b) ile aynı işi yapar."
   ]
  },
  {
   "cell_type": "code",
   "execution_count": 21,
   "id": "e94300fd",
   "metadata": {},
   "outputs": [
    {
     "name": "stdout",
     "output_type": "stream",
     "text": [
      "{'h', 'p', 'e', 'l', 'o', 'a', 'i', 'n', 'd'}\n"
     ]
    }
   ],
   "source": [
    "print(a | b) # a birleşim b"
   ]
  },
  {
   "cell_type": "code",
   "execution_count": 22,
   "id": "042b1985",
   "metadata": {},
   "outputs": [
    {
     "name": "stdout",
     "output_type": "stream",
     "text": [
      "{'0', '1', '2', '/'}\n",
      "{'02/21/2022'}\n"
     ]
    }
   ],
   "source": [
    "date1 = set(\"02/21/2022\")   #elemanlarına ayırıp hepsini birer eleman olarak alır\n",
    "date2 = {\"02/21/2022\"}  # tek eleman olarak alır.\n",
    "print(date1)\n",
    "print(date2)"
   ]
  },
  {
   "cell_type": "code",
   "execution_count": 24,
   "id": "b2550c2f",
   "metadata": {},
   "outputs": [
    {
     "name": "stdout",
     "output_type": "stream",
     "text": [
      "{1, 2, 3, 4, 5}\n"
     ]
    }
   ],
   "source": [
    "give_list = [1, 2, 3, 3, 3, 3, 4, 4, 5, 5]\n",
    "given_set = set(give_list)\n",
    "print(given_set)"
   ]
  },
  {
   "cell_type": "code",
   "execution_count": 25,
   "id": "25516d3e",
   "metadata": {},
   "outputs": [
    {
     "name": "stdout",
     "output_type": "stream",
     "text": [
      "{'o', 'i', 'W', 'g', 'n', 't'}\n",
      "{'h', 'e', 'o', 'l', 'a', 'i', 'W', 's', 'g', 'n', 't'}\n",
      "{'h', 'a', 's'}\n"
     ]
    }
   ],
   "source": [
    "usa = set(\"Washington\")\n",
    "new_zealand = set(\"Wellington\")\n",
    "print(usa.intersection(new_zealand))\n",
    "print(usa.union(new_zealand))\n",
    "print(usa.difference(new_zealand))"
   ]
  },
  {
   "cell_type": "markdown",
   "id": "1a8253fc",
   "metadata": {},
   "source": [
    "# if"
   ]
  },
  {
   "cell_type": "markdown",
   "id": "0618ba64",
   "metadata": {},
   "source": [
    "- A program’s control flow is the order in which the program’s code executes.\n",
    "- Bir programın control flow (kontrol akışı) program kodunun yürütüldüğü sıradır.\n",
    "- The control flow of a Python program is regulated by conditional statements, loops, and function calls.\n",
    "- Bir Python programının kontrol akışı, koşullu ifadeler, döngüler ve fonksiyon çağrıları tarafından düzenlenir.\n",
    "- Python has three types of control structures:\n",
    "- Python'un üç tür kontrol yapısı vardır\n",
    "- Sequential - default mode\n",
    "- Selection - used for decisions and branching\n",
    "- Repetition - used for looping, i.e., repeating a piece of code multiple times.\n",
    "- formul =>\n",
    "        if condition:    # koşul sağlanırsa body altındaki kodları çalıştırır. girintili olması lazım\n",
    "            body\n",
    "- condition => (True/False) veya (True veya false sonuç verecek ifade olması lazım)\n",
    "- <, >, <=, >=, !=, == her zaman bool sonuç verir.\n"
   ]
  },
  {
   "cell_type": "markdown",
   "id": "812197f7",
   "metadata": {},
   "source": [
    "- None.\n",
    "- Zero of any numeric type: 0, 0.0, 0j\n",
    "- Empty sequences and collections: '', [], {}.\n",
    "- False\n",
    "- Yukarıdaki ifadelerin dışındaki tüm ifadeler  True olarak değerlendirilir"
   ]
  },
  {
   "cell_type": "code",
   "execution_count": 26,
   "id": "0bed01c8",
   "metadata": {},
   "outputs": [
    {
     "name": "stdout",
     "output_type": "stream",
     "text": [
      "1\n"
     ]
    }
   ],
   "source": [
    "sayılar = [1, 2, 3, 4, 5]\n",
    "print(sayılar[0])    # aynı kodları tekrar etmemek için döngüleri kullanabiliriz."
   ]
  },
  {
   "cell_type": "code",
   "execution_count": 27,
   "id": "da9b1fb5",
   "metadata": {},
   "outputs": [],
   "source": [
    "a = 3\n",
    "b = 0\n"
   ]
  },
  {
   "cell_type": "code",
   "execution_count": 28,
   "id": "7e26b478",
   "metadata": {},
   "outputs": [
    {
     "name": "stdout",
     "output_type": "stream",
     "text": [
      "ali\n"
     ]
    }
   ],
   "source": [
    "if b > a :\n",
    "    print(\"hello\")\n",
    "print(\"ali\")"
   ]
  },
  {
   "cell_type": "code",
   "execution_count": null,
   "id": "64a8fa35",
   "metadata": {},
   "outputs": [],
   "source": [
    "\"\"\"\n",
    "if condition:           girintili olan bodyler \"condition\" doğru ise yani şartı sağlıyorsa çalışır.\n",
    "    body1\n",
    "    body2\n",
    "outbody          girinti olmayan her zaman çalışır\n",
    "\"\"\""
   ]
  },
  {
   "cell_type": "code",
   "execution_count": 30,
   "id": "30bb87c4",
   "metadata": {},
   "outputs": [
    {
     "name": "stdout",
     "output_type": "stream",
     "text": [
      "hello world\n",
      "print me in all cases\n"
     ]
    }
   ],
   "source": [
    "if \"0\" :  # True geldiğinden dolayı body e girer.\n",
    "    print(\"hello world\")\n",
    "print(\"print me in all cases\")"
   ]
  },
  {
   "cell_type": "code",
   "execution_count": 31,
   "id": "4a432584",
   "metadata": {},
   "outputs": [
    {
     "name": "stdout",
     "output_type": "stream",
     "text": [
      "print me in all cases\n"
     ]
    }
   ],
   "source": [
    "if 0:   # false geleceğinden body bloğu işleme alınmaz\n",
    "    print(\"hello world\")\n",
    "print(\"print me in all cases\")"
   ]
  },
  {
   "cell_type": "code",
   "execution_count": null,
   "id": "f160fb71",
   "metadata": {},
   "outputs": [],
   "source": [
    "if \"0\" and \"\":   # boş stringten dolayı false geleceğinden şart bloğu altını yazdırmaz\n",
    "    print(\"hello world\")\n"
   ]
  },
  {
   "cell_type": "code",
   "execution_count": 32,
   "id": "876e3b3b",
   "metadata": {},
   "outputs": [],
   "source": [
    "if 0 or \"False\" and None:\n",
    "    print(\"hello universe\")"
   ]
  },
  {
   "cell_type": "code",
   "execution_count": 34,
   "id": "f90d6cb9",
   "metadata": {},
   "outputs": [
    {
     "data": {
      "text/plain": [
       "False"
      ]
     },
     "execution_count": 34,
     "metadata": {},
     "output_type": "execute_result"
    }
   ],
   "source": [
    "bool(None)"
   ]
  },
  {
   "cell_type": "code",
   "execution_count": 35,
   "id": "5d53c169",
   "metadata": {},
   "outputs": [
    {
     "name": "stdout",
     "output_type": "stream",
     "text": [
      "clarusway\n"
     ]
    }
   ],
   "source": [
    "if 1:\n",
    "    print(\"clarusway\")"
   ]
  },
  {
   "cell_type": "code",
   "execution_count": 36,
   "id": "eca35c3c",
   "metadata": {},
   "outputs": [
    {
     "name": "stdout",
     "output_type": "stream",
     "text": [
      "clarusway\n"
     ]
    }
   ],
   "source": [
    "if -1:\n",
    "    print(\"clarusway\")"
   ]
  },
  {
   "cell_type": "code",
   "execution_count": 37,
   "id": "f1f453f1",
   "metadata": {},
   "outputs": [
    {
     "name": "stdout",
     "output_type": "stream",
     "text": [
      "hello\n"
     ]
    }
   ],
   "source": [
    "if [\"\"]:   #dolu liste olduğundan truty\n",
    "    print(\"hello\")"
   ]
  },
  {
   "cell_type": "code",
   "execution_count": null,
   "id": "a48e28ef",
   "metadata": {},
   "outputs": [],
   "source": [
    "#hamurger yapımı"
   ]
  },
  {
   "cell_type": "code",
   "execution_count": 39,
   "id": "15a22476",
   "metadata": {},
   "outputs": [
    {
     "name": "stdout",
     "output_type": "stream",
     "text": [
      "Bon Appetit.\n"
     ]
    }
   ],
   "source": [
    "meat = True#must\n",
    "bread = True #must\n",
    "lettuce = False  # 2sinden birisi must \n",
    "pepper = True  # 2sindem birisi must\n",
    "procery_store = True # must\n",
    "if meat and bread and (lettuce or pepper) and procery_store:\n",
    "    print(\"Bon Appetit.\")"
   ]
  },
  {
   "cell_type": "code",
   "execution_count": 40,
   "id": "258b3b8c",
   "metadata": {},
   "outputs": [],
   "source": [
    "#malzemeler\n",
    "minced = True\n",
    "bread = True\n",
    "\n",
    "#green\n",
    "\n",
    "lettuce = True\n",
    "onion = False\n",
    "\n",
    "grocer = True"
   ]
  },
  {
   "cell_type": "code",
   "execution_count": 42,
   "id": "65a5a4a0",
   "metadata": {},
   "outputs": [],
   "source": [
    "hamburger = minced and grocer and bread and (lettuce or onion)"
   ]
  },
  {
   "cell_type": "code",
   "execution_count": 43,
   "id": "6c43460f",
   "metadata": {},
   "outputs": [
    {
     "name": "stdout",
     "output_type": "stream",
     "text": [
      "Bon Appetit.\n"
     ]
    }
   ],
   "source": [
    "if hamburger:\n",
    "    print(\"Bon Appetit.\")"
   ]
  },
  {
   "cell_type": "code",
   "execution_count": 44,
   "id": "d8bf685b",
   "metadata": {},
   "outputs": [
    {
     "data": {
      "text/plain": [
       "True"
      ]
     },
     "execution_count": 44,
     "metadata": {},
     "output_type": "execute_result"
    }
   ],
   "source": [
    "1 == 1.0"
   ]
  },
  {
   "cell_type": "code",
   "execution_count": 45,
   "id": "34d557ca",
   "metadata": {},
   "outputs": [
    {
     "data": {
      "text/plain": [
       "True"
      ]
     },
     "execution_count": 45,
     "metadata": {},
     "output_type": "execute_result"
    }
   ],
   "source": [
    "3 >= 3"
   ]
  },
  {
   "cell_type": "code",
   "execution_count": 46,
   "id": "2390e3fc",
   "metadata": {},
   "outputs": [
    {
     "name": "stdout",
     "output_type": "stream",
     "text": [
      "veli\n"
     ]
    }
   ],
   "source": [
    "if \"ali\" != \"deli\":\n",
    "    print(\"veli\")"
   ]
  },
  {
   "cell_type": "code",
   "execution_count": 47,
   "id": "d2c58ef5",
   "metadata": {},
   "outputs": [],
   "source": [
    "if \"ali\" == \"Ali\" :\n",
    "    print(\"deli\")"
   ]
  },
  {
   "cell_type": "code",
   "execution_count": 48,
   "id": "07f4195a",
   "metadata": {},
   "outputs": [
    {
     "name": "stdout",
     "output_type": "stream",
     "text": [
      "birşey yaz :1\n"
     ]
    },
    {
     "data": {
      "text/plain": [
       "str"
      ]
     },
     "execution_count": 48,
     "metadata": {},
     "output_type": "execute_result"
    }
   ],
   "source": [
    "type(input(\"birşey yaz :\"))   # input fonksiyonu her zaman string alır."
   ]
  },
  {
   "cell_type": "code",
   "execution_count": 49,
   "id": "5a2fa9ea",
   "metadata": {},
   "outputs": [
    {
     "name": "stdout",
     "output_type": "stream",
     "text": [
      "We are the same\n"
     ]
    }
   ],
   "source": [
    "a = set(\"TWELVE PLUS ONE\")\n",
    "b = set(\"ELEVEN PLUS TWO\")\n",
    "if a == b:\n",
    "    print(\"We are the same\")"
   ]
  },
  {
   "cell_type": "code",
   "execution_count": 52,
   "id": "f8d54bf7",
   "metadata": {},
   "outputs": [
    {
     "name": "stdout",
     "output_type": "stream",
     "text": [
      "enter yes/nono\n",
      "You entered No\n"
     ]
    }
   ],
   "source": [
    "yesno = bool(input(\"enter yes/no\"))\n",
    "\n",
    "if yesno == \"yes\":\n",
    "    print(\"You entered True\")\n",
    "if yesno != \"no\":\n",
    "    print(\"You entered No\")"
   ]
  },
  {
   "cell_type": "code",
   "execution_count": 55,
   "id": "189f6d8f",
   "metadata": {},
   "outputs": [
    {
     "ename": "SyntaxError",
     "evalue": "invalid syntax (<ipython-input-55-55b496238ba6>, line 4)",
     "output_type": "error",
     "traceback": [
      "\u001b[1;36m  File \u001b[1;32m\"<ipython-input-55-55b496238ba6>\"\u001b[1;36m, line \u001b[1;32m4\u001b[0m\n\u001b[1;33m    print(f\"You entered {input(\"Enter Yes or No : \").title().strip() == \"Yes\"}\")\u001b[0m\n\u001b[1;37m                                ^\u001b[0m\n\u001b[1;31mSyntaxError\u001b[0m\u001b[1;31m:\u001b[0m invalid syntax\n"
     ]
    }
   ],
   "source": [
    "convert = input(\"Enter Yes or No : \").title().strip() == \"Yes\"\n",
    "print(convert)\n",
    "print(type(convert))\n"
   ]
  },
  {
   "cell_type": "code",
   "execution_count": 56,
   "id": "230382eb",
   "metadata": {},
   "outputs": [
    {
     "name": "stdout",
     "output_type": "stream",
     "text": [
      "Enter Yes or No : No\n",
      "You entered False\n"
     ]
    }
   ],
   "source": [
    "print(f\"You entered {input('Enter Yes or No : ').title().strip() == 'Yes'}\")"
   ]
  },
  {
   "cell_type": "code",
   "execution_count": null,
   "id": "60370357",
   "metadata": {},
   "outputs": [],
   "source": []
  }
 ],
 "metadata": {
  "kernelspec": {
   "display_name": "Python 3",
   "language": "python",
   "name": "python3"
  },
  "language_info": {
   "codemirror_mode": {
    "name": "ipython",
    "version": 3
   },
   "file_extension": ".py",
   "mimetype": "text/x-python",
   "name": "python",
   "nbconvert_exporter": "python",
   "pygments_lexer": "ipython3",
   "version": "3.8.8"
  }
 },
 "nbformat": 4,
 "nbformat_minor": 5
}
