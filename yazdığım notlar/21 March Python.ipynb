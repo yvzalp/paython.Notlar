{
 "cells": [
  {
   "cell_type": "markdown",
   "id": "271b901e",
   "metadata": {},
   "source": []
  },
  {
   "cell_type": "code",
   "execution_count": 16,
   "id": "a4bda818",
   "metadata": {},
   "outputs": [
    {
     "name": "stdout",
     "output_type": "stream",
     "text": [
      "['a', 'e', 'i']\n"
     ]
    }
   ],
   "source": [
    "first_ten = [\"a\", \"b\", \"c\", \"d\", \"e\", \"f\", \"g\", \"h\", \"i\", \"j\"]    # benim çözüm\n",
    "new_list = list(\"aeıiüoöu\")\n",
    "new_list = list(filter(lambda x : x in new_list , first_ten))\n",
    "print(new_list)"
   ]
  },
  {
   "cell_type": "code",
   "execution_count": 12,
   "id": "268ad3f8",
   "metadata": {},
   "outputs": [],
   "source": [
    "first_ten = [\"a\", \"b\", \"c\", \"d\", \"e\", \"f\", \"g\", \"h\", \"i\", \"j\"]\n",
    "vowel_list = [\"a\", \"e\", \"i\", \"o\", \"u\"]"
   ]
  },
  {
   "cell_type": "code",
   "execution_count": 17,
   "id": "da36a07d",
   "metadata": {},
   "outputs": [],
   "source": [
    "# fonk = lambda x : True if x in vowel_list else False     => bu uzun yolu\n",
    "# fonk = lambda x : x in vowel_list    => bu da kısa yolu\n",
    "\n",
    "vowels = filter(lambda x : x in vowel_list , first_ten)\n"
   ]
  },
  {
   "cell_type": "code",
   "execution_count": 18,
   "id": "0b6e2ce2",
   "metadata": {},
   "outputs": [
    {
     "data": {
      "text/plain": [
       "['a', 'e', 'i']"
      ]
     },
     "execution_count": 18,
     "metadata": {},
     "output_type": "execute_result"
    }
   ],
   "source": [
    "list(vowels)"
   ]
  },
  {
   "cell_type": "markdown",
   "id": "a3f0073d",
   "metadata": {},
   "source": [
    " # Lambda Within User-Defined Functions\n",
    " "
   ]
  },
  {
   "cell_type": "code",
   "execution_count": 23,
   "id": "2f3537bd",
   "metadata": {},
   "outputs": [
    {
     "name": "stdout",
     "output_type": "stream",
     "text": [
      "4\n",
      "8\n",
      "16\n"
     ]
    }
   ],
   "source": [
    "def modular_function(n) :\n",
    "    return lambda x : x ** n\n",
    "\n",
    "power_of_2 = modular_function(2)\n",
    "power_of_3 = modular_function(3)\n",
    "power_of_4 = modular_function(4)\n",
    "\n",
    "print(power_of_2(2))\n",
    "print(power_of_3(2))\n",
    "print(power_of_4(2))"
   ]
  },
  {
   "cell_type": "markdown",
   "id": "99d1b54b",
   "metadata": {},
   "source": [
    "modular(2) --> bu fonksiyonun içindeki return lambda x: x**n kodu gereği; n,  2 değerini alacaktır ve lambdanın alacağı parametrenin (x'in) karesini return edecektir. Bunu eğer karesini_al gibi bir değişkene atarsak ve o değişkeni çağırken yanına x parametresine gidecek şekilde örneğin (5) yazarsak o zaman fonksiyon tıpkı şunu yapacaktır: (lambda x: x ** 2) (5) :scream: Yani lambda fonksiyonundaki x yerine 5 gidecektir ve modular() fonksiyonunda n, 2 değerini aldığı için 5'in karesini alacaktır."
   ]
  },
  {
   "cell_type": "code",
   "execution_count": 24,
   "id": "249f0a33",
   "metadata": {},
   "outputs": [],
   "source": [
    "def modular(n) :\n",
    "    return lambda x : x ** n"
   ]
  },
  {
   "cell_type": "code",
   "execution_count": 25,
   "id": "623605c1",
   "metadata": {},
   "outputs": [
    {
     "data": {
      "text/plain": [
       "<function __main__.modular.<locals>.<lambda>(x)>"
      ]
     },
     "execution_count": 25,
     "metadata": {},
     "output_type": "execute_result"
    }
   ],
   "source": [
    "kupunual = modular(3)\n",
    "kupunual"
   ]
  },
  {
   "cell_type": "code",
   "execution_count": 28,
   "id": "c0461acd",
   "metadata": {},
   "outputs": [
    {
     "data": {
      "text/plain": [
       "64"
      ]
     },
     "execution_count": 28,
     "metadata": {},
     "output_type": "execute_result"
    }
   ],
   "source": [
    "(lambda x : x ** 3)(4)"
   ]
  },
  {
   "cell_type": "code",
   "execution_count": 29,
   "id": "af98f7e4",
   "metadata": {},
   "outputs": [
    {
     "data": {
      "text/plain": [
       "64"
      ]
     },
     "execution_count": 29,
     "metadata": {},
     "output_type": "execute_result"
    }
   ],
   "source": [
    "kupunual(4)   # kupunual adında bir fonksiyon düşünülebilir"
   ]
  },
  {
   "cell_type": "code",
   "execution_count": 31,
   "id": "b87b11f8",
   "metadata": {},
   "outputs": [
    {
     "name": "stdout",
     "output_type": "stream",
     "text": [
      "ali ali \n",
      "veli veli veli \n"
     ]
    }
   ],
   "source": [
    "def repeater(n) :   # benim çözüm\n",
    "    return lambda x : x * n \n",
    "two = repeater(2)\n",
    "three = repeater(3)\n",
    "print(two(\"ali \"))\n",
    "print(three(\"veli \"))"
   ]
  },
  {
   "cell_type": "code",
   "execution_count": 34,
   "id": "a7686739",
   "metadata": {},
   "outputs": [
    {
     "name": "stdout",
     "output_type": "stream",
     "text": [
      "hello :)\n",
      "hello :)\n",
      "hello :|\n"
     ]
    }
   ],
   "source": [
    "def functioner(n) :    # benim çözüm\n",
    "    return lambda x :  x + n\n",
    "my_print_smile = functioner(\" :)\")\n",
    "my_print_sad = functioner(\" :(\")\n",
    "my_print_neutral = functioner(\" :|\")\n",
    "\n",
    "print(my_print_smile(\"hello\"))\n",
    "print(my_print_smile(\"hello\"))\n",
    "print(my_print_neutral(\"hello\"))"
   ]
  },
  {
   "cell_type": "code",
   "execution_count": 35,
   "id": "787f92db",
   "metadata": {},
   "outputs": [],
   "source": [
    "def functioner(emoji = None) :\n",
    "    return lambda message : print(message, emoji)\n"
   ]
  },
  {
   "cell_type": "code",
   "execution_count": 37,
   "id": "c4486917",
   "metadata": {},
   "outputs": [
    {
     "name": "stdout",
     "output_type": "stream",
     "text": [
      "ali :)\n"
     ]
    }
   ],
   "source": [
    "gulen_yuz = functioner(\":)\")\n",
    "gulen_yuz(\"ali\")"
   ]
  },
  {
   "cell_type": "code",
   "execution_count": 39,
   "id": "79ad149f",
   "metadata": {},
   "outputs": [
    {
     "name": "stdout",
     "output_type": "stream",
     "text": [
      "[1, 2, 3] :)\n"
     ]
    }
   ],
   "source": [
    "gulen_yuz([1, 2, 3])"
   ]
  },
  {
   "cell_type": "code",
   "execution_count": 40,
   "id": "f363fa05",
   "metadata": {},
   "outputs": [],
   "source": [
    "uzgun_yuz = functioner(\":(\")"
   ]
  },
  {
   "cell_type": "code",
   "execution_count": 41,
   "id": "0097c5e4",
   "metadata": {},
   "outputs": [
    {
     "name": "stdout",
     "output_type": "stream",
     "text": [
      "66 :(\n"
     ]
    }
   ],
   "source": [
    "uzgun_yuz(66)"
   ]
  },
  {
   "cell_type": "code",
   "execution_count": 43,
   "id": "1d2910a6",
   "metadata": {},
   "outputs": [
    {
     "name": "stdout",
     "output_type": "stream",
     "text": [
      "66 :(\n"
     ]
    }
   ],
   "source": [
    "(lambda x : print(x, \":(\"))(66)"
   ]
  },
  {
   "cell_type": "markdown",
   "id": "4118bb4b",
   "metadata": {},
   "source": [
    "ali_print()  => aliye özel print fonksiyonu\n",
    "ali_max()  => kişiye özel max fonksiyonu\n",
    "ali_bool()  => kişiye özel bool fonksiyonu"
   ]
  },
  {
   "cell_type": "code",
   "execution_count": 56,
   "id": "34e2d90f",
   "metadata": {},
   "outputs": [
    {
     "name": "stdout",
     "output_type": "stream",
     "text": [
      "4\n",
      "[1, 2, 4, 5, 6, 82]\n"
     ]
    }
   ],
   "source": [
    "def function_generator(funk_name) :    # benim çözüm...\n",
    "    return lambda x : funk_name(x)\n",
    "\n",
    "maxim = function_generator(max)\n",
    "sorted1 = function_generator(sorted)\n",
    "\n",
    "print(maxim((1,2,3,4)))\n",
    "print(sorted1([1,2,82,4,5,6]))"
   ]
  },
  {
   "cell_type": "code",
   "execution_count": 57,
   "id": "efb899ae",
   "metadata": {},
   "outputs": [],
   "source": [
    "def funktion_generator(function_name) :\n",
    "    return lambda x : function_name(x) "
   ]
  },
  {
   "cell_type": "code",
   "execution_count": 58,
   "id": "6ba10d63",
   "metadata": {},
   "outputs": [],
   "source": [
    "benim_print = funktion_generator(print)"
   ]
  },
  {
   "cell_type": "code",
   "execution_count": 59,
   "id": "02a6b85f",
   "metadata": {},
   "outputs": [
    {
     "name": "stdout",
     "output_type": "stream",
     "text": [
      "99\n"
     ]
    }
   ],
   "source": [
    "benim_print(99)    "
   ]
  },
  {
   "cell_type": "code",
   "execution_count": 62,
   "id": "69053885",
   "metadata": {},
   "outputs": [],
   "source": [
    "joseph_sorted = funktion_generator(sorted)"
   ]
  },
  {
   "cell_type": "code",
   "execution_count": 63,
   "id": "d9c1d77e",
   "metadata": {},
   "outputs": [],
   "source": [
    "joseph_max = funktion_generator(max)"
   ]
  },
  {
   "cell_type": "code",
   "execution_count": 64,
   "id": "6ca07027",
   "metadata": {},
   "outputs": [],
   "source": [
    "joseph_bool = funktion_generator(bool)"
   ]
  },
  {
   "cell_type": "code",
   "execution_count": 65,
   "id": "f5a5e5d9",
   "metadata": {},
   "outputs": [
    {
     "data": {
      "text/plain": [
       "True"
      ]
     },
     "execution_count": 65,
     "metadata": {},
     "output_type": "execute_result"
    }
   ],
   "source": [
    "joseph_bool(1)"
   ]
  },
  {
   "cell_type": "code",
   "execution_count": 61,
   "id": "c4fb3d6f",
   "metadata": {},
   "outputs": [
    {
     "name": "stdout",
     "output_type": "stream",
     "text": [
      "(1, 2)\n"
     ]
    }
   ],
   "source": [
    "def funktion_generator1(function_name) :\n",
    "    return lambda *args : function_name(args) \n",
    "a = funktion_generator1(print)\n",
    "a(1,2)"
   ]
  },
  {
   "cell_type": "markdown",
   "id": "78fa2224",
   "metadata": {},
   "source": [
    "``` python\n",
    "def function_generator(function_name):,\n",
    "    return lambda x : function_name(x)\n",
    "```\n",
    "- Tüm fonksiyonlar parantez ile kullanılırlar. Yukardaki soruda da fonksiyonların syntax'indeki fonksiyon_adı ( )               özelliğini kullandık. Aslında function_generator adıyla oluşturduğumuz fonksiyonda (x) in önüne fonksiyon adını             koymaktan başka bir şey yapmadık aslında."
   ]
  },
  {
   "cell_type": "code",
   "execution_count": 66,
   "id": "14ef641c",
   "metadata": {},
   "outputs": [],
   "source": [
    "def x() :\n",
    "    return 1, 2, 3, 4"
   ]
  },
  {
   "cell_type": "code",
   "execution_count": 67,
   "id": "7caa3d15",
   "metadata": {},
   "outputs": [
    {
     "data": {
      "text/plain": [
       "tuple"
      ]
     },
     "execution_count": 67,
     "metadata": {},
     "output_type": "execute_result"
    }
   ],
   "source": [
    "type(x())"
   ]
  },
  {
   "cell_type": "code",
   "execution_count": 68,
   "id": "1384e5ac",
   "metadata": {},
   "outputs": [],
   "source": [
    "a, b, c, d = x()    # => bu tarz atama yapılabilir. returnden gelen değişkenleri teker teker atar."
   ]
  },
  {
   "cell_type": "code",
   "execution_count": 70,
   "id": "89201765",
   "metadata": {},
   "outputs": [
    {
     "data": {
      "text/plain": [
       "3"
      ]
     },
     "execution_count": 70,
     "metadata": {},
     "output_type": "execute_result"
    }
   ],
   "source": [
    "c"
   ]
  },
  {
   "cell_type": "code",
   "execution_count": 71,
   "id": "7bf88121",
   "metadata": {},
   "outputs": [],
   "source": [
    "num = [1, 4, 4]"
   ]
  },
  {
   "cell_type": "code",
   "execution_count": 73,
   "id": "e59ced6b",
   "metadata": {},
   "outputs": [
    {
     "data": {
      "text/plain": [
       "1"
      ]
     },
     "execution_count": 73,
     "metadata": {},
     "output_type": "execute_result"
    }
   ],
   "source": [
    "num.count(1)"
   ]
  },
  {
   "cell_type": "code",
   "execution_count": 74,
   "id": "e1d7d0ef",
   "metadata": {},
   "outputs": [
    {
     "data": {
      "text/plain": [
       "2"
      ]
     },
     "execution_count": 74,
     "metadata": {},
     "output_type": "execute_result"
    }
   ],
   "source": [
    "num.count(4)"
   ]
  },
  {
   "cell_type": "code",
   "execution_count": 72,
   "id": "bffc2444",
   "metadata": {},
   "outputs": [
    {
     "data": {
      "text/plain": [
       "4"
      ]
     },
     "execution_count": 72,
     "metadata": {},
     "output_type": "execute_result"
    }
   ],
   "source": [
    "max(num, key = num.count)"
   ]
  },
  {
   "cell_type": "code",
   "execution_count": 76,
   "id": "c6faea41",
   "metadata": {},
   "outputs": [
    {
     "data": {
      "text/plain": [
       "2"
      ]
     },
     "execution_count": 76,
     "metadata": {},
     "output_type": "execute_result"
    }
   ],
   "source": [
    "tekrar_sayısı = num.count(max(num, key = num.count))\n",
    "tekrar_sayısı"
   ]
  },
  {
   "cell_type": "code",
   "execution_count": 96,
   "id": "a119e2f4",
   "metadata": {},
   "outputs": [
    {
     "name": "stdout",
     "output_type": "stream",
     "text": [
      "0\n",
      "3\n"
     ]
    }
   ],
   "source": [
    "def repeat(*args) :    # benim çözüm\n",
    "    num = list(args)\n",
    "    tekrar_sayisi = num.count(max(args, key = args.count))\n",
    "    if tekrar_sayisi == 1 : \n",
    "        return 0\n",
    "    else:\n",
    "        return tekrar_sayisi\n",
    "print(repeat(1,2,3))\n",
    "print(repeat(1,1,1))"
   ]
  },
  {
   "cell_type": "code",
   "execution_count": 93,
   "id": "47d03898",
   "metadata": {},
   "outputs": [],
   "source": [
    "def equal(a,b,c) :\n",
    "    num = [a, b, c]\n",
    "    sonuc = num.count(max(num, key = num.count))\n",
    "    if sonuc > 1 :\n",
    "        return sonuc\n",
    "    else : \n",
    "        return 0"
   ]
  },
  {
   "cell_type": "code",
   "execution_count": 94,
   "id": "1cf593dc",
   "metadata": {},
   "outputs": [
    {
     "data": {
      "text/plain": [
       "0"
      ]
     },
     "execution_count": 94,
     "metadata": {},
     "output_type": "execute_result"
    }
   ],
   "source": [
    "equal(1,2,3)"
   ]
  },
  {
   "cell_type": "code",
   "execution_count": 95,
   "id": "6871d0c7",
   "metadata": {
    "scrolled": true
   },
   "outputs": [
    {
     "data": {
      "text/plain": [
       "2"
      ]
     },
     "execution_count": 95,
     "metadata": {},
     "output_type": "execute_result"
    }
   ],
   "source": [
    "equal(1,4,4)"
   ]
  },
  {
   "cell_type": "code",
   "execution_count": 97,
   "id": "20233c82",
   "metadata": {},
   "outputs": [],
   "source": [
    "def equall(* arg) :\n",
    "    num = list(arg)\n",
    "    sonuc = num.count(max(num, key = num.count))\n",
    "    if sonuc > 1 :\n",
    "        return sonuc\n",
    "    else : \n",
    "        return 0"
   ]
  },
  {
   "cell_type": "code",
   "execution_count": null,
   "id": "034b09cc",
   "metadata": {},
   "outputs": [],
   "source": []
  },
  {
   "cell_type": "code",
   "execution_count": null,
   "id": "589a0f1b",
   "metadata": {},
   "outputs": [],
   "source": []
  },
  {
   "cell_type": "code",
   "execution_count": null,
   "id": "ff3fb0b1",
   "metadata": {},
   "outputs": [],
   "source": []
  },
  {
   "cell_type": "code",
   "execution_count": 100,
   "id": "6b53b3af",
   "metadata": {},
   "outputs": [
    {
     "data": {
      "text/plain": [
       "4"
      ]
     },
     "execution_count": 100,
     "metadata": {},
     "output_type": "execute_result"
    }
   ],
   "source": [
    "equall(1,2,1,1,1,4,3)"
   ]
  },
  {
   "cell_type": "code",
   "execution_count": 108,
   "id": "218dd97c",
   "metadata": {},
   "outputs": [],
   "source": [
    "equalambda = lambda a, b, c : [a,b,c].count(max([a,b,c], key = [a,b,c].count))   # benim çözümm.."
   ]
  },
  {
   "cell_type": "code",
   "execution_count": 109,
   "id": "e6a96b1e",
   "metadata": {},
   "outputs": [
    {
     "data": {
      "text/plain": [
       "2"
      ]
     },
     "execution_count": 109,
     "metadata": {},
     "output_type": "execute_result"
    }
   ],
   "source": [
    "equalambda(1,2,2)"
   ]
  },
  {
   "cell_type": "code",
   "execution_count": 110,
   "id": "e9a6f6d2",
   "metadata": {},
   "outputs": [],
   "source": [
    "equallamba = lambda x, y, z : [x, y, z].count(max([x, y, z], key = [x, y, z].count))"
   ]
  },
  {
   "cell_type": "code",
   "execution_count": 111,
   "id": "c75bd172",
   "metadata": {},
   "outputs": [
    {
     "data": {
      "text/plain": [
       "2"
      ]
     },
     "execution_count": 111,
     "metadata": {},
     "output_type": "execute_result"
    }
   ],
   "source": [
    "equallamba(1,4,4)"
   ]
  },
  {
   "cell_type": "code",
   "execution_count": 112,
   "id": "c0673938",
   "metadata": {},
   "outputs": [
    {
     "data": {
      "text/plain": [
       "1"
      ]
     },
     "execution_count": 112,
     "metadata": {},
     "output_type": "execute_result"
    }
   ],
   "source": [
    "equallamba(1,2,3)"
   ]
  },
  {
   "cell_type": "code",
   "execution_count": 113,
   "id": "74011970",
   "metadata": {},
   "outputs": [],
   "source": [
    "equallamda = lambda x, y, z : [x, y, z].count(max([x, y, z], key = [x, y, z].count))\\\n",
    "if [x, y, z].count(max([x, y, z], key = [x, y, z].count)) > 1 else 0    # koda if else ekledik..."
   ]
  },
  {
   "cell_type": "code",
   "execution_count": 114,
   "id": "49ef0997",
   "metadata": {},
   "outputs": [
    {
     "data": {
      "text/plain": [
       "0"
      ]
     },
     "execution_count": 114,
     "metadata": {},
     "output_type": "execute_result"
    }
   ],
   "source": [
    "equallamda(1,2,3)"
   ]
  },
  {
   "cell_type": "code",
   "execution_count": 116,
   "id": "9ed7d73d",
   "metadata": {},
   "outputs": [
    {
     "data": {
      "text/plain": [
       "3"
      ]
     },
     "execution_count": 116,
     "metadata": {},
     "output_type": "execute_result"
    }
   ],
   "source": [
    "equallamda(1, 1, 1)"
   ]
  },
  {
   "cell_type": "code",
   "execution_count": 121,
   "id": "07b121f9",
   "metadata": {},
   "outputs": [],
   "source": [
    "equallamda1 = lambda *args : args.count(max(args, key = args.count))\\\n",
    "if args.count(max(args, key = args.count)) > 1 else 0     # benim çözüm..."
   ]
  },
  {
   "cell_type": "code",
   "execution_count": 122,
   "id": "40b8f770",
   "metadata": {},
   "outputs": [
    {
     "data": {
      "text/plain": [
       "3"
      ]
     },
     "execution_count": 122,
     "metadata": {},
     "output_type": "execute_result"
    }
   ],
   "source": [
    "equallamda1(1,2,3,3,2,3,1)"
   ]
  },
  {
   "cell_type": "code",
   "execution_count": 125,
   "id": "ab2143b2",
   "metadata": {},
   "outputs": [],
   "source": [
    "equallamda2 = lambda *x : list(x).count(max(list(x), key = list(x).count))\\\n",
    "if list(x).count(max(list(x), key = list(x).count)) > 1 else 0 "
   ]
  },
  {
   "cell_type": "code",
   "execution_count": 126,
   "id": "48125d71",
   "metadata": {},
   "outputs": [
    {
     "data": {
      "text/plain": [
       "3"
      ]
     },
     "execution_count": 126,
     "metadata": {},
     "output_type": "execute_result"
    }
   ],
   "source": [
    "equallamda2(1,2,3,3,2,3,1)"
   ]
  },
  {
   "cell_type": "markdown",
   "id": "5fe866ff",
   "metadata": {},
   "source": [
    "# colab unzip\n",
    "import zipfile\n",
    "with zipfile.ZipFile(\"/content/upper_package.zip\", 'r') as zip_ref:\n",
    "  zip_ref.extractall(\"upper_package\")"
   ]
  },
  {
   "cell_type": "code",
   "execution_count": null,
   "id": "33849f74",
   "metadata": {},
   "outputs": [],
   "source": []
  },
  {
   "cell_type": "code",
   "execution_count": null,
   "id": "893805f9",
   "metadata": {},
   "outputs": [],
   "source": []
  },
  {
   "cell_type": "code",
   "execution_count": null,
   "id": "42a3f583",
   "metadata": {},
   "outputs": [],
   "source": []
  },
  {
   "cell_type": "code",
   "execution_count": null,
   "id": "3301ca65",
   "metadata": {},
   "outputs": [],
   "source": []
  },
  {
   "cell_type": "code",
   "execution_count": null,
   "id": "7ad7a119",
   "metadata": {},
   "outputs": [],
   "source": []
  },
  {
   "cell_type": "code",
   "execution_count": null,
   "id": "c7f3586b",
   "metadata": {},
   "outputs": [],
   "source": []
  },
  {
   "cell_type": "code",
   "execution_count": null,
   "id": "96efb149",
   "metadata": {},
   "outputs": [],
   "source": []
  },
  {
   "cell_type": "code",
   "execution_count": null,
   "id": "536f7808",
   "metadata": {},
   "outputs": [],
   "source": []
  }
 ],
 "metadata": {
  "kernelspec": {
   "display_name": "Python 3",
   "language": "python",
   "name": "python3"
  },
  "language_info": {
   "codemirror_mode": {
    "name": "ipython",
    "version": 3
   },
   "file_extension": ".py",
   "mimetype": "text/x-python",
   "name": "python",
   "nbconvert_exporter": "python",
   "pygments_lexer": "ipython3",
   "version": "3.8.8"
  }
 },
 "nbformat": 4,
 "nbformat_minor": 5
}
