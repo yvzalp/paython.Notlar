{
 "cells": [
  {
   "cell_type": "code",
   "execution_count": 7,
   "id": "39883c6b",
   "metadata": {},
   "outputs": [
    {
     "name": "stdout",
     "output_type": "stream",
     "text": [
      "aracınız kaç gündür trafikte: 5641\n",
      "hatalı süre.\n"
     ]
    }
   ],
   "source": [
    "days = int(input(\"aracınız kaç gündür trafikte: \"))\n",
    "if days <= 365:\n",
    "    print(\"1.servis aralığı\")\n",
    "elif days > 365 and days <= 365 * 2:\n",
    "    print(\"2.servis aralığı\")\n",
    "elif days > 365 * 2 and days < 365 * 3:\n",
    "    print(\"3.servis aralığı\")\n",
    "else:\n",
    "    print(\"hatalı süre.\")"
   ]
  },
  {
   "cell_type": "code",
   "execution_count": 9,
   "id": "6b6d0d7c",
   "metadata": {},
   "outputs": [
    {
     "name": "stdout",
     "output_type": "stream",
     "text": [
      "aracınız hangi tarihte trafiğe çıktı: 2017/8/9\n",
      "1649\n"
     ]
    }
   ],
   "source": [
    "import datetime\n",
    "tarih = input(\"aracınız hangi tarihte trafiğe çıktı: \")  # 2019/8ay/9gün\n",
    "tarih = tarih.split(\"/\")\n",
    "#print(tarih[0])\n",
    "#print(tarih[1])\n",
    "#print(tarih[2])\n",
    "trafige_cikis = datetime.datetime(int(tarih[0]), int(tarih[1]), int(tarih[2]))\n",
    "simdi = datetime.datetime.now()\n",
    "fark = simdi - trafige_cikis\n",
    "days = fark.days\n",
    "print(days)"
   ]
  },
  {
   "cell_type": "code",
   "execution_count": null,
   "id": "740d0a71",
   "metadata": {},
   "outputs": [],
   "source": []
  }
 ],
 "metadata": {
  "kernelspec": {
   "display_name": "Python 3",
   "language": "python",
   "name": "python3"
  },
  "language_info": {
   "codemirror_mode": {
    "name": "ipython",
    "version": 3
   },
   "file_extension": ".py",
   "mimetype": "text/x-python",
   "name": "python",
   "nbconvert_exporter": "python",
   "pygments_lexer": "ipython3",
   "version": "3.8.8"
  }
 },
 "nbformat": 4,
 "nbformat_minor": 5
}
