{
 "cells": [
  {
   "cell_type": "markdown",
   "id": "48ffea40",
   "metadata": {},
   "source": [
    "f string metodu f'string {variable1}string {variable2} string'\n",
    "- {} içerisinde işlem yapılabilir\n",
    "- f string te parantez ile alt satırlara inilebilir aynı \\ gibi sonuç verir. \n",
    "- \\ kullanılırsa parantez içine almaya gerek yok sadece ilkine f yazmak yeterli olur her satırada yazılabilir \n",
    "- string leri ancak başka bir değişkene atanarak değiştirilebilir. Immutability\n",
    "- string.lower() .upper() .capitalize() .swapcase .title() \n",
    "- str.strip() str.rstrip() str.lstrip() .strip başından ve sonundaki tüm boşlukları ve escape sequence'ları siler. r sağ l sol \n",
    "- str.replace(old, new[, count])   texti değiştirmek sadece bir seferlik kullanımda değiştirir aşağıda örneği var. Birden fazla aynı karakter varsa hepsini değiştirir.\n",
    "- startswith() and endswith()   text içinde karakter aramamızı sağlar.start başta arar. end sonda arar.\n",
    "- string.method1().method2... birden fazla method yazılabilir."
   ]
  },
  {
   "cell_type": "code",
   "execution_count": null,
   "id": "dfd06c9d",
   "metadata": {},
   "outputs": [],
   "source": [
    "a = f\"{2 ** 3}\"\n",
    "a"
   ]
  },
  {
   "cell_type": "code",
   "execution_count": null,
   "id": "83f513eb",
   "metadata": {},
   "outputs": [],
   "source": [
    "name = \"jogn\"\n",
    "job  = \"teachers\"\n",
    "domain = \"data\"\n",
    "message = (\n",
    "    f\"Hi {name}.\"\n",
    "    f\"You are one of the {job} \"\n",
    "    f\"in the {domain} servise\"\n",
    ")\n",
    "print(message)"
   ]
  },
  {
   "cell_type": "code",
   "execution_count": null,
   "id": "0459732d",
   "metadata": {},
   "outputs": [],
   "source": [
    "name = \"jogn\"\n",
    "job  = \"teachers\"\n",
    "domain = \"data\"\n",
    "message = f\"Hi {name}.\" \\\n",
    "    \"You are one of the {job} \" \\\n",
    "    \"in the {domain} servise\"\n",
    "print(message)"
   ]
  },
  {
   "cell_type": "code",
   "execution_count": null,
   "id": "73e9d5b3",
   "metadata": {},
   "outputs": [],
   "source": [
    "name = \"Susan\"\n",
    "age = \"young\"\n",
    "gender = \"lady\"\n",
    "school = \"CLRWY IY university\"\n",
    "output = (\n",
    "    f\"{name} is a {age}\"\n",
    "    f\"{gender} and she is a student\"\n",
    "    f\" {school}\"\n",
    ")\n",
    "print(output)"
   ]
  },
  {
   "cell_type": "code",
   "execution_count": 3,
   "id": "5459fa14",
   "metadata": {},
   "outputs": [
    {
     "data": {
      "text/plain": [
       "3"
      ]
     },
     "execution_count": 3,
     "metadata": {},
     "output_type": "execute_result"
    }
   ],
   "source": [
    "\"qweada\".find(\"a\")"
   ]
  },
  {
   "cell_type": "code",
   "execution_count": 5,
   "id": "3bc6f391",
   "metadata": {},
   "outputs": [
    {
     "data": {
      "text/plain": [
       "'clarusway'"
      ]
     },
     "execution_count": 5,
     "metadata": {},
     "output_type": "execute_result"
    }
   ],
   "source": [
    "text = \"Clarusway\"\n",
    "text.replace(\"C\",\"c\")"
   ]
  },
  {
   "cell_type": "code",
   "execution_count": 6,
   "id": "441f1b79",
   "metadata": {},
   "outputs": [
    {
     "data": {
      "text/plain": [
       "'Clarusway'"
      ]
     },
     "execution_count": 6,
     "metadata": {},
     "output_type": "execute_result"
    }
   ],
   "source": [
    "text"
   ]
  },
  {
   "cell_type": "code",
   "execution_count": 7,
   "id": "2754b135",
   "metadata": {},
   "outputs": [
    {
     "data": {
      "text/plain": [
       "'Cl*rusw*y'"
      ]
     },
     "execution_count": 7,
     "metadata": {},
     "output_type": "execute_result"
    }
   ],
   "source": [
    "text.replace(\"a\",\"*\")"
   ]
  },
  {
   "cell_type": "code",
   "execution_count": 13,
   "id": "e4b62ceb",
   "metadata": {},
   "outputs": [
    {
     "data": {
      "text/plain": [
       "'cl--ruaw--y'"
      ]
     },
     "execution_count": 13,
     "metadata": {},
     "output_type": "execute_result"
    }
   ],
   "source": [
    "text.upper().lower().replace(\"a\", \"--\").replace(\"s\", \"a\")"
   ]
  },
  {
   "cell_type": "code",
   "execution_count": 15,
   "id": "d10a0521",
   "metadata": {},
   "outputs": [
    {
     "name": "stdout",
     "output_type": "stream",
     "text": [
      "listen first\n"
     ]
    }
   ],
   "source": [
    "space_string = \"              listen first         \"\n",
    "print(space_string.strip())"
   ]
  },
  {
   "cell_type": "code",
   "execution_count": 17,
   "id": "d4dba338",
   "metadata": {},
   "outputs": [
    {
     "data": {
      "text/plain": [
       "'              listen first         '"
      ]
     },
     "execution_count": 17,
     "metadata": {},
     "output_type": "execute_result"
    }
   ],
   "source": [
    "space_string #stringi değiştirmez atama yapamadığımızdan dolayı"
   ]
  },
  {
   "cell_type": "code",
   "execution_count": 18,
   "id": "74f8575d",
   "metadata": {},
   "outputs": [
    {
     "name": "stdout",
     "output_type": "stream",
     "text": [
      "nteroperabilit\n"
     ]
    }
   ],
   "source": [
    "string_1 = \"interoperability\"\n",
    "print(string_1.strip(\"yi\")) #strip bütün kombinasyolara bakar y i yi veya iy hepsini tırpanlar"
   ]
  },
  {
   "cell_type": "code",
   "execution_count": 20,
   "id": "a1438c26",
   "metadata": {},
   "outputs": [
    {
     "name": "stdout",
     "output_type": "stream",
     "text": [
      "tre\n"
     ]
    }
   ],
   "source": [
    "deneme = \"ininintre\"\n",
    "print(deneme.strip(\"in\"))"
   ]
  },
  {
   "cell_type": "code",
   "execution_count": null,
   "id": "f090df8f",
   "metadata": {},
   "outputs": [],
   "source": []
  }
 ],
 "metadata": {
  "kernelspec": {
   "display_name": "Python 3",
   "language": "python",
   "name": "python3"
  },
  "language_info": {
   "codemirror_mode": {
    "name": "ipython",
    "version": 3
   },
   "file_extension": ".py",
   "mimetype": "text/x-python",
   "name": "python",
   "nbconvert_exporter": "python",
   "pygments_lexer": "ipython3",
   "version": "3.8.8"
  }
 },
 "nbformat": 4,
 "nbformat_minor": 5
}
